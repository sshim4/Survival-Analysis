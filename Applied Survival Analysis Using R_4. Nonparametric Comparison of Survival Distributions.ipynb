{
 "cells": [
  {
   "cell_type": "code",
   "execution_count": 1,
   "id": "6f7f228a",
   "metadata": {},
   "outputs": [
    {
     "name": "stdout",
     "output_type": "stream",
     "text": [
      "Last updated  Tue Oct 11 17:40:28 2022"
     ]
    }
   ],
   "source": [
    "cat('Last updated ', date())"
   ]
  },
  {
   "cell_type": "markdown",
   "id": "00c1c33a",
   "metadata": {},
   "source": [
    "# Applied Survival Analysis Using R \n",
    "### Book by Dirk F. Moore"
   ]
  },
  {
   "cell_type": "markdown",
   "id": "3a421c0a",
   "metadata": {},
   "source": [
    "## 4. Nonparametric Comparison of Survival Distributions"
   ]
  },
  {
   "cell_type": "markdown",
   "id": "db492358",
   "metadata": {},
   "source": [
    "* Note : This note book is created with R in Jupyter Notebook.\n",
    "* Note : I made this note book by coping graphs of the book. Additional R code in addition to the book is added if necessary.  For detail explanation, refer the book. "
   ]
  },
  {
   "cell_type": "code",
   "execution_count": 2,
   "id": "8759d0d3",
   "metadata": {},
   "outputs": [
    {
     "data": {
      "text/plain": [
       "               _                           \n",
       "platform       x86_64-w64-mingw32          \n",
       "arch           x86_64                      \n",
       "os             mingw32                     \n",
       "system         x86_64, mingw32             \n",
       "status                                     \n",
       "major          4                           \n",
       "minor          1.3                         \n",
       "year           2022                        \n",
       "month          03                          \n",
       "day            10                          \n",
       "svn rev        81868                       \n",
       "language       R                           \n",
       "version.string R version 4.1.3 (2022-03-10)\n",
       "nickname       One Push-Up                 "
      ]
     },
     "metadata": {},
     "output_type": "display_data"
    }
   ],
   "source": [
    "R.version"
   ]
  },
  {
   "cell_type": "markdown",
   "id": "a72d4eac",
   "metadata": {},
   "source": [
    "## 4.1 Comparing Two Groups of Survival Time"
   ]
  },
  {
   "cell_type": "markdown",
   "id": "e60eef8a",
   "metadata": {},
   "source": [
    "### Example 4.1 Consider a hypothetical comparative clinical trial with six subjects assigned to either a control or treatment group."
   ]
  },
  {
   "cell_type": "markdown",
   "id": "0907de90",
   "metadata": {},
   "source": [
    "To test hypothesis two groups of survival time, the functon survdiff shows the chi-square statistics."
   ]
  },
  {
   "cell_type": "code",
   "execution_count": 3,
   "id": "f997f0e3",
   "metadata": {},
   "outputs": [],
   "source": [
    "library(survival)"
   ]
  },
  {
   "cell_type": "code",
   "execution_count": 4,
   "id": "99457a8c",
   "metadata": {
    "scrolled": true
   },
   "outputs": [
    {
     "data": {
      "text/plain": [
       "Call:\n",
       "survdiff(formula = Surv(tt, delta) ~ trt)\n",
       "\n",
       "      N Observed Expected (O-E)^2/E (O-E)^2/V\n",
       "trt=0 3        2     1.08     0.776      1.27\n",
       "trt=1 3        2     2.92     0.288      1.27\n",
       "\n",
       " Chisq= 1.3  on 1 degrees of freedom, p= 0.3 "
      ]
     },
     "metadata": {},
     "output_type": "display_data"
    }
   ],
   "source": [
    "tt <- c(6, 7, 10, 15, 19, 25) # Surviv time\n",
    "delta <- c(1, 0, 1, 1, 0, 1) # Censor\n",
    "trt <- c(0, 0, 1, 0, 1, 1) # Group\n",
    "survdiff(Surv(tt, delta) ~ trt)"
   ]
  },
  {
   "cell_type": "markdown",
   "id": "15a3c019",
   "metadata": {},
   "source": [
    "* The p-value=0.3, indicating that the group difference is not statistically significant. (We fail to reject the null hypothesis)"
   ]
  },
  {
   "cell_type": "markdown",
   "id": "2227a3b8",
   "metadata": {},
   "source": [
    "### Example 4.2 We want to test hypothesis if two stages has different survival time in the data set \"pancreatic\" in the \"asaur\" package. \n",
    "\n",
    "* Locally advanced pancreatic cancer (LAPC)\n",
    "* Metastatic pancreatic cancer (MPC)"
   ]
  },
  {
   "cell_type": "code",
   "execution_count": 5,
   "id": "b5cd972b",
   "metadata": {},
   "outputs": [],
   "source": [
    "# install.packages('asaur')"
   ]
  },
  {
   "cell_type": "code",
   "execution_count": 6,
   "id": "ac776ec2",
   "metadata": {},
   "outputs": [],
   "source": [
    "library(asaur)"
   ]
  },
  {
   "cell_type": "code",
   "execution_count": 7,
   "id": "80b78e0b",
   "metadata": {
    "scrolled": true
   },
   "outputs": [
    {
     "data": {
      "text/html": [
       "<table class=\"dataframe\">\n",
       "<caption>A data.frame: 6 × 4</caption>\n",
       "<thead>\n",
       "\t<tr><th></th><th scope=col>stage</th><th scope=col>onstudy</th><th scope=col>progression</th><th scope=col>death</th></tr>\n",
       "\t<tr><th></th><th scope=col>&lt;fct&gt;</th><th scope=col>&lt;fct&gt;</th><th scope=col>&lt;fct&gt;</th><th scope=col>&lt;fct&gt;</th></tr>\n",
       "</thead>\n",
       "<tbody>\n",
       "\t<tr><th scope=row>1</th><td>M </td><td>12/16/2005</td><td>2/2/2006 </td><td>10/19/2006</td></tr>\n",
       "\t<tr><th scope=row>2</th><td>M </td><td>1/6/2006  </td><td>2/26/2006</td><td>4/19/2006 </td></tr>\n",
       "\t<tr><th scope=row>3</th><td>LA</td><td>2/3/2006  </td><td>8/2/2006 </td><td>1/19/2007 </td></tr>\n",
       "\t<tr><th scope=row>4</th><td>M </td><td>3/30/2006 </td><td>.        </td><td>5/11/2006 </td></tr>\n",
       "\t<tr><th scope=row>5</th><td>LA</td><td>4/27/2006 </td><td>3/11/2007</td><td>5/29/2007 </td></tr>\n",
       "\t<tr><th scope=row>6</th><td>M </td><td>5/7/2006  </td><td>6/25/2006</td><td>10/11/2006</td></tr>\n",
       "</tbody>\n",
       "</table>\n"
      ],
      "text/latex": [
       "A data.frame: 6 × 4\n",
       "\\begin{tabular}{r|llll}\n",
       "  & stage & onstudy & progression & death\\\\\n",
       "  & <fct> & <fct> & <fct> & <fct>\\\\\n",
       "\\hline\n",
       "\t1 & M  & 12/16/2005 & 2/2/2006  & 10/19/2006\\\\\n",
       "\t2 & M  & 1/6/2006   & 2/26/2006 & 4/19/2006 \\\\\n",
       "\t3 & LA & 2/3/2006   & 8/2/2006  & 1/19/2007 \\\\\n",
       "\t4 & M  & 3/30/2006  & .         & 5/11/2006 \\\\\n",
       "\t5 & LA & 4/27/2006  & 3/11/2007 & 5/29/2007 \\\\\n",
       "\t6 & M  & 5/7/2006   & 6/25/2006 & 10/11/2006\\\\\n",
       "\\end{tabular}\n"
      ],
      "text/markdown": [
       "\n",
       "A data.frame: 6 × 4\n",
       "\n",
       "| <!--/--> | stage &lt;fct&gt; | onstudy &lt;fct&gt; | progression &lt;fct&gt; | death &lt;fct&gt; |\n",
       "|---|---|---|---|---|\n",
       "| 1 | M  | 12/16/2005 | 2/2/2006  | 10/19/2006 |\n",
       "| 2 | M  | 1/6/2006   | 2/26/2006 | 4/19/2006  |\n",
       "| 3 | LA | 2/3/2006   | 8/2/2006  | 1/19/2007  |\n",
       "| 4 | M  | 3/30/2006  | .         | 5/11/2006  |\n",
       "| 5 | LA | 4/27/2006  | 3/11/2007 | 5/29/2007  |\n",
       "| 6 | M  | 5/7/2006   | 6/25/2006 | 10/11/2006 |\n",
       "\n"
      ],
      "text/plain": [
       "  stage onstudy    progression death     \n",
       "1 M     12/16/2005 2/2/2006    10/19/2006\n",
       "2 M     1/6/2006   2/26/2006   4/19/2006 \n",
       "3 LA    2/3/2006   8/2/2006    1/19/2007 \n",
       "4 M     3/30/2006  .           5/11/2006 \n",
       "5 LA    4/27/2006  3/11/2007   5/29/2007 \n",
       "6 M     5/7/2006   6/25/2006   10/11/2006"
      ]
     },
     "metadata": {},
     "output_type": "display_data"
    }
   ],
   "source": [
    "head(pancreatic)"
   ]
  },
  {
   "cell_type": "markdown",
   "id": "6c29514c",
   "metadata": {},
   "source": [
    "* Stage : M (MPC), LA(LAPC)\n",
    "* onstudy: the date of entry\n",
    "* progression: if that was observed before death\n",
    "* death: the date of date\n",
    "\n",
    "\n",
    "* Paient4 died with no recoreded progression. SO, the person's PFS(Progression-free survival) is time to death. For the five other patients in this list the PFS is time to the date of progression."
   ]
  },
  {
   "cell_type": "code",
   "execution_count": 8,
   "id": "5c82c45b",
   "metadata": {},
   "outputs": [],
   "source": [
    "attach(pancreatic)"
   ]
  },
  {
   "cell_type": "markdown",
   "id": "47890d40",
   "metadata": {},
   "source": [
    "__Note__ to download the data as excel data into your computer, set the directory and write \"write.csv\" "
   ]
  },
  {
   "cell_type": "code",
   "execution_count": 9,
   "id": "687557fa",
   "metadata": {},
   "outputs": [],
   "source": [
    "setwd('C:/Users/shims/Desktop/Bio-Statistics/Survival Analysis Study2') "
   ]
  },
  {
   "cell_type": "code",
   "execution_count": 10,
   "id": "b87ef31b",
   "metadata": {},
   "outputs": [],
   "source": [
    "pancreatic <- write.csv(pancreatic,\"pancreatic.csv\")"
   ]
  },
  {
   "cell_type": "markdown",
   "id": "c9b5631d",
   "metadata": {},
   "source": [
    "__convert the text dates into R dates__"
   ]
  },
  {
   "cell_type": "code",
   "execution_count": 11,
   "id": "c1e0cc00",
   "metadata": {},
   "outputs": [],
   "source": [
    "# Code in the book\n",
    "# Progression.d <- as.Date(as.character(progression))\n",
    "# OnStudy.d <- as.Date (as.character(onstudy))\n",
    "# Death.d <- as.Date (as.character(death))"
   ]
  },
  {
   "cell_type": "code",
   "execution_count": 12,
   "id": "ce032d0b",
   "metadata": {},
   "outputs": [],
   "source": [
    "Progression.d <- as.Date(progression, format = \"%m/%d/%Y\")\n",
    "OnStudy.d <- as.Date(onstudy, format = \"%m/%d/%Y\")\n",
    "Death.d <- as.Date(death, format = \"%m/%d/%Y\")"
   ]
  },
  {
   "cell_type": "markdown",
   "id": "8d3e6fb9",
   "metadata": {},
   "source": [
    "__compute progression-free survival__"
   ]
  },
  {
   "cell_type": "code",
   "execution_count": 13,
   "id": "458b81da",
   "metadata": {},
   "outputs": [],
   "source": [
    "progressionOnly <- Progression.d - OnStudy.d\n",
    "overallSurvival <- Death.d - OnStudy.d\n",
    "pfs <- progressionOnly\n",
    "pfs[is.na(pfs)] <- overallSurvival [is.na(pfs)] # days"
   ]
  },
  {
   "cell_type": "code",
   "execution_count": 14,
   "id": "56aa97c9",
   "metadata": {},
   "outputs": [
    {
     "data": {
      "text/html": [
       "<time datetime=\"2006-02-02\">2006-02-02</time>"
      ],
      "text/latex": [
       "2006-02-02"
      ],
      "text/markdown": [
       "2006-02-02"
      ],
      "text/plain": [
       "[1] \"2006-02-02\""
      ]
     },
     "metadata": {},
     "output_type": "display_data"
    },
    {
     "data": {
      "text/html": [
       "<time datetime=\"2005-12-16\">2005-12-16</time>"
      ],
      "text/latex": [
       "2005-12-16"
      ],
      "text/markdown": [
       "2005-12-16"
      ],
      "text/plain": [
       "[1] \"2005-12-16\""
      ]
     },
     "metadata": {},
     "output_type": "display_data"
    },
    {
     "data": {
      "text/plain": [
       "Time difference of 48 days"
      ]
     },
     "metadata": {},
     "output_type": "display_data"
    }
   ],
   "source": [
    "# Example1\n",
    "Progression.d[1]\n",
    "OnStudy.d[1]\n",
    "pfs[1]"
   ]
  },
  {
   "cell_type": "code",
   "execution_count": 15,
   "id": "1e8982ec",
   "metadata": {},
   "outputs": [
    {
     "data": {
      "text/html": [
       "<time datetime=\"&lt;NA&gt;\">&lt;NA&gt;</time>"
      ],
      "text/latex": [
       "<NA>"
      ],
      "text/markdown": [
       "&lt;NA&gt;"
      ],
      "text/plain": [
       "[1] NA"
      ]
     },
     "metadata": {},
     "output_type": "display_data"
    },
    {
     "data": {
      "text/html": [
       "<time datetime=\"2006-05-11\">2006-05-11</time>"
      ],
      "text/latex": [
       "2006-05-11"
      ],
      "text/markdown": [
       "2006-05-11"
      ],
      "text/plain": [
       "[1] \"2006-05-11\""
      ]
     },
     "metadata": {},
     "output_type": "display_data"
    },
    {
     "data": {
      "text/html": [
       "<time datetime=\"2006-03-30\">2006-03-30</time>"
      ],
      "text/latex": [
       "2006-03-30"
      ],
      "text/markdown": [
       "2006-03-30"
      ],
      "text/plain": [
       "[1] \"2006-03-30\""
      ]
     },
     "metadata": {},
     "output_type": "display_data"
    },
    {
     "data": {
      "text/plain": [
       "Time difference of 42 days"
      ]
     },
     "metadata": {},
     "output_type": "display_data"
    }
   ],
   "source": [
    "# Example2\n",
    "Progression.d[4]\n",
    "Death.d[4]\n",
    "OnStudy.d[4]\n",
    "pfs[4]"
   ]
  },
  {
   "cell_type": "markdown",
   "id": "f0c00ccf",
   "metadata": {},
   "source": [
    "__convert pfs to months__"
   ]
  },
  {
   "cell_type": "code",
   "execution_count": 16,
   "id": "05a877f8",
   "metadata": {},
   "outputs": [],
   "source": [
    "pfs.month <- pfs /30.5"
   ]
  },
  {
   "cell_type": "markdown",
   "id": "ecf10cca",
   "metadata": {},
   "source": [
    "note that no observations are censored . This is advanced stage pancreatic cancer ."
   ]
  },
  {
   "cell_type": "code",
   "execution_count": 17,
   "id": "eb4c4367",
   "metadata": {},
   "outputs": [],
   "source": [
    "library(survival)"
   ]
  },
  {
   "cell_type": "code",
   "execution_count": 18,
   "id": "386e4cc3",
   "metadata": {
    "scrolled": false
   },
   "outputs": [
    {
     "data": {
      "image/png": "[encoded data removed]",
      "text/plain": [
       "Plot with title \"Pancreatic Cancer Survival\""
      ]
     },
     "metadata": {
      "image/png": {
       "height": 600,
       "width": 600
      }
     },
     "output_type": "display_data"
    }
   ],
   "source": [
    "options(repr.plot.width=10, repr.plot.height=10)\n",
    "\n",
    "plot (survfit( Surv (pfs.month) ~ stage ) , xlab =\"Time in months \" ,\n",
    "ylab =\" Survival probability \", ylim = c(0,1), col=c (\" blue \" , \" red \") , lwd=2, main='Pancreatic Cancer Survival')\n",
    "\n",
    "legend (\"topright\" , legend=c (\" Locally advanced \" , \" Metastatic \") ,\n",
    "col=c(\"blue\" ,\"red\") , lwd=2)"
   ]
  },
  {
   "cell_type": "markdown",
   "id": "94972f40",
   "metadata": {},
   "source": [
    "__The log-rank test__"
   ]
  },
  {
   "cell_type": "code",
   "execution_count": 19,
   "id": "67f9e4b0",
   "metadata": {},
   "outputs": [
    {
     "data": {
      "text/plain": [
       "Call:\n",
       "survdiff(formula = Surv(pfs) ~ stage, rho = 0)\n",
       "\n",
       "          N Observed Expected (O-E)^2/E (O-E)^2/V\n",
       "stage=LA  8        8     12.3      1.49      2.25\n",
       "stage=M  33       33     28.7      0.64      2.25\n",
       "\n",
       " Chisq= 2.2  on 1 degrees of freedom, p= 0.1 "
      ]
     },
     "metadata": {},
     "output_type": "display_data"
    }
   ],
   "source": [
    "survdiff(Surv(pfs) ~ stage, rho=0)\n",
    "\n",
    "#rho=0 is default value, thus it does not need to be specified."
   ]
  },
  {
   "cell_type": "markdown",
   "id": "aa634fb3",
   "metadata": {},
   "source": [
    "The value of chi-square statistics is 2.2 with 1 degrees of freedom, and the p-value is 0.1, which is not statistically significant between two groups."
   ]
  },
  {
   "cell_type": "markdown",
   "id": "2a687f66",
   "metadata": {},
   "source": [
    "__If we use the Prentice modification, we must use $\\rho = 1$__"
   ]
  },
  {
   "cell_type": "code",
   "execution_count": 20,
   "id": "7798fa1b",
   "metadata": {},
   "outputs": [
    {
     "data": {
      "text/plain": [
       "Call:\n",
       "survdiff(formula = Surv(pfs) ~ stage, rho = 1)\n",
       "\n",
       "          N Observed Expected (O-E)^2/E (O-E)^2/V\n",
       "stage=LA  8     2.34     5.88     2.128      4.71\n",
       "stage=M  33    18.76    15.22     0.822      4.71\n",
       "\n",
       " Chisq= 4.7  on 1 degrees of freedom, p= 0.03 "
      ]
     },
     "metadata": {},
     "output_type": "display_data"
    }
   ],
   "source": [
    " survdiff(Surv(pfs) ~ stage, rho=1)"
   ]
  },
  {
   "cell_type": "markdown",
   "id": "84123609",
   "metadata": {},
   "source": [
    "Here, the p-value is 0.03, which is significantly the two groups are different at the $\\alpha$ level 0.05. This version of the test places __higer weight on earlier survival times.__ From the Fig. 4.2, we see the difference between the two curves before the time = 10. But the survival curves converge after about 10 months. This issue will be discussed later when we have time dependent covariaes and non-proportional hazards."
   ]
  },
  {
   "cell_type": "code",
   "execution_count": 21,
   "id": "62438eab",
   "metadata": {},
   "outputs": [],
   "source": [
    "detach(pancreatic)"
   ]
  },
  {
   "cell_type": "markdown",
   "id": "203c5b5b",
   "metadata": {},
   "source": [
    "## 4.2 Stratified Tests"
   ]
  },
  {
   "cell_type": "markdown",
   "id": "a8dbfcf5",
   "metadata": {},
   "source": [
    "If there is a need to compare two groups while adjusting for another covariate, there are two approaches one can use.\n",
    "    \n",
    "* One way is to include the other covariate (or multiple covariates) as regression terms for the hazard function (Chapter 5)\n",
    "* Alternavively, if the covariate we are adjusting for is categorical with a small number of levels G, we may construct a stratified log-rank test. "
   ]
  },
  {
   "cell_type": "markdown",
   "id": "f8129182",
   "metadata": {},
   "source": [
    "As an example, consider the data set \"pharmasoSmoking\" in the \"asaur\" package. <br>\n",
    "The primary goal is to compare the time to return to smoking between two treatmenet groups. We use a log-rank test to compare the two groups. "
   ]
  },
  {
   "cell_type": "code",
   "execution_count": 22,
   "id": "233bdcff",
   "metadata": {},
   "outputs": [],
   "source": [
    "library(asaur)"
   ]
  },
  {
   "cell_type": "code",
   "execution_count": 23,
   "id": "f6462ee1",
   "metadata": {},
   "outputs": [],
   "source": [
    "?pharmacoSmoking"
   ]
  },
  {
   "cell_type": "code",
   "execution_count": 24,
   "id": "8711bcfd",
   "metadata": {},
   "outputs": [],
   "source": [
    "attach (pharmacoSmoking)"
   ]
  },
  {
   "cell_type": "code",
   "execution_count": 25,
   "id": "2b7fed8a",
   "metadata": {},
   "outputs": [
    {
     "data": {
      "text/plain": [
       "Call:\n",
       "survdiff(formula = Surv(ttr, relapse) ~ grp)\n",
       "\n",
       "                 N Observed Expected (O-E)^2/E (O-E)^2/V\n",
       "grp=combination 61       37     49.9      3.36      8.03\n",
       "grp=patchOnly   64       52     39.1      4.29      8.03\n",
       "\n",
       " Chisq= 8  on 1 degrees of freedom, p= 0.005 "
      ]
     },
     "metadata": {},
     "output_type": "display_data"
    }
   ],
   "source": [
    "survdiff(Surv(ttr, relapse) ~ grp)"
   ]
  },
  {
   "cell_type": "markdown",
   "id": "12a5ac09",
   "metadata": {},
   "source": [
    "If we think the group comparison may differ by age, we may define a categorical variable using age. <br> ageGroup2 devides the age into two groups, 1. 21-49 , 2. 50+"
   ]
  },
  {
   "cell_type": "code",
   "execution_count": 26,
   "id": "61360be3",
   "metadata": {},
   "outputs": [
    {
     "data": {
      "text/plain": [
       "ageGroup2\n",
       "21-49   50+ \n",
       "   66    59 "
      ]
     },
     "metadata": {},
     "output_type": "display_data"
    }
   ],
   "source": [
    " table(ageGroup2)"
   ]
  },
  {
   "cell_type": "markdown",
   "id": "c27af0cd",
   "metadata": {},
   "source": [
    "The log-rank test stratified on \"ageGroup2\" is below."
   ]
  },
  {
   "cell_type": "markdown",
   "id": "6841b5f7",
   "metadata": {},
   "source": [
    "* ttr: Time in days until relapse\n",
    "* relapse: Indicator of relapse (return to smoking)\n",
    "* grp: Randomly assigned treatment group with levels combination or patchOnly\n",
    "* ageGroup2: Age group with levels 21-49 or 50+"
   ]
  },
  {
   "cell_type": "code",
   "execution_count": 27,
   "id": "c6336717",
   "metadata": {},
   "outputs": [],
   "source": [
    "library(survival) "
   ]
  },
  {
   "cell_type": "code",
   "execution_count": 28,
   "id": "4897a2f6",
   "metadata": {
    "scrolled": true
   },
   "outputs": [
    {
     "data": {
      "text/plain": [
       "Call:\n",
       "survdiff(formula = Surv(ttr, relapse) ~ grp + strata(ageGroup2))\n",
       "\n",
       "                 N Observed Expected (O-E)^2/E (O-E)^2/V\n",
       "grp=combination 61       37     49.1      2.99      7.03\n",
       "grp=patchOnly   64       52     39.9      3.68      7.03\n",
       "\n",
       " Chisq= 7  on 1 degrees of freedom, p= 0.008 "
      ]
     },
     "metadata": {},
     "output_type": "display_data"
    }
   ],
   "source": [
    "survdiff(Surv(ttr, relapse) ~ grp + strata(ageGroup2))"
   ]
  },
  {
   "cell_type": "markdown",
   "id": "95a6eff5",
   "metadata": {},
   "source": [
    "The chi-square test differs only slightly from the unadjusted value, indicating that it was necessary to stratify on thie variable. (but the p-value is smaller than 0.05)"
   ]
  },
  {
   "cell_type": "code",
   "execution_count": 29,
   "id": "36375e6e",
   "metadata": {},
   "outputs": [],
   "source": [
    "detach (pharmacoSmoking)"
   ]
  },
  {
   "cell_type": "markdown",
   "id": "6931d525",
   "metadata": {},
   "source": [
    "### Example 4.3: the impact of a confounder"
   ]
  },
  {
   "cell_type": "markdown",
   "id": "5db91bf0",
   "metadata": {},
   "source": [
    "We use a simulated data in this example. <br>\n",
    "Suppose...\n",
    "* a simulated data set from a clinical trial comparing a standard therapy (control) to an experimental therpy (treated)\n",
    "* the survival times are exponentially distributed.\n",
    "* no censoring\n",
    "* there exists a confounding variable \"genotype\" , either wild type (normal) or mutant. Patients carrying the mutant genotype have a considerably poorer prognosis.\n",
    "<br>\n",
    "\n",
    "* The hazard rate for a mutant patient in the control group at 0.03 per day\n",
    "* The hazard rate for wild type patient is reduced by a factor of 0.2 as compared to mutant patients.\n",
    "* The effect of treatment for a mutant patient is to reduce the hazard by a factor of 0.55. (same effect of treatment on the wild type patients)\n",
    "\n"
   ]
  },
  {
   "cell_type": "markdown",
   "id": "dd344523",
   "metadata": {},
   "source": [
    "__(0) Set up the four hazard rates__"
   ]
  },
  {
   "cell_type": "code",
   "execution_count": 30,
   "id": "f53b31a4",
   "metadata": {},
   "outputs": [],
   "source": [
    "lambda.mutant.0 <- 0.03 # mutant in the control\n",
    "lambda.mutant.1 <- 0.03*0.55 # mutant in the treatment\n",
    "lambda.wt.0 <- 0.03*0.2 # wild in the control\n",
    "lambda.wt.1 <- 0.03*0.2*0.55 # wild in the treatment"
   ]
  },
  {
   "cell_type": "markdown",
   "id": "da614a75",
   "metadata": {},
   "source": [
    "__(1) Set a \"seed\" for the random variable generator, so that this example produce same output each time.__"
   ]
  },
  {
   "cell_type": "code",
   "execution_count": 31,
   "id": "2588b300",
   "metadata": {},
   "outputs": [],
   "source": [
    "set.seed(4321)"
   ]
  },
  {
   "cell_type": "markdown",
   "id": "9e545e97",
   "metadata": {},
   "source": [
    "__(2) generate exponential randomvariables and string them together in to the variable \"ttAll\"__"
   ]
  },
  {
   "cell_type": "code",
   "execution_count": 32,
   "id": "5a579f0d",
   "metadata": {},
   "outputs": [],
   "source": [
    "tt.control.mutant <- rexp(25, rate=lambda.mutant.0)\n",
    "tt.treat.mutant <- rexp(125, rate=lambda.mutant.1)\n",
    "tt.control.wt <- rexp(125, rate=lambda.wt.0)\n",
    "tt.treat.wt <- rexp(25, rate=lambda.wt.1)\n",
    "ttAll <- c(tt.control.mutant, tt.treat.mutant, tt.control.wt,\n",
    "tt.treat.wt)"
   ]
  },
  {
   "cell_type": "markdown",
   "id": "383bc902",
   "metadata": {},
   "source": [
    "__(3) create the consoring variagle \"status\"__"
   ]
  },
  {
   "cell_type": "code",
   "execution_count": 33,
   "id": "7fb4f2bb",
   "metadata": {},
   "outputs": [],
   "source": [
    "status <- rep(1, length(ttAll))"
   ]
  },
  {
   "cell_type": "markdown",
   "id": "e50a7cc7",
   "metadata": {},
   "source": [
    "__(4) create the treatment variable \"trt\" and genotype variable__"
   ]
  },
  {
   "cell_type": "code",
   "execution_count": 34,
   "id": "c572bcb6",
   "metadata": {},
   "outputs": [],
   "source": [
    "genotype <- c(rep(\"mutant\", 150), rep(\"wt\", 150))\n",
    "trt <- c(rep(0, 25), rep(1, 125), rep(0, 125), rep(1, 25))"
   ]
  },
  {
   "cell_type": "markdown",
   "id": "dd8ac19f",
   "metadata": {},
   "source": [
    "__(5) compare two groups: control, treatment using the log-rank test__"
   ]
  },
  {
   "cell_type": "code",
   "execution_count": 35,
   "id": "562cd96a",
   "metadata": {},
   "outputs": [],
   "source": [
    "library(survival) "
   ]
  },
  {
   "cell_type": "code",
   "execution_count": 36,
   "id": "ed19be52",
   "metadata": {},
   "outputs": [
    {
     "data": {
      "text/plain": [
       "Call:\n",
       "survdiff(formula = Surv(ttAll, status) ~ trt)\n",
       "\n",
       "        N Observed Expected (O-E)^2/E (O-E)^2/V\n",
       "trt=0 150      150      183      6.00      15.9\n",
       "trt=1 150      150      117      9.41      15.9\n",
       "\n",
       " Chisq= 15.9  on 1 degrees of freedom, p= 7e-05 "
      ]
     },
     "metadata": {},
     "output_type": "display_data"
    }
   ],
   "source": [
    "survdiff(Surv(ttAll, status) ~ trt)"
   ]
  },
  {
   "cell_type": "markdown",
   "id": "680ff2ac",
   "metadata": {},
   "source": [
    "The log_rank test appears to confirm this with a very strong p-value."
   ]
  },
  {
   "cell_type": "markdown",
   "id": "7bcb024b",
   "metadata": {},
   "source": [
    "__(6) Draw a graph__"
   ]
  },
  {
   "cell_type": "markdown",
   "id": "21e799ff",
   "metadata": {},
   "source": [
    "### Fig. 4.3 Comparison of the Kaplan-Meier survival curves for two treatments ignoring the gene confounder (left) and accounting for it (right)"
   ]
  },
  {
   "cell_type": "code",
   "execution_count": 37,
   "id": "0d42a971",
   "metadata": {},
   "outputs": [],
   "source": [
    "result.km1 <- survfit(Surv(ttAll, status) ~ trt)\n",
    "result.km2 <- survfit(Surv(ttAll, status) ~ trt + genotype)"
   ]
  },
  {
   "cell_type": "code",
   "execution_count": 38,
   "id": "a7f42bc7",
   "metadata": {},
   "outputs": [],
   "source": [
    "library(repr)"
   ]
  },
  {
   "cell_type": "code",
   "execution_count": 39,
   "id": "061fedab",
   "metadata": {},
   "outputs": [
    {
     "data": {
      "image/png": "[encoded data removed]",
      "text/plain": [
       "Plot with title \"Kaplan-Meier survival cuvees for two treatment with the gene conforunder\""
      ]
     },
     "metadata": {
      "image/png": {
       "height": 600,
       "width": 1200
      }
     },
     "output_type": "display_data"
    }
   ],
   "source": [
    "par(mfrow = c(1,2)) \n",
    "# windows(height = 0.1, width = 3.5)\n",
    "options(repr.plot.width=20, repr.plot.height=10)\n",
    "plot(result.km1, conf.int=F, col=c('red', 'blue'), xlim=c(0,500), main='Kaplan-Meier survival cuvees for two treatment ignoring the gene conforunder', \n",
    "    ylab='Survival probability', xlab='Time in days',\n",
    "    cex.lab=1.5, cex.axis=1.5, cex.sub=1.5, cex.main=1.5, lwd=3)\n",
    "\n",
    "legend(\"topright\", legend=c(\"control\", \"treated\"), lty=1, col=c('red','blue'), \n",
    "       lwd=3, #line width\n",
    "       adj=1, # adjust text location (closed to the line)\n",
    "       text.width=1, # box scale\n",
    "       cex=1.5, # scale up\n",
    "       seg.len=0.9, # line length\n",
    "       y.intersp=0.7, # length between line\n",
    "#        x.intersp=0.1,  # space between line and text\n",
    "      )\n",
    "\n",
    "\n",
    "plot(result.km2, conf.int=F, col=c('red', 'red', 'blue', 'blue'), xlim=c(0,500), lty=c(1,2,1,2)\n",
    "    , main='Kaplan-Meier survival cuvees for two treatment with the gene conforunder',  \n",
    "    ylab='Survival probability', xlab='Time in days',\n",
    "    cex.lab=1.5, cex.axis=1.5, cex.sub=1.5, cex.main=1.5, lwd=3)\n",
    "\n",
    "\n",
    "\n",
    "legend(\"topright\", legend=c(\"control mutant\", \"treated mutant\",\"control wildtype\", \"treated wildtype\"), \n",
    "       lty=c(1,2,1,2),\n",
    "       col=c('red', 'red', 'blue', 'blue'), \n",
    "       lwd=3, #line width\n",
    "#        rect=c(10,10,400,0.8),\n",
    "       cex=1.5, # scale up\n",
    "       seg.len=0.9, # line length\n",
    "#        adj=0.4, # adjust text location (closed to the line)\n",
    "       text.width=95, # box scale\n",
    "       y.intersp=0.7, # length between line\n",
    "       x.intersp=0.2,  # space between line and text\n",
    "      )\n"
   ]
  },
  {
   "cell_type": "markdown",
   "id": "ca0de5c2",
   "metadata": {},
   "source": [
    "However, when we plot the survival curves comparing treatment to control separately for the mutant and wild type patients, we see that within each genotype the treatment is actully superior to the control. We can confirm this using  a stratified log-rank test. "
   ]
  },
  {
   "cell_type": "code",
   "execution_count": 40,
   "id": "8df8f8bb",
   "metadata": {},
   "outputs": [
    {
     "data": {
      "text/plain": [
       "Call:\n",
       "survdiff(formula = Surv(ttAll, status) ~ trt + strata(genotype))\n",
       "\n",
       "        N Observed Expected (O-E)^2/E (O-E)^2/V\n",
       "trt=0 150      150      133      2.17      7.57\n",
       "trt=1 150      150      167      1.73      7.57\n",
       "\n",
       " Chisq= 7.6  on 1 degrees of freedom, p= 0.006 "
      ]
     },
     "metadata": {},
     "output_type": "display_data"
    }
   ],
   "source": [
    "survdiff(Surv(ttAll, status) ~ trt + strata(genotype))"
   ]
  },
  {
   "cell_type": "markdown",
   "id": "e41366d0",
   "metadata": {},
   "source": [
    "The p-value shows that the difference is highly significant. However, the function \"survdiff\" does not tell which treatment is the superior one. So it is importnt to also consult the plot to ascertain the directional effect of treatment. "
   ]
  },
  {
   "cell_type": "markdown",
   "id": "b78b2c7b",
   "metadata": {},
   "source": [
    "The explanation for the confounding is that (1) the treatment improves survival\n",
    "compared to the control, (2) patients carrying the wild type form of the gene\n",
    "have better survival than do patients carrying the mutation, and (3) there are more\n",
    "mutation-carrying patients in the treatment group than in the control group, whereas\n",
    "the reverse is true for wild type patients."
   ]
  }
 ],
 "metadata": {
  "kernelspec": {
   "display_name": "R",
   "language": "R",
   "name": "ir"
  },
  "language_info": {
   "codemirror_mode": "r",
   "file_extension": ".r",
   "mimetype": "text/x-r-source",
   "name": "R",
   "pygments_lexer": "r",
   "version": "4.1.3"
  }
 },
 "nbformat": 4,
 "nbformat_minor": 5
}
