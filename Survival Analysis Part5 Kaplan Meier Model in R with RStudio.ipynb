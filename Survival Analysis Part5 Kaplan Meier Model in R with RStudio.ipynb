{
 "cells": [
  {
   "cell_type": "markdown",
   "id": "b9d19b09",
   "metadata": {},
   "source": [
    "# <span style=\"color:MidnightBlue\">Part 4: Kaplan Meier Model</span>.\n",
    "\n",
    "https://www.youtube.com/watch?v=VJPPeUpyC6c&list=PLqzoL9-eJTNDdnKvep_YHIwk2AMqHhuJ0&index=4"
   ]
  },
  {
   "cell_type": "markdown",
   "id": "cee9db64",
   "metadata": {},
   "source": [
    "# <span style=\"color:MidnightBlue\"> Part 5 | Kaplan Meier Model in R with RStudio</span>.\n",
    "\n",
    "https://www.youtube.com/watch?v=6_AF9mMuk9E&list=PLqzoL9-eJTNDdnKvep_YHIwk2AMqHhuJ0&index=5"
   ]
  },
  {
   "cell_type": "markdown",
   "id": "79300b0c",
   "metadata": {},
   "source": [
    "Note : This note book is created with R in Jupyter Notebook instead of R studio"
   ]
  },
  {
   "cell_type": "code",
   "execution_count": 1,
   "id": "21ef5fca",
   "metadata": {},
   "outputs": [
    {
     "data": {
      "text/plain": [
       "               _                           \n",
       "platform       x86_64-w64-mingw32          \n",
       "arch           x86_64                      \n",
       "os             mingw32                     \n",
       "system         x86_64, mingw32             \n",
       "status                                     \n",
       "major          4                           \n",
       "minor          1.3                         \n",
       "year           2022                        \n",
       "month          03                          \n",
       "day            10                          \n",
       "svn rev        81868                       \n",
       "language       R                           \n",
       "version.string R version 4.1.3 (2022-03-10)\n",
       "nickname       One Push-Up                 "
      ]
     },
     "metadata": {},
     "output_type": "display_data"
    }
   ],
   "source": [
    "R.version"
   ]
  },
  {
   "cell_type": "markdown",
   "id": "9cf226cd",
   "metadata": {},
   "source": [
    "### <span style=\"color:MidnightBlue\"> 1. Data preperation</span>."
   ]
  },
  {
   "cell_type": "code",
   "execution_count": 2,
   "id": "2f49b7b2",
   "metadata": {},
   "outputs": [
    {
     "data": {
      "text/html": [
       "<table class=\"dataframe\">\n",
       "<caption>A data.frame: 12 × 2</caption>\n",
       "<thead>\n",
       "\t<tr><th scope=col>Time</th><th scope=col>Death</th></tr>\n",
       "\t<tr><th scope=col>&lt;dbl&gt;</th><th scope=col>&lt;dbl&gt;</th></tr>\n",
       "</thead>\n",
       "<tbody>\n",
       "\t<tr><td> 2</td><td>1</td></tr>\n",
       "\t<tr><td> 3</td><td>0</td></tr>\n",
       "\t<tr><td> 6</td><td>1</td></tr>\n",
       "\t<tr><td> 6</td><td>1</td></tr>\n",
       "\t<tr><td> 7</td><td>1</td></tr>\n",
       "\t<tr><td>10</td><td>0</td></tr>\n",
       "\t<tr><td>15</td><td>1</td></tr>\n",
       "\t<tr><td>15</td><td>1</td></tr>\n",
       "\t<tr><td>16</td><td>1</td></tr>\n",
       "\t<tr><td>27</td><td>1</td></tr>\n",
       "\t<tr><td>30</td><td>1</td></tr>\n",
       "\t<tr><td>32</td><td>1</td></tr>\n",
       "</tbody>\n",
       "</table>\n"
      ],
      "text/latex": [
       "A data.frame: 12 × 2\n",
       "\\begin{tabular}{ll}\n",
       " Time & Death\\\\\n",
       " <dbl> & <dbl>\\\\\n",
       "\\hline\n",
       "\t  2 & 1\\\\\n",
       "\t  3 & 0\\\\\n",
       "\t  6 & 1\\\\\n",
       "\t  6 & 1\\\\\n",
       "\t  7 & 1\\\\\n",
       "\t 10 & 0\\\\\n",
       "\t 15 & 1\\\\\n",
       "\t 15 & 1\\\\\n",
       "\t 16 & 1\\\\\n",
       "\t 27 & 1\\\\\n",
       "\t 30 & 1\\\\\n",
       "\t 32 & 1\\\\\n",
       "\\end{tabular}\n"
      ],
      "text/markdown": [
       "\n",
       "A data.frame: 12 × 2\n",
       "\n",
       "| Time &lt;dbl&gt; | Death &lt;dbl&gt; |\n",
       "|---|---|\n",
       "|  2 | 1 |\n",
       "|  3 | 0 |\n",
       "|  6 | 1 |\n",
       "|  6 | 1 |\n",
       "|  7 | 1 |\n",
       "| 10 | 0 |\n",
       "| 15 | 1 |\n",
       "| 15 | 1 |\n",
       "| 16 | 1 |\n",
       "| 27 | 1 |\n",
       "| 30 | 1 |\n",
       "| 32 | 1 |\n",
       "\n"
      ],
      "text/plain": [
       "   Time Death\n",
       "1   2   1    \n",
       "2   3   0    \n",
       "3   6   1    \n",
       "4   6   1    \n",
       "5   7   1    \n",
       "6  10   0    \n",
       "7  15   1    \n",
       "8  15   1    \n",
       "9  16   1    \n",
       "10 27   1    \n",
       "11 30   1    \n",
       "12 32   1    "
      ]
     },
     "metadata": {},
     "output_type": "display_data"
    }
   ],
   "source": [
    "Time<- c(2,3,6,6,7,10,15,15,16,27,30,32)\n",
    "Death<-c(1,0,1,1,1,0,1,1,1,1,1,1)\n",
    "AIDSsurv<-data.frame(cbind(Time, Death))\n",
    "\n",
    "AIDSsurv"
   ]
  },
  {
   "cell_type": "markdown",
   "id": "b62683e9",
   "metadata": {},
   "source": [
    "Note: Time (Months), Death (1: event occured (death) , 0: no-event (censored)"
   ]
  },
  {
   "cell_type": "code",
   "execution_count": 3,
   "id": "c2147b1a",
   "metadata": {
    "scrolled": true
   },
   "outputs": [
    {
     "name": "stderr",
     "output_type": "stream",
     "text": [
      "The following objects are masked _by_ .GlobalEnv:\n",
      "\n",
      "    Death, Time\n",
      "\n",
      "\n"
     ]
    }
   ],
   "source": [
    "attach(AIDSsurv)"
   ]
  },
  {
   "cell_type": "markdown",
   "id": "3608b993",
   "metadata": {},
   "source": [
    "### <span style=\"color:MidnightBlue\"> 2. Call Library</span>."
   ]
  },
  {
   "cell_type": "code",
   "execution_count": 5,
   "id": "388332f1",
   "metadata": {},
   "outputs": [],
   "source": [
    "library(survival)"
   ]
  },
  {
   "cell_type": "markdown",
   "id": "cf7d4730",
   "metadata": {},
   "source": [
    "_If you have not installed the package \"survival\", you need to install it first._\n",
    "\n",
    "install.packages('survival')"
   ]
  },
  {
   "cell_type": "markdown",
   "id": "228ebc2a",
   "metadata": {},
   "source": [
    "### <span style=\"color:MidnightBlue\"> 3.Fit the Kaplan Meier Model</span>."
   ]
  },
  {
   "cell_type": "markdown",
   "id": "caeb4f99",
   "metadata": {},
   "source": [
    "__Fit the KM(survival) model for the data__"
   ]
  },
  {
   "cell_type": "code",
   "execution_count": 6,
   "id": "a26c1a08",
   "metadata": {},
   "outputs": [],
   "source": [
    "km.model <-survfit(Surv(Time, Death) ~ 1, type=\"kaplan-meier\")"
   ]
  },
  {
   "cell_type": "markdown",
   "id": "b35b9576",
   "metadata": {},
   "source": [
    "__Ask for some summaries of the model__"
   ]
  },
  {
   "cell_type": "code",
   "execution_count": 7,
   "id": "685a30ce",
   "metadata": {},
   "outputs": [
    {
     "data": {
      "text/plain": [
       "Call: survfit(formula = Surv(Time, Death) ~ 1, type = \"kaplan-meier\")\n",
       "\n",
       "      n events median 0.95LCL 0.95UCL\n",
       "[1,] 12     10     15       7      NA"
      ]
     },
     "metadata": {},
     "output_type": "display_data"
    }
   ],
   "source": [
    "km.model"
   ]
  },
  {
   "cell_type": "code",
   "execution_count": 8,
   "id": "73e27305",
   "metadata": {
    "scrolled": true
   },
   "outputs": [
    {
     "data": {
      "text/plain": [
       "Call: survfit(formula = Surv(Time, Death) ~ 1, type = \"kaplan-meier\")\n",
       "\n",
       " time n.risk n.event survival std.err lower 95% CI upper 95% CI\n",
       "    2     12       1    0.917  0.0798       0.7729        1.000\n",
       "    6     10       2    0.733  0.1324       0.5148        1.000\n",
       "    7      8       1    0.642  0.1441       0.4132        0.996\n",
       "   15      6       2    0.428  0.1565       0.2089        0.876\n",
       "   16      4       1    0.321  0.1495       0.1287        0.800\n",
       "   27      3       1    0.214  0.1325       0.0635        0.720\n",
       "   30      2       1    0.107  0.1005       0.0169        0.675\n",
       "   32      1       1    0.000     NaN           NA           NA"
      ]
     },
     "metadata": {},
     "output_type": "display_data"
    }
   ],
   "source": [
    "summary(km.model)"
   ]
  },
  {
   "cell_type": "markdown",
   "id": "bfa0bd0b",
   "metadata": {},
   "source": [
    "You can find help for the funcion survfit by\n",
    "__help(survfit)__"
   ]
  },
  {
   "cell_type": "markdown",
   "id": "1987b0b3",
   "metadata": {},
   "source": [
    "For example: At time 2, \n",
    "* n.risk: the number of subjects in the risk set at the starat of the interval\n",
    "* n.event: the number of people died (or event occured)\n",
    "* survival: the probability of survival,  $ S(t)=P(T>t) $, at time T=2, \n",
    "$S(2) = P(T>2) = 0.917$, \n",
    "* std.err: Assoiated standard error is 0.0798\n",
    "* lower 95% CI, Upper 95% CI: 95% Confidence interval are described.\n"
   ]
  },
  {
   "cell_type": "markdown",
   "id": "791ccd75",
   "metadata": {},
   "source": [
    "__Plot this model__"
   ]
  },
  {
   "cell_type": "code",
   "execution_count": 9,
   "id": "62925878",
   "metadata": {},
   "outputs": [
    {
     "data": {
      "image/png": "[encoded data removed]",
      "text/plain": [
       "Plot with title \"KM-Model\""
      ]
     },
     "metadata": {
      "image/png": {
       "height": 420,
       "width": 420
      }
     },
     "output_type": "display_data"
    }
   ],
   "source": [
    "plot(km.model, conf.int=F, xlab=\"Time (months)\", ylab=\"%Alive = S(t)\", main=\"KM-Model\")"
   ]
  },
  {
   "cell_type": "markdown",
   "id": "c31814cd",
   "metadata": {},
   "source": [
    "With confidence interval around the survival funcion <Br>\n",
    "las=1, rotate the y values to horizontal"
   ]
  },
  {
   "cell_type": "code",
   "execution_count": 10,
   "id": "f7670648",
   "metadata": {},
   "outputs": [
    {
     "data": {
      "image/png": "[encoded data removed]",
      "text/plain": [
       "Plot with title \"KM-Model\""
      ]
     },
     "metadata": {
      "image/png": {
       "height": 420,
       "width": 420
      }
     },
     "output_type": "display_data"
    }
   ],
   "source": [
    "plot(km.model, conf.int=T, xlab=\"Time (months)\", ylab=\"%Alive = S(t)\", main=\"KM-Model\", las=1)\n",
    "abline(h=0.5, col=\"red\") # median line, median survival time is 15 months"
   ]
  },
  {
   "cell_type": "markdown",
   "id": "550c80fc",
   "metadata": {},
   "source": [
    "Also note that you can include a 'tick' where there is a censored observation by using the \"mark-time\" argument. <br>\n",
    "You can see a little tick mark at time t=3 and time=10"
   ]
  },
  {
   "cell_type": "code",
   "execution_count": 11,
   "id": "2268434d",
   "metadata": {},
   "outputs": [
    {
     "data": {
      "image/png": "[encoded data removed]",
      "text/plain": [
       "Plot with title \"KM-Model\""
      ]
     },
     "metadata": {
      "image/png": {
       "height": 420,
       "width": 420
      }
     },
     "output_type": "display_data"
    }
   ],
   "source": [
    "plot(km.model, conf.int=T, xlab=\"Time (months)\", ylab=\"%Alive = S(t)\", main=\"KM-Model\", las=1, mark.time=TRUE)"
   ]
  },
  {
   "cell_type": "markdown",
   "id": "af7c3b7f",
   "metadata": {},
   "source": [
    "### <span style=\"color:MidnightBlue\"> 4.Fit the Kaplan Meier Model2</span>."
   ]
  },
  {
   "cell_type": "markdown",
   "id": "dc8ad99c",
   "metadata": {},
   "source": [
    "Now, lets look at the same data but with a group of age 40+ in there as well."
   ]
  },
  {
   "cell_type": "markdown",
   "id": "2b8b44d0",
   "metadata": {},
   "source": [
    "Detach and remove the previous data set."
   ]
  },
  {
   "cell_type": "markdown",
   "id": "a9f7c4c8",
   "metadata": {},
   "source": [
    "detach(AIDSsurv)\n",
    "rm(AIDSsurv)"
   ]
  },
  {
   "cell_type": "markdown",
   "id": "c2c99da4",
   "metadata": {},
   "source": [
    "__1. Prepare the second data__"
   ]
  },
  {
   "cell_type": "code",
   "execution_count": 12,
   "id": "8122ffe4",
   "metadata": {},
   "outputs": [
    {
     "data": {
      "text/html": [
       "<style>\n",
       ".list-inline {list-style: none; margin:0; padding: 0}\n",
       ".list-inline>li {display: inline-block}\n",
       ".list-inline>li:not(:last-child)::after {content: \"\\00b7\"; padding: 0 .5ex}\n",
       "</style>\n",
       "<ol class=list-inline><li>'Time'</li><li>'Death'</li><li>'Over40'</li></ol>\n"
      ],
      "text/latex": [
       "\\begin{enumerate*}\n",
       "\\item 'Time'\n",
       "\\item 'Death'\n",
       "\\item 'Over40'\n",
       "\\end{enumerate*}\n"
      ],
      "text/markdown": [
       "1. 'Time'\n",
       "2. 'Death'\n",
       "3. 'Over40'\n",
       "\n",
       "\n"
      ],
      "text/plain": [
       "[1] \"Time\"   \"Death\"  \"Over40\""
      ]
     },
     "metadata": {},
     "output_type": "display_data"
    }
   ],
   "source": [
    "Time<-c(2,3,6,6,7,10,15,15,16,27,30,32,1,1,1,1,2,3,3,9,22)\n",
    "Death<-c(1,0,1,1,1,0,1,1,1,1,1,1,1,0,1,1,1,1,1,1,0)\n",
    "Over40<-c(0,0,0,0,0,0,0,0,0,0,0,0,1,1,1,1,1,1,1,1,1)\n",
    "daataa<-data.frame(cbind(Time,Death,Over40))\n",
    "\n",
    "names(daataa)"
   ]
  },
  {
   "cell_type": "code",
   "execution_count": 13,
   "id": "8e759fc5",
   "metadata": {},
   "outputs": [
    {
     "data": {
      "text/html": [
       "FALSE"
      ],
      "text/latex": [
       "FALSE"
      ],
      "text/markdown": [
       "FALSE"
      ],
      "text/plain": [
       "[1] FALSE"
      ]
     },
     "metadata": {},
     "output_type": "display_data"
    },
    {
     "data": {
      "text/html": [
       "TRUE"
      ],
      "text/latex": [
       "TRUE"
      ],
      "text/markdown": [
       "TRUE"
      ],
      "text/plain": [
       "[1] TRUE"
      ]
     },
     "metadata": {},
     "output_type": "display_data"
    }
   ],
   "source": [
    "is.factor(Over40)\n",
    "Over40 <- as.factor(Over40)\n",
    "is.factor(Over40)"
   ]
  },
  {
   "cell_type": "code",
   "execution_count": 14,
   "id": "338cfb7a",
   "metadata": {
    "scrolled": false
   },
   "outputs": [
    {
     "name": "stderr",
     "output_type": "stream",
     "text": [
      "The following objects are masked _by_ .GlobalEnv:\n",
      "\n",
      "    Death, Over40, Time\n",
      "\n",
      "\n",
      "The following objects are masked from AIDSsurv:\n",
      "\n",
      "    Death, Time\n",
      "\n",
      "\n"
     ]
    }
   ],
   "source": [
    "# detach(daataa)\n",
    "attach(daataa)"
   ]
  },
  {
   "cell_type": "code",
   "execution_count": 15,
   "id": "ed38677e",
   "metadata": {},
   "outputs": [
    {
     "data": {
      "text/html": [
       "<table class=\"dataframe\">\n",
       "<caption>A data.frame: 21 × 3</caption>\n",
       "<thead>\n",
       "\t<tr><th scope=col>Time</th><th scope=col>Death</th><th scope=col>Over40</th></tr>\n",
       "\t<tr><th scope=col>&lt;dbl&gt;</th><th scope=col>&lt;dbl&gt;</th><th scope=col>&lt;dbl&gt;</th></tr>\n",
       "</thead>\n",
       "<tbody>\n",
       "\t<tr><td> 2</td><td>1</td><td>0</td></tr>\n",
       "\t<tr><td> 3</td><td>0</td><td>0</td></tr>\n",
       "\t<tr><td> 6</td><td>1</td><td>0</td></tr>\n",
       "\t<tr><td> 6</td><td>1</td><td>0</td></tr>\n",
       "\t<tr><td> 7</td><td>1</td><td>0</td></tr>\n",
       "\t<tr><td>10</td><td>0</td><td>0</td></tr>\n",
       "\t<tr><td>15</td><td>1</td><td>0</td></tr>\n",
       "\t<tr><td>15</td><td>1</td><td>0</td></tr>\n",
       "\t<tr><td>16</td><td>1</td><td>0</td></tr>\n",
       "\t<tr><td>27</td><td>1</td><td>0</td></tr>\n",
       "\t<tr><td>30</td><td>1</td><td>0</td></tr>\n",
       "\t<tr><td>32</td><td>1</td><td>0</td></tr>\n",
       "\t<tr><td> 1</td><td>1</td><td>1</td></tr>\n",
       "\t<tr><td> 1</td><td>0</td><td>1</td></tr>\n",
       "\t<tr><td> 1</td><td>1</td><td>1</td></tr>\n",
       "\t<tr><td> 1</td><td>1</td><td>1</td></tr>\n",
       "\t<tr><td> 2</td><td>1</td><td>1</td></tr>\n",
       "\t<tr><td> 3</td><td>1</td><td>1</td></tr>\n",
       "\t<tr><td> 3</td><td>1</td><td>1</td></tr>\n",
       "\t<tr><td> 9</td><td>1</td><td>1</td></tr>\n",
       "\t<tr><td>22</td><td>0</td><td>1</td></tr>\n",
       "</tbody>\n",
       "</table>\n"
      ],
      "text/latex": [
       "A data.frame: 21 × 3\n",
       "\\begin{tabular}{lll}\n",
       " Time & Death & Over40\\\\\n",
       " <dbl> & <dbl> & <dbl>\\\\\n",
       "\\hline\n",
       "\t  2 & 1 & 0\\\\\n",
       "\t  3 & 0 & 0\\\\\n",
       "\t  6 & 1 & 0\\\\\n",
       "\t  6 & 1 & 0\\\\\n",
       "\t  7 & 1 & 0\\\\\n",
       "\t 10 & 0 & 0\\\\\n",
       "\t 15 & 1 & 0\\\\\n",
       "\t 15 & 1 & 0\\\\\n",
       "\t 16 & 1 & 0\\\\\n",
       "\t 27 & 1 & 0\\\\\n",
       "\t 30 & 1 & 0\\\\\n",
       "\t 32 & 1 & 0\\\\\n",
       "\t  1 & 1 & 1\\\\\n",
       "\t  1 & 0 & 1\\\\\n",
       "\t  1 & 1 & 1\\\\\n",
       "\t  1 & 1 & 1\\\\\n",
       "\t  2 & 1 & 1\\\\\n",
       "\t  3 & 1 & 1\\\\\n",
       "\t  3 & 1 & 1\\\\\n",
       "\t  9 & 1 & 1\\\\\n",
       "\t 22 & 0 & 1\\\\\n",
       "\\end{tabular}\n"
      ],
      "text/markdown": [
       "\n",
       "A data.frame: 21 × 3\n",
       "\n",
       "| Time &lt;dbl&gt; | Death &lt;dbl&gt; | Over40 &lt;dbl&gt; |\n",
       "|---|---|---|\n",
       "|  2 | 1 | 0 |\n",
       "|  3 | 0 | 0 |\n",
       "|  6 | 1 | 0 |\n",
       "|  6 | 1 | 0 |\n",
       "|  7 | 1 | 0 |\n",
       "| 10 | 0 | 0 |\n",
       "| 15 | 1 | 0 |\n",
       "| 15 | 1 | 0 |\n",
       "| 16 | 1 | 0 |\n",
       "| 27 | 1 | 0 |\n",
       "| 30 | 1 | 0 |\n",
       "| 32 | 1 | 0 |\n",
       "|  1 | 1 | 1 |\n",
       "|  1 | 0 | 1 |\n",
       "|  1 | 1 | 1 |\n",
       "|  1 | 1 | 1 |\n",
       "|  2 | 1 | 1 |\n",
       "|  3 | 1 | 1 |\n",
       "|  3 | 1 | 1 |\n",
       "|  9 | 1 | 1 |\n",
       "| 22 | 0 | 1 |\n",
       "\n"
      ],
      "text/plain": [
       "   Time Death Over40\n",
       "1   2   1     0     \n",
       "2   3   0     0     \n",
       "3   6   1     0     \n",
       "4   6   1     0     \n",
       "5   7   1     0     \n",
       "6  10   0     0     \n",
       "7  15   1     0     \n",
       "8  15   1     0     \n",
       "9  16   1     0     \n",
       "10 27   1     0     \n",
       "11 30   1     0     \n",
       "12 32   1     0     \n",
       "13  1   1     1     \n",
       "14  1   0     1     \n",
       "15  1   1     1     \n",
       "16  1   1     1     \n",
       "17  2   1     1     \n",
       "18  3   1     1     \n",
       "19  3   1     1     \n",
       "20  9   1     1     \n",
       "21 22   0     1     "
      ]
     },
     "metadata": {},
     "output_type": "display_data"
    }
   ],
   "source": [
    "View(daataa)"
   ]
  },
  {
   "cell_type": "markdown",
   "id": "c57c389d",
   "metadata": {},
   "source": [
    "__2. Fit K-M model with adding Age variable__"
   ]
  },
  {
   "cell_type": "code",
   "execution_count": 16,
   "id": "acef6dd6",
   "metadata": {},
   "outputs": [],
   "source": [
    "km.model2 <-survfit( Surv(Time, Death) ~ Over40, type=\"kaplan-meier\")"
   ]
  },
  {
   "cell_type": "code",
   "execution_count": 17,
   "id": "1d942040",
   "metadata": {},
   "outputs": [
    {
     "data": {
      "image/png": "[encoded data removed]",
      "text/plain": [
       "Plot with title \"KM-Model\""
      ]
     },
     "metadata": {
      "image/png": {
       "height": 420,
       "width": 420
      }
     },
     "output_type": "display_data"
    }
   ],
   "source": [
    "plot(km.model2, conf.int=F, xlab=\"Time (months)\", ylab=\"%Alive = S(t)\", main=\"KM-Model\")"
   ]
  },
  {
   "cell_type": "code",
   "execution_count": 18,
   "id": "4fbfb839",
   "metadata": {},
   "outputs": [
    {
     "data": {
      "text/plain": [
       "Call: survfit(formula = Surv(Time, Death) ~ Over40, type = \"kaplan-meier\")\n",
       "\n",
       "                Over40=0 \n",
       " time n.risk n.event survival std.err lower 95% CI upper 95% CI\n",
       "    2     12       1    0.917  0.0798       0.7729        1.000\n",
       "    6     10       2    0.733  0.1324       0.5148        1.000\n",
       "    7      8       1    0.642  0.1441       0.4132        0.996\n",
       "   15      6       2    0.428  0.1565       0.2089        0.876\n",
       "   16      4       1    0.321  0.1495       0.1287        0.800\n",
       "   27      3       1    0.214  0.1325       0.0635        0.720\n",
       "   30      2       1    0.107  0.1005       0.0169        0.675\n",
       "   32      1       1    0.000     NaN           NA           NA\n",
       "\n",
       "                Over40=1 \n",
       " time n.risk n.event survival std.err lower 95% CI upper 95% CI\n",
       "    1      9       3    0.667   0.157       0.4200        1.000\n",
       "    2      5       1    0.533   0.173       0.2821        1.000\n",
       "    3      4       2    0.267   0.159       0.0829        0.858\n",
       "    9      2       1    0.133   0.123       0.0218        0.817\n"
      ]
     },
     "metadata": {},
     "output_type": "display_data"
    }
   ],
   "source": [
    "summary(km.model2)"
   ]
  },
  {
   "cell_type": "code",
   "execution_count": 19,
   "id": "20023071",
   "metadata": {},
   "outputs": [
    {
     "data": {
      "text/plain": [
       "Call: survfit(formula = Surv(Time, Death) ~ Over40, type = \"kaplan-meier\")\n",
       "\n",
       "          n events median 0.95LCL 0.95UCL\n",
       "Over40=0 12     10     15       7      NA\n",
       "Over40=1  9      7      3       1      NA"
      ]
     },
     "metadata": {},
     "output_type": "display_data"
    }
   ],
   "source": [
    "km.model2"
   ]
  },
  {
   "cell_type": "code",
   "execution_count": 30,
   "id": "af97b1dc",
   "metadata": {
    "scrolled": false
   },
   "outputs": [
    {
     "data": {
      "image/png": "[encoded data removed]",
      "text/plain": [
       "Plot with title \"KM-Model\""
      ]
     },
     "metadata": {
      "image/png": {
       "height": 420,
       "width": 420
      }
     },
     "output_type": "display_data"
    }
   ],
   "source": [
    "plot(km.model2, conf.int=F, xlab=\"Time (months)\", ylab=\"% Alive = S(t)\", main=\"KM-Model\", \n",
    "     col=c(\"red\", \"blue\"), las=1, lwd=3, mark.time=TRUE)\n",
    "\n",
    "# add the legend: legend(x Coordinate  , y Coordinate )\n",
    "# lty=1, solid line\n",
    "# lwd=2, line width\n",
    "# cex : size of legend box\n",
    "legend(23, 0.98, legend=c(\"Under40\", \"Over40\"), lty=1, lwd=3, \n",
    "      col=c(\"red\", \"blue\"), bty=\"\", cex=1)"
   ]
  },
  {
   "cell_type": "markdown",
   "id": "546d7625",
   "metadata": {},
   "source": [
    "__Do the LOG-RANK Test__ \n",
    "* H<sub>0</sub>: Survival in two groups is same\n",
    "* H<sub>a</sub>: Survival in two group is not same\n",
    "\n"
   ]
  },
  {
   "cell_type": "code",
   "execution_count": 33,
   "id": "ad8db307",
   "metadata": {
    "scrolled": true
   },
   "outputs": [
    {
     "data": {
      "text/plain": [
       "Call:\n",
       "survdiff(formula = Surv(Time, Death) ~ Over40)\n",
       "\n",
       "          N Observed Expected (O-E)^2/E (O-E)^2/V\n",
       "Over40=0 12       10    13.35     0.841      4.75\n",
       "Over40=1  9        7     3.65     3.079      4.75\n",
       "\n",
       " Chisq= 4.8  on 1 degrees of freedom, p= 0.03 "
      ]
     },
     "metadata": {},
     "output_type": "display_data"
    }
   ],
   "source": [
    "survdiff(Surv(Time, Death) ~ Over40)"
   ]
  },
  {
   "cell_type": "markdown",
   "id": "4de66a97",
   "metadata": {},
   "source": [
    "Based on the small p-value = 0.03, at $\\alpha$ level 0.05, we reject the Null hypothesis. Thus, Survival in two groups is not the same. "
   ]
  }
 ],
 "metadata": {
  "kernelspec": {
   "display_name": "R",
   "language": "R",
   "name": "ir"
  },
  "language_info": {
   "codemirror_mode": "r",
   "file_extension": ".r",
   "mimetype": "text/x-r-source",
   "name": "R",
   "pygments_lexer": "r",
   "version": "4.1.3"
  }
 },
 "nbformat": 4,
 "nbformat_minor": 5
}
