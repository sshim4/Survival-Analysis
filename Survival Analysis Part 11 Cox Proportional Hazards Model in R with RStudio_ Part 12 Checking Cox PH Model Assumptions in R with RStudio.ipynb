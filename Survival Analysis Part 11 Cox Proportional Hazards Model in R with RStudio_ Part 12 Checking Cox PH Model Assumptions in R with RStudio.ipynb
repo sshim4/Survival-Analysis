{
 "cells": [
  {
   "cell_type": "markdown",
   "id": "013c6acf",
   "metadata": {},
   "source": [
    "# <span style=\"color:MidnightBlue\"> Part 11 | Cox Proportional Hazards Model in R with RStudio</span>.\n",
    "\n",
    "https://www.youtube.com/watch?v=TrS2M5imOt8&list=PLqzoL9-eJTNDdnKvep_YHIwk2AMqHhuJ0&index=10\n"
   ]
  },
  {
   "cell_type": "markdown",
   "id": "0a40bbf2",
   "metadata": {},
   "source": [
    "* Note : This note book is created with R in Jupyter Notebook instead of R studio\n",
    "* Note : I summarized the note book while wathing the lecture "
   ]
  },
  {
   "cell_type": "code",
   "execution_count": 1,
   "id": "d0dd250d",
   "metadata": {
    "scrolled": true
   },
   "outputs": [
    {
     "data": {
      "text/plain": [
       "               _                           \n",
       "platform       x86_64-w64-mingw32          \n",
       "arch           x86_64                      \n",
       "os             mingw32                     \n",
       "system         x86_64, mingw32             \n",
       "status                                     \n",
       "major          4                           \n",
       "minor          1.3                         \n",
       "year           2022                        \n",
       "month          03                          \n",
       "day            10                          \n",
       "svn rev        81868                       \n",
       "language       R                           \n",
       "version.string R version 4.1.3 (2022-03-10)\n",
       "nickname       One Push-Up                 "
      ]
     },
     "metadata": {},
     "output_type": "display_data"
    }
   ],
   "source": [
    "R.version"
   ]
  },
  {
   "cell_type": "markdown",
   "id": "e9a7c17e",
   "metadata": {},
   "source": [
    "__Load required packages__"
   ]
  },
  {
   "cell_type": "markdown",
   "id": "4629f9bd",
   "metadata": {},
   "source": [
    "https://cran.r-project.org/web/packages/survival/survival.pdf"
   ]
  },
  {
   "cell_type": "code",
   "execution_count": 2,
   "id": "85c89d30",
   "metadata": {},
   "outputs": [],
   "source": [
    "library(survival)"
   ]
  },
  {
   "cell_type": "markdown",
   "id": "47087a48",
   "metadata": {},
   "source": [
    "## 1. Load Data set"
   ]
  },
  {
   "cell_type": "markdown",
   "id": "185b9b53",
   "metadata": {},
   "source": [
    "__Usage__: stanford2 (See the document)"
   ]
  },
  {
   "cell_type": "code",
   "execution_count": 3,
   "id": "129a7b87",
   "metadata": {},
   "outputs": [
    {
     "data": {
      "text/html": [
       "<table class=\"dataframe\">\n",
       "<caption>A data.frame: 10 × 5</caption>\n",
       "<thead>\n",
       "\t<tr><th></th><th scope=col>id</th><th scope=col>time</th><th scope=col>status</th><th scope=col>age</th><th scope=col>t5</th></tr>\n",
       "\t<tr><th></th><th scope=col>&lt;dbl&gt;</th><th scope=col>&lt;dbl&gt;</th><th scope=col>&lt;dbl&gt;</th><th scope=col>&lt;dbl&gt;</th><th scope=col>&lt;dbl&gt;</th></tr>\n",
       "</thead>\n",
       "<tbody>\n",
       "\t<tr><th scope=row>139</th><td>139</td><td>  86</td><td>1</td><td>12</td><td>1.26</td></tr>\n",
       "\t<tr><th scope=row>159</th><td>159</td><td>  10</td><td>1</td><td>13</td><td>1.49</td></tr>\n",
       "\t<tr><th scope=row>181</th><td>181</td><td>  60</td><td>0</td><td>13</td><td>  NA</td></tr>\n",
       "\t<tr><th scope=row>119</th><td>119</td><td>1116</td><td>0</td><td>14</td><td>0.54</td></tr>\n",
       "\t<tr><th scope=row>74</th><td> 74</td><td>2006</td><td>0</td><td>15</td><td>1.26</td></tr>\n",
       "\t<tr><th scope=row>120</th><td>120</td><td>1107</td><td>0</td><td>18</td><td>0.25</td></tr>\n",
       "\t<tr><th scope=row>99</th><td> 99</td><td>1232</td><td>1</td><td>18</td><td>0.70</td></tr>\n",
       "\t<tr><th scope=row>108</th><td>108</td><td>  42</td><td>1</td><td>19</td><td>0.63</td></tr>\n",
       "\t<tr><th scope=row>179</th><td>179</td><td>  98</td><td>0</td><td>19</td><td>  NA</td></tr>\n",
       "\t<tr><th scope=row>43</th><td> 43</td><td> 227</td><td>1</td><td>19</td><td>1.02</td></tr>\n",
       "</tbody>\n",
       "</table>\n"
      ],
      "text/latex": [
       "A data.frame: 10 × 5\n",
       "\\begin{tabular}{r|lllll}\n",
       "  & id & time & status & age & t5\\\\\n",
       "  & <dbl> & <dbl> & <dbl> & <dbl> & <dbl>\\\\\n",
       "\\hline\n",
       "\t139 & 139 &   86 & 1 & 12 & 1.26\\\\\n",
       "\t159 & 159 &   10 & 1 & 13 & 1.49\\\\\n",
       "\t181 & 181 &   60 & 0 & 13 &   NA\\\\\n",
       "\t119 & 119 & 1116 & 0 & 14 & 0.54\\\\\n",
       "\t74 &  74 & 2006 & 0 & 15 & 1.26\\\\\n",
       "\t120 & 120 & 1107 & 0 & 18 & 0.25\\\\\n",
       "\t99 &  99 & 1232 & 1 & 18 & 0.70\\\\\n",
       "\t108 & 108 &   42 & 1 & 19 & 0.63\\\\\n",
       "\t179 & 179 &   98 & 0 & 19 &   NA\\\\\n",
       "\t43 &  43 &  227 & 1 & 19 & 1.02\\\\\n",
       "\\end{tabular}\n"
      ],
      "text/markdown": [
       "\n",
       "A data.frame: 10 × 5\n",
       "\n",
       "| <!--/--> | id &lt;dbl&gt; | time &lt;dbl&gt; | status &lt;dbl&gt; | age &lt;dbl&gt; | t5 &lt;dbl&gt; |\n",
       "|---|---|---|---|---|---|\n",
       "| 139 | 139 |   86 | 1 | 12 | 1.26 |\n",
       "| 159 | 159 |   10 | 1 | 13 | 1.49 |\n",
       "| 181 | 181 |   60 | 0 | 13 |   NA |\n",
       "| 119 | 119 | 1116 | 0 | 14 | 0.54 |\n",
       "| 74 |  74 | 2006 | 0 | 15 | 1.26 |\n",
       "| 120 | 120 | 1107 | 0 | 18 | 0.25 |\n",
       "| 99 |  99 | 1232 | 1 | 18 | 0.70 |\n",
       "| 108 | 108 |   42 | 1 | 19 | 0.63 |\n",
       "| 179 | 179 |   98 | 0 | 19 |   NA |\n",
       "| 43 |  43 |  227 | 1 | 19 | 1.02 |\n",
       "\n"
      ],
      "text/plain": [
       "    id  time status age t5  \n",
       "139 139   86 1      12  1.26\n",
       "159 159   10 1      13  1.49\n",
       "181 181   60 0      13    NA\n",
       "119 119 1116 0      14  0.54\n",
       "74   74 2006 0      15  1.26\n",
       "120 120 1107 0      18  0.25\n",
       "99   99 1232 1      18  0.70\n",
       "108 108   42 1      19  0.63\n",
       "179 179   98 0      19    NA\n",
       "43   43  227 1      19  1.02"
      ]
     },
     "metadata": {},
     "output_type": "display_data"
    }
   ],
   "source": [
    "stanford2[1:10,]"
   ]
  },
  {
   "cell_type": "markdown",
   "id": "261f9376",
   "metadata": {},
   "source": [
    "* id: ID number\n",
    "* time: survival or censoring time\n",
    "* status: censoring status (1: Decresed, 0: Censored)\n",
    "* age: in years\n",
    "* t5: T5 mismatch score (Shows match or mismatch between Donor and Recipient , High number = Larger Degree of mismatch)"
   ]
  },
  {
   "cell_type": "markdown",
   "id": "735eed41",
   "metadata": {},
   "source": [
    "Since our data is not exactly same as the lecture, I will try to make the data form as much as the data in the lecture. "
   ]
  },
  {
   "cell_type": "markdown",
   "id": "12b7a2ba",
   "metadata": {},
   "source": [
    "## 2. Data preperation"
   ]
  },
  {
   "cell_type": "markdown",
   "id": "4d553fd8",
   "metadata": {},
   "source": [
    "__First rename the data set as Stan__"
   ]
  },
  {
   "cell_type": "code",
   "execution_count": 4,
   "id": "d5c83349",
   "metadata": {},
   "outputs": [
    {
     "data": {
      "text/html": [
       "<table class=\"dataframe\">\n",
       "<caption>A data.frame: 5 × 5</caption>\n",
       "<thead>\n",
       "\t<tr><th></th><th scope=col>id</th><th scope=col>time</th><th scope=col>status</th><th scope=col>age</th><th scope=col>t5</th></tr>\n",
       "\t<tr><th></th><th scope=col>&lt;dbl&gt;</th><th scope=col>&lt;dbl&gt;</th><th scope=col>&lt;dbl&gt;</th><th scope=col>&lt;dbl&gt;</th><th scope=col>&lt;dbl&gt;</th></tr>\n",
       "</thead>\n",
       "<tbody>\n",
       "\t<tr><th scope=row>139</th><td>139</td><td>  86</td><td>1</td><td>12</td><td>1.26</td></tr>\n",
       "\t<tr><th scope=row>159</th><td>159</td><td>  10</td><td>1</td><td>13</td><td>1.49</td></tr>\n",
       "\t<tr><th scope=row>181</th><td>181</td><td>  60</td><td>0</td><td>13</td><td>  NA</td></tr>\n",
       "\t<tr><th scope=row>119</th><td>119</td><td>1116</td><td>0</td><td>14</td><td>0.54</td></tr>\n",
       "\t<tr><th scope=row>74</th><td> 74</td><td>2006</td><td>0</td><td>15</td><td>1.26</td></tr>\n",
       "</tbody>\n",
       "</table>\n"
      ],
      "text/latex": [
       "A data.frame: 5 × 5\n",
       "\\begin{tabular}{r|lllll}\n",
       "  & id & time & status & age & t5\\\\\n",
       "  & <dbl> & <dbl> & <dbl> & <dbl> & <dbl>\\\\\n",
       "\\hline\n",
       "\t139 & 139 &   86 & 1 & 12 & 1.26\\\\\n",
       "\t159 & 159 &   10 & 1 & 13 & 1.49\\\\\n",
       "\t181 & 181 &   60 & 0 & 13 &   NA\\\\\n",
       "\t119 & 119 & 1116 & 0 & 14 & 0.54\\\\\n",
       "\t74 &  74 & 2006 & 0 & 15 & 1.26\\\\\n",
       "\\end{tabular}\n"
      ],
      "text/markdown": [
       "\n",
       "A data.frame: 5 × 5\n",
       "\n",
       "| <!--/--> | id &lt;dbl&gt; | time &lt;dbl&gt; | status &lt;dbl&gt; | age &lt;dbl&gt; | t5 &lt;dbl&gt; |\n",
       "|---|---|---|---|---|---|\n",
       "| 139 | 139 |   86 | 1 | 12 | 1.26 |\n",
       "| 159 | 159 |   10 | 1 | 13 | 1.49 |\n",
       "| 181 | 181 |   60 | 0 | 13 |   NA |\n",
       "| 119 | 119 | 1116 | 0 | 14 | 0.54 |\n",
       "| 74 |  74 | 2006 | 0 | 15 | 1.26 |\n",
       "\n"
      ],
      "text/plain": [
       "    id  time status age t5  \n",
       "139 139   86 1      12  1.26\n",
       "159 159   10 1      13  1.49\n",
       "181 181   60 0      13    NA\n",
       "119 119 1116 0      14  0.54\n",
       "74   74 2006 0      15  1.26"
      ]
     },
     "metadata": {},
     "output_type": "display_data"
    },
    {
     "data": {
      "text/html": [
       "<style>\n",
       ".list-inline {list-style: none; margin:0; padding: 0}\n",
       ".list-inline>li {display: inline-block}\n",
       ".list-inline>li:not(:last-child)::after {content: \"\\00b7\"; padding: 0 .5ex}\n",
       "</style>\n",
       "<ol class=list-inline><li>184</li><li>5</li></ol>\n"
      ],
      "text/latex": [
       "\\begin{enumerate*}\n",
       "\\item 184\n",
       "\\item 5\n",
       "\\end{enumerate*}\n"
      ],
      "text/markdown": [
       "1. 184\n",
       "2. 5\n",
       "\n",
       "\n"
      ],
      "text/plain": [
       "[1] 184   5"
      ]
     },
     "metadata": {},
     "output_type": "display_data"
    }
   ],
   "source": [
    "Stan <- stanford2\n",
    "Stan[1:5,]\n",
    "dim(Stan)"
   ]
  },
  {
   "cell_type": "markdown",
   "id": "c2c37040",
   "metadata": {},
   "source": [
    "__Delete the row if t5 is missing value__"
   ]
  },
  {
   "cell_type": "markdown",
   "id": "6c84be7a",
   "metadata": {},
   "source": [
    "https://www.programmingr.com/examples/remove-na-rows-in-r/"
   ]
  },
  {
   "cell_type": "code",
   "execution_count": 5,
   "id": "a28cd4c8",
   "metadata": {},
   "outputs": [
    {
     "data": {
      "text/html": [
       "<table class=\"dataframe\">\n",
       "<caption>A data.frame: 5 × 5</caption>\n",
       "<thead>\n",
       "\t<tr><th></th><th scope=col>id</th><th scope=col>time</th><th scope=col>status</th><th scope=col>age</th><th scope=col>t5</th></tr>\n",
       "\t<tr><th></th><th scope=col>&lt;dbl&gt;</th><th scope=col>&lt;dbl&gt;</th><th scope=col>&lt;dbl&gt;</th><th scope=col>&lt;dbl&gt;</th><th scope=col>&lt;dbl&gt;</th></tr>\n",
       "</thead>\n",
       "<tbody>\n",
       "\t<tr><th scope=row>139</th><td>139</td><td>  86</td><td>1</td><td>12</td><td>1.26</td></tr>\n",
       "\t<tr><th scope=row>159</th><td>159</td><td>  10</td><td>1</td><td>13</td><td>1.49</td></tr>\n",
       "\t<tr><th scope=row>119</th><td>119</td><td>1116</td><td>0</td><td>14</td><td>0.54</td></tr>\n",
       "\t<tr><th scope=row>74</th><td> 74</td><td>2006</td><td>0</td><td>15</td><td>1.26</td></tr>\n",
       "\t<tr><th scope=row>120</th><td>120</td><td>1107</td><td>0</td><td>18</td><td>0.25</td></tr>\n",
       "</tbody>\n",
       "</table>\n"
      ],
      "text/latex": [
       "A data.frame: 5 × 5\n",
       "\\begin{tabular}{r|lllll}\n",
       "  & id & time & status & age & t5\\\\\n",
       "  & <dbl> & <dbl> & <dbl> & <dbl> & <dbl>\\\\\n",
       "\\hline\n",
       "\t139 & 139 &   86 & 1 & 12 & 1.26\\\\\n",
       "\t159 & 159 &   10 & 1 & 13 & 1.49\\\\\n",
       "\t119 & 119 & 1116 & 0 & 14 & 0.54\\\\\n",
       "\t74 &  74 & 2006 & 0 & 15 & 1.26\\\\\n",
       "\t120 & 120 & 1107 & 0 & 18 & 0.25\\\\\n",
       "\\end{tabular}\n"
      ],
      "text/markdown": [
       "\n",
       "A data.frame: 5 × 5\n",
       "\n",
       "| <!--/--> | id &lt;dbl&gt; | time &lt;dbl&gt; | status &lt;dbl&gt; | age &lt;dbl&gt; | t5 &lt;dbl&gt; |\n",
       "|---|---|---|---|---|---|\n",
       "| 139 | 139 |   86 | 1 | 12 | 1.26 |\n",
       "| 159 | 159 |   10 | 1 | 13 | 1.49 |\n",
       "| 119 | 119 | 1116 | 0 | 14 | 0.54 |\n",
       "| 74 |  74 | 2006 | 0 | 15 | 1.26 |\n",
       "| 120 | 120 | 1107 | 0 | 18 | 0.25 |\n",
       "\n"
      ],
      "text/plain": [
       "    id  time status age t5  \n",
       "139 139   86 1      12  1.26\n",
       "159 159   10 1      13  1.49\n",
       "119 119 1116 0      14  0.54\n",
       "74   74 2006 0      15  1.26\n",
       "120 120 1107 0      18  0.25"
      ]
     },
     "metadata": {},
     "output_type": "display_data"
    },
    {
     "data": {
      "text/html": [
       "<style>\n",
       ".list-inline {list-style: none; margin:0; padding: 0}\n",
       ".list-inline>li {display: inline-block}\n",
       ".list-inline>li:not(:last-child)::after {content: \"\\00b7\"; padding: 0 .5ex}\n",
       "</style>\n",
       "<ol class=list-inline><li>157</li><li>5</li></ol>\n"
      ],
      "text/latex": [
       "\\begin{enumerate*}\n",
       "\\item 157\n",
       "\\item 5\n",
       "\\end{enumerate*}\n"
      ],
      "text/markdown": [
       "1. 157\n",
       "2. 5\n",
       "\n",
       "\n"
      ],
      "text/plain": [
       "[1] 157   5"
      ]
     },
     "metadata": {},
     "output_type": "display_data"
    }
   ],
   "source": [
    "Stan <- na.omit(Stan) \n",
    "Stan[1:5,]\n",
    "dim(Stan)"
   ]
  },
  {
   "cell_type": "markdown",
   "id": "ff8b4776",
   "metadata": {},
   "source": [
    "__Add new coloumns: Over40 and MisMatchLevel__"
   ]
  },
  {
   "cell_type": "markdown",
   "id": "98b840c6",
   "metadata": {},
   "source": [
    "__Over40__"
   ]
  },
  {
   "cell_type": "code",
   "execution_count": 6,
   "id": "f20ac081",
   "metadata": {},
   "outputs": [],
   "source": [
    "Stan$Over40 <- ifelse(Stan$age > 40, 1, 0 )"
   ]
  },
  {
   "cell_type": "code",
   "execution_count": 9,
   "id": "892157bf",
   "metadata": {},
   "outputs": [
    {
     "data": {
      "text/html": [
       "<table class=\"dataframe\">\n",
       "<caption>A data.frame: 5 × 6</caption>\n",
       "<thead>\n",
       "\t<tr><th></th><th scope=col>id</th><th scope=col>time</th><th scope=col>status</th><th scope=col>age</th><th scope=col>t5</th><th scope=col>Over40</th></tr>\n",
       "\t<tr><th></th><th scope=col>&lt;dbl&gt;</th><th scope=col>&lt;dbl&gt;</th><th scope=col>&lt;dbl&gt;</th><th scope=col>&lt;dbl&gt;</th><th scope=col>&lt;dbl&gt;</th><th scope=col>&lt;dbl&gt;</th></tr>\n",
       "</thead>\n",
       "<tbody>\n",
       "\t<tr><th scope=row>139</th><td>139</td><td>  86</td><td>1</td><td>12</td><td>1.26</td><td>0</td></tr>\n",
       "\t<tr><th scope=row>159</th><td>159</td><td>  10</td><td>1</td><td>13</td><td>1.49</td><td>0</td></tr>\n",
       "\t<tr><th scope=row>119</th><td>119</td><td>1116</td><td>0</td><td>14</td><td>0.54</td><td>0</td></tr>\n",
       "\t<tr><th scope=row>74</th><td> 74</td><td>2006</td><td>0</td><td>15</td><td>1.26</td><td>0</td></tr>\n",
       "\t<tr><th scope=row>120</th><td>120</td><td>1107</td><td>0</td><td>18</td><td>0.25</td><td>0</td></tr>\n",
       "</tbody>\n",
       "</table>\n"
      ],
      "text/latex": [
       "A data.frame: 5 × 6\n",
       "\\begin{tabular}{r|llllll}\n",
       "  & id & time & status & age & t5 & Over40\\\\\n",
       "  & <dbl> & <dbl> & <dbl> & <dbl> & <dbl> & <dbl>\\\\\n",
       "\\hline\n",
       "\t139 & 139 &   86 & 1 & 12 & 1.26 & 0\\\\\n",
       "\t159 & 159 &   10 & 1 & 13 & 1.49 & 0\\\\\n",
       "\t119 & 119 & 1116 & 0 & 14 & 0.54 & 0\\\\\n",
       "\t74 &  74 & 2006 & 0 & 15 & 1.26 & 0\\\\\n",
       "\t120 & 120 & 1107 & 0 & 18 & 0.25 & 0\\\\\n",
       "\\end{tabular}\n"
      ],
      "text/markdown": [
       "\n",
       "A data.frame: 5 × 6\n",
       "\n",
       "| <!--/--> | id &lt;dbl&gt; | time &lt;dbl&gt; | status &lt;dbl&gt; | age &lt;dbl&gt; | t5 &lt;dbl&gt; | Over40 &lt;dbl&gt; |\n",
       "|---|---|---|---|---|---|---|\n",
       "| 139 | 139 |   86 | 1 | 12 | 1.26 | 0 |\n",
       "| 159 | 159 |   10 | 1 | 13 | 1.49 | 0 |\n",
       "| 119 | 119 | 1116 | 0 | 14 | 0.54 | 0 |\n",
       "| 74 |  74 | 2006 | 0 | 15 | 1.26 | 0 |\n",
       "| 120 | 120 | 1107 | 0 | 18 | 0.25 | 0 |\n",
       "\n"
      ],
      "text/plain": [
       "    id  time status age t5   Over40\n",
       "139 139   86 1      12  1.26 0     \n",
       "159 159   10 1      13  1.49 0     \n",
       "119 119 1116 0      14  0.54 0     \n",
       "74   74 2006 0      15  1.26 0     \n",
       "120 120 1107 0      18  0.25 0     "
      ]
     },
     "metadata": {},
     "output_type": "display_data"
    },
    {
     "data": {
      "text/html": [
       "<style>\n",
       ".list-inline {list-style: none; margin:0; padding: 0}\n",
       ".list-inline>li {display: inline-block}\n",
       ".list-inline>li:not(:last-child)::after {content: \"\\00b7\"; padding: 0 .5ex}\n",
       "</style>\n",
       "<ol class=list-inline><li>0</li><li>0</li><li>0</li><li>0</li><li>0</li><li>0</li><li>0</li><li>0</li><li>0</li><li>0</li><li>0</li><li>0</li><li>0</li><li>0</li><li>0</li><li>0</li><li>0</li><li>0</li><li>0</li><li>0</li><li>0</li><li>0</li><li>0</li><li>0</li><li>0</li><li>0</li><li>0</li><li>0</li><li>0</li><li>0</li><li>0</li><li>0</li><li>0</li><li>0</li><li>0</li><li>0</li><li>0</li><li>0</li><li>0</li><li>0</li><li>0</li><li>0</li><li>0</li><li>0</li><li>0</li><li>0</li><li>0</li><li>0</li><li>0</li><li>0</li><li>0</li><li>0</li><li>0</li><li>0</li><li>0</li><li>0</li><li>0</li><li>0</li><li>1</li><li>1</li><li>1</li><li>1</li><li>1</li><li>1</li><li>1</li><li>1</li><li>1</li><li>1</li><li>1</li><li>1</li><li>1</li><li>1</li><li>1</li><li>1</li><li>1</li><li>1</li><li>1</li><li>1</li><li>1</li><li>1</li><li>1</li><li>1</li><li>1</li><li>1</li><li>1</li><li>1</li><li>1</li><li>1</li><li>1</li><li>1</li><li>1</li><li>1</li><li>1</li><li>1</li><li>1</li><li>1</li><li>1</li><li>1</li><li>1</li><li>1</li><li>1</li><li>1</li><li>1</li><li>1</li><li>1</li><li>1</li><li>1</li><li>1</li><li>1</li><li>1</li><li>1</li><li>1</li><li>1</li><li>1</li><li>1</li><li>1</li><li>1</li><li>1</li><li>1</li><li>1</li><li>1</li><li>1</li><li>1</li><li>1</li><li>1</li><li>1</li><li>1</li><li>1</li><li>1</li><li>1</li><li>1</li><li>1</li><li>1</li><li>1</li><li>1</li><li>1</li><li>1</li><li>1</li><li>1</li><li>1</li><li>1</li><li>1</li><li>1</li><li>1</li><li>1</li><li>1</li><li>1</li><li>1</li><li>1</li><li>1</li><li>1</li><li>1</li><li>1</li><li>1</li><li>1</li><li>1</li><li>1</li></ol>\n"
      ],
      "text/latex": [
       "\\begin{enumerate*}\n",
       "\\item 0\n",
       "\\item 0\n",
       "\\item 0\n",
       "\\item 0\n",
       "\\item 0\n",
       "\\item 0\n",
       "\\item 0\n",
       "\\item 0\n",
       "\\item 0\n",
       "\\item 0\n",
       "\\item 0\n",
       "\\item 0\n",
       "\\item 0\n",
       "\\item 0\n",
       "\\item 0\n",
       "\\item 0\n",
       "\\item 0\n",
       "\\item 0\n",
       "\\item 0\n",
       "\\item 0\n",
       "\\item 0\n",
       "\\item 0\n",
       "\\item 0\n",
       "\\item 0\n",
       "\\item 0\n",
       "\\item 0\n",
       "\\item 0\n",
       "\\item 0\n",
       "\\item 0\n",
       "\\item 0\n",
       "\\item 0\n",
       "\\item 0\n",
       "\\item 0\n",
       "\\item 0\n",
       "\\item 0\n",
       "\\item 0\n",
       "\\item 0\n",
       "\\item 0\n",
       "\\item 0\n",
       "\\item 0\n",
       "\\item 0\n",
       "\\item 0\n",
       "\\item 0\n",
       "\\item 0\n",
       "\\item 0\n",
       "\\item 0\n",
       "\\item 0\n",
       "\\item 0\n",
       "\\item 0\n",
       "\\item 0\n",
       "\\item 0\n",
       "\\item 0\n",
       "\\item 0\n",
       "\\item 0\n",
       "\\item 0\n",
       "\\item 0\n",
       "\\item 0\n",
       "\\item 0\n",
       "\\item 1\n",
       "\\item 1\n",
       "\\item 1\n",
       "\\item 1\n",
       "\\item 1\n",
       "\\item 1\n",
       "\\item 1\n",
       "\\item 1\n",
       "\\item 1\n",
       "\\item 1\n",
       "\\item 1\n",
       "\\item 1\n",
       "\\item 1\n",
       "\\item 1\n",
       "\\item 1\n",
       "\\item 1\n",
       "\\item 1\n",
       "\\item 1\n",
       "\\item 1\n",
       "\\item 1\n",
       "\\item 1\n",
       "\\item 1\n",
       "\\item 1\n",
       "\\item 1\n",
       "\\item 1\n",
       "\\item 1\n",
       "\\item 1\n",
       "\\item 1\n",
       "\\item 1\n",
       "\\item 1\n",
       "\\item 1\n",
       "\\item 1\n",
       "\\item 1\n",
       "\\item 1\n",
       "\\item 1\n",
       "\\item 1\n",
       "\\item 1\n",
       "\\item 1\n",
       "\\item 1\n",
       "\\item 1\n",
       "\\item 1\n",
       "\\item 1\n",
       "\\item 1\n",
       "\\item 1\n",
       "\\item 1\n",
       "\\item 1\n",
       "\\item 1\n",
       "\\item 1\n",
       "\\item 1\n",
       "\\item 1\n",
       "\\item 1\n",
       "\\item 1\n",
       "\\item 1\n",
       "\\item 1\n",
       "\\item 1\n",
       "\\item 1\n",
       "\\item 1\n",
       "\\item 1\n",
       "\\item 1\n",
       "\\item 1\n",
       "\\item 1\n",
       "\\item 1\n",
       "\\item 1\n",
       "\\item 1\n",
       "\\item 1\n",
       "\\item 1\n",
       "\\item 1\n",
       "\\item 1\n",
       "\\item 1\n",
       "\\item 1\n",
       "\\item 1\n",
       "\\item 1\n",
       "\\item 1\n",
       "\\item 1\n",
       "\\item 1\n",
       "\\item 1\n",
       "\\item 1\n",
       "\\item 1\n",
       "\\item 1\n",
       "\\item 1\n",
       "\\item 1\n",
       "\\item 1\n",
       "\\item 1\n",
       "\\item 1\n",
       "\\item 1\n",
       "\\item 1\n",
       "\\item 1\n",
       "\\item 1\n",
       "\\item 1\n",
       "\\item 1\n",
       "\\item 1\n",
       "\\item 1\n",
       "\\item 1\n",
       "\\item 1\n",
       "\\item 1\n",
       "\\item 1\n",
       "\\item 1\n",
       "\\item 1\n",
       "\\item 1\n",
       "\\end{enumerate*}\n"
      ],
      "text/markdown": [
       "1. 0\n",
       "2. 0\n",
       "3. 0\n",
       "4. 0\n",
       "5. 0\n",
       "6. 0\n",
       "7. 0\n",
       "8. 0\n",
       "9. 0\n",
       "10. 0\n",
       "11. 0\n",
       "12. 0\n",
       "13. 0\n",
       "14. 0\n",
       "15. 0\n",
       "16. 0\n",
       "17. 0\n",
       "18. 0\n",
       "19. 0\n",
       "20. 0\n",
       "21. 0\n",
       "22. 0\n",
       "23. 0\n",
       "24. 0\n",
       "25. 0\n",
       "26. 0\n",
       "27. 0\n",
       "28. 0\n",
       "29. 0\n",
       "30. 0\n",
       "31. 0\n",
       "32. 0\n",
       "33. 0\n",
       "34. 0\n",
       "35. 0\n",
       "36. 0\n",
       "37. 0\n",
       "38. 0\n",
       "39. 0\n",
       "40. 0\n",
       "41. 0\n",
       "42. 0\n",
       "43. 0\n",
       "44. 0\n",
       "45. 0\n",
       "46. 0\n",
       "47. 0\n",
       "48. 0\n",
       "49. 0\n",
       "50. 0\n",
       "51. 0\n",
       "52. 0\n",
       "53. 0\n",
       "54. 0\n",
       "55. 0\n",
       "56. 0\n",
       "57. 0\n",
       "58. 0\n",
       "59. 1\n",
       "60. 1\n",
       "61. 1\n",
       "62. 1\n",
       "63. 1\n",
       "64. 1\n",
       "65. 1\n",
       "66. 1\n",
       "67. 1\n",
       "68. 1\n",
       "69. 1\n",
       "70. 1\n",
       "71. 1\n",
       "72. 1\n",
       "73. 1\n",
       "74. 1\n",
       "75. 1\n",
       "76. 1\n",
       "77. 1\n",
       "78. 1\n",
       "79. 1\n",
       "80. 1\n",
       "81. 1\n",
       "82. 1\n",
       "83. 1\n",
       "84. 1\n",
       "85. 1\n",
       "86. 1\n",
       "87. 1\n",
       "88. 1\n",
       "89. 1\n",
       "90. 1\n",
       "91. 1\n",
       "92. 1\n",
       "93. 1\n",
       "94. 1\n",
       "95. 1\n",
       "96. 1\n",
       "97. 1\n",
       "98. 1\n",
       "99. 1\n",
       "100. 1\n",
       "101. 1\n",
       "102. 1\n",
       "103. 1\n",
       "104. 1\n",
       "105. 1\n",
       "106. 1\n",
       "107. 1\n",
       "108. 1\n",
       "109. 1\n",
       "110. 1\n",
       "111. 1\n",
       "112. 1\n",
       "113. 1\n",
       "114. 1\n",
       "115. 1\n",
       "116. 1\n",
       "117. 1\n",
       "118. 1\n",
       "119. 1\n",
       "120. 1\n",
       "121. 1\n",
       "122. 1\n",
       "123. 1\n",
       "124. 1\n",
       "125. 1\n",
       "126. 1\n",
       "127. 1\n",
       "128. 1\n",
       "129. 1\n",
       "130. 1\n",
       "131. 1\n",
       "132. 1\n",
       "133. 1\n",
       "134. 1\n",
       "135. 1\n",
       "136. 1\n",
       "137. 1\n",
       "138. 1\n",
       "139. 1\n",
       "140. 1\n",
       "141. 1\n",
       "142. 1\n",
       "143. 1\n",
       "144. 1\n",
       "145. 1\n",
       "146. 1\n",
       "147. 1\n",
       "148. 1\n",
       "149. 1\n",
       "150. 1\n",
       "151. 1\n",
       "152. 1\n",
       "153. 1\n",
       "154. 1\n",
       "155. 1\n",
       "156. 1\n",
       "157. 1\n",
       "\n",
       "\n"
      ],
      "text/plain": [
       "  [1] 0 0 0 0 0 0 0 0 0 0 0 0 0 0 0 0 0 0 0 0 0 0 0 0 0 0 0 0 0 0 0 0 0 0 0 0 0\n",
       " [38] 0 0 0 0 0 0 0 0 0 0 0 0 0 0 0 0 0 0 0 0 0 1 1 1 1 1 1 1 1 1 1 1 1 1 1 1 1\n",
       " [75] 1 1 1 1 1 1 1 1 1 1 1 1 1 1 1 1 1 1 1 1 1 1 1 1 1 1 1 1 1 1 1 1 1 1 1 1 1\n",
       "[112] 1 1 1 1 1 1 1 1 1 1 1 1 1 1 1 1 1 1 1 1 1 1 1 1 1 1 1 1 1 1 1 1 1 1 1 1 1\n",
       "[149] 1 1 1 1 1 1 1 1 1"
      ]
     },
     "metadata": {},
     "output_type": "display_data"
    },
    {
     "data": {
      "text/plain": [
       "\n",
       " 0  1 \n",
       "58 99 "
      ]
     },
     "metadata": {},
     "output_type": "display_data"
    },
    {
     "data": {
      "text/html": [
       "<style>\n",
       ".list-inline {list-style: none; margin:0; padding: 0}\n",
       ".list-inline>li {display: inline-block}\n",
       ".list-inline>li:not(:last-child)::after {content: \"\\00b7\"; padding: 0 .5ex}\n",
       "</style>\n",
       "<ol class=list-inline><li>157</li><li>6</li></ol>\n"
      ],
      "text/latex": [
       "\\begin{enumerate*}\n",
       "\\item 157\n",
       "\\item 6\n",
       "\\end{enumerate*}\n"
      ],
      "text/markdown": [
       "1. 157\n",
       "2. 6\n",
       "\n",
       "\n"
      ],
      "text/plain": [
       "[1] 157   6"
      ]
     },
     "metadata": {},
     "output_type": "display_data"
    }
   ],
   "source": [
    "Stan[1:5,]\n",
    "Stan$Over40\n",
    "table(Stan$Over40)\n",
    "\n",
    "dim(Stan)"
   ]
  },
  {
   "cell_type": "markdown",
   "id": "ce9e95ba",
   "metadata": {},
   "source": [
    "__MisMatchLevel__"
   ]
  },
  {
   "cell_type": "markdown",
   "id": "cc9e384f",
   "metadata": {},
   "source": [
    "There is no clinical definiction of low, medium, high for mismatch. <br>\n",
    "He used lower third, middle third and upper third for low, middle, high of  t5.\n",
    "* 1 : Low degree of mismatch\n",
    "* 2 : Medium level of mismatch\n",
    "* 3 : High level of mismatch"
   ]
  },
  {
   "cell_type": "code",
   "execution_count": 10,
   "id": "1d99cceb",
   "metadata": {},
   "outputs": [
    {
     "data": {
      "text/html": [
       "<style>\n",
       ".dl-inline {width: auto; margin:0; padding: 0}\n",
       ".dl-inline>dt, .dl-inline>dd {float: none; width: auto; display: inline-block}\n",
       ".dl-inline>dt::after {content: \":\\0020\"; padding-right: .5ex}\n",
       ".dl-inline>dt:not(:first-of-type) {padding-left: .5ex}\n",
       "</style><dl class=dl-inline><dt>33.33333%</dt><dd>0.83</dd><dt>66.66667%</dt><dd>1.33</dd><dt>100%</dt><dd>3.05</dd></dl>\n"
      ],
      "text/latex": [
       "\\begin{description*}\n",
       "\\item[33.33333\\textbackslash{}\\%] 0.83\n",
       "\\item[66.66667\\textbackslash{}\\%] 1.33\n",
       "\\item[100\\textbackslash{}\\%] 3.05\n",
       "\\end{description*}\n"
      ],
      "text/markdown": [
       "33.33333%\n",
       ":   0.8366.66667%\n",
       ":   1.33100%\n",
       ":   3.05\n",
       "\n"
      ],
      "text/plain": [
       "33.33333% 66.66667%      100% \n",
       "     0.83      1.33      3.05 "
      ]
     },
     "metadata": {},
     "output_type": "display_data"
    }
   ],
   "source": [
    "bin <- quantile(Stan$t5,probs = c(1/3, 2/3 ,1))\n",
    "bin"
   ]
  },
  {
   "cell_type": "markdown",
   "id": "85956b4e",
   "metadata": {},
   "source": [
    "We use quantile funtion to find lower thid, middle third, upper third."
   ]
  },
  {
   "cell_type": "code",
   "execution_count": 11,
   "id": "7866c96f",
   "metadata": {},
   "outputs": [
    {
     "data": {
      "text/html": [
       "<style>\n",
       ".dl-inline {width: auto; margin:0; padding: 0}\n",
       ".dl-inline>dt, .dl-inline>dd {float: none; width: auto; display: inline-block}\n",
       ".dl-inline>dt::after {content: \":\\0020\"; padding-right: .5ex}\n",
       ".dl-inline>dt:not(:first-of-type) {padding-left: .5ex}\n",
       "</style><dl class=dl-inline><dt>1</dt><dd>-1</dd><dt>33.33333%</dt><dd>0.83</dd><dt>66.66667%</dt><dd>1.33</dd><dt>100%</dt><dd>3.05</dd></dl>\n"
      ],
      "text/latex": [
       "\\begin{description*}\n",
       "\\item[1] -1\n",
       "\\item[33.33333\\textbackslash{}\\%] 0.83\n",
       "\\item[66.66667\\textbackslash{}\\%] 1.33\n",
       "\\item[100\\textbackslash{}\\%] 3.05\n",
       "\\end{description*}\n"
      ],
      "text/markdown": [
       "1\n",
       ":   -133.33333%\n",
       ":   0.8366.66667%\n",
       ":   1.33100%\n",
       ":   3.05\n",
       "\n"
      ],
      "text/plain": [
       "          33.33333% 66.66667%      100% \n",
       "    -1.00      0.83      1.33      3.05 "
      ]
     },
     "metadata": {},
     "output_type": "display_data"
    }
   ],
   "source": [
    "bin2<-c(-1, bin)\n",
    "bin2"
   ]
  },
  {
   "cell_type": "code",
   "execution_count": 13,
   "id": "ea39eabc",
   "metadata": {},
   "outputs": [
    {
     "name": "stderr",
     "output_type": "stream",
     "text": [
      "\n",
      "Attaching package: 'dplyr'\n",
      "\n",
      "\n",
      "The following objects are masked from 'package:stats':\n",
      "\n",
      "    filter, lag\n",
      "\n",
      "\n",
      "The following objects are masked from 'package:base':\n",
      "\n",
      "    intersect, setdiff, setequal, union\n",
      "\n",
      "\n"
     ]
    }
   ],
   "source": [
    "library(dplyr)"
   ]
  },
  {
   "cell_type": "markdown",
   "id": "de733995",
   "metadata": {},
   "source": [
    "The next line express if $t5 \t\\leq 0.83$ then 1, else if $ t5\\leq1.33$ then 2, else 3"
   ]
  },
  {
   "cell_type": "code",
   "execution_count": 26,
   "id": "a529c229",
   "metadata": {},
   "outputs": [],
   "source": [
    "Stan<-Stan %>% mutate(MisMatchLevel \n",
    "                      = cut(Stan$t5, breaks=bin2, labels=FALSE))"
   ]
  },
  {
   "cell_type": "code",
   "execution_count": 27,
   "id": "39fc64ba",
   "metadata": {},
   "outputs": [
    {
     "data": {
      "text/plain": [
       "\n",
       " 1  2  3 \n",
       "53 53 51 "
      ]
     },
     "metadata": {},
     "output_type": "display_data"
    }
   ],
   "source": [
    "table(Stan$MisMatchLevel)\n"
   ]
  },
  {
   "cell_type": "code",
   "execution_count": 28,
   "id": "85cf1368",
   "metadata": {},
   "outputs": [
    {
     "data": {
      "text/html": [
       "<table class=\"dataframe\">\n",
       "<caption>A data.frame: 5 × 2</caption>\n",
       "<thead>\n",
       "\t<tr><th></th><th scope=col>t5</th><th scope=col>MisMatchLevel</th></tr>\n",
       "\t<tr><th></th><th scope=col>&lt;dbl&gt;</th><th scope=col>&lt;int&gt;</th></tr>\n",
       "</thead>\n",
       "<tbody>\n",
       "\t<tr><th scope=row>139</th><td>1.26</td><td>2</td></tr>\n",
       "\t<tr><th scope=row>159</th><td>1.49</td><td>3</td></tr>\n",
       "\t<tr><th scope=row>119</th><td>0.54</td><td>1</td></tr>\n",
       "\t<tr><th scope=row>74</th><td>1.26</td><td>2</td></tr>\n",
       "\t<tr><th scope=row>120</th><td>0.25</td><td>1</td></tr>\n",
       "</tbody>\n",
       "</table>\n"
      ],
      "text/latex": [
       "A data.frame: 5 × 2\n",
       "\\begin{tabular}{r|ll}\n",
       "  & t5 & MisMatchLevel\\\\\n",
       "  & <dbl> & <int>\\\\\n",
       "\\hline\n",
       "\t139 & 1.26 & 2\\\\\n",
       "\t159 & 1.49 & 3\\\\\n",
       "\t119 & 0.54 & 1\\\\\n",
       "\t74 & 1.26 & 2\\\\\n",
       "\t120 & 0.25 & 1\\\\\n",
       "\\end{tabular}\n"
      ],
      "text/markdown": [
       "\n",
       "A data.frame: 5 × 2\n",
       "\n",
       "| <!--/--> | t5 &lt;dbl&gt; | MisMatchLevel &lt;int&gt; |\n",
       "|---|---|---|\n",
       "| 139 | 1.26 | 2 |\n",
       "| 159 | 1.49 | 3 |\n",
       "| 119 | 0.54 | 1 |\n",
       "| 74 | 1.26 | 2 |\n",
       "| 120 | 0.25 | 1 |\n",
       "\n"
      ],
      "text/plain": [
       "    t5   MisMatchLevel\n",
       "139 1.26 2            \n",
       "159 1.49 3            \n",
       "119 0.54 1            \n",
       "74  1.26 2            \n",
       "120 0.25 1            "
      ]
     },
     "metadata": {},
     "output_type": "display_data"
    }
   ],
   "source": [
    "Stan[c(\"t5\", \"MisMatchLevel\")][1:5,]"
   ]
  },
  {
   "cell_type": "markdown",
   "id": "e3314c09",
   "metadata": {},
   "source": [
    "__Change \"Over40\" and \"MisMatchLevel\" factors__"
   ]
  },
  {
   "cell_type": "code",
   "execution_count": 30,
   "id": "544a0d53",
   "metadata": {},
   "outputs": [],
   "source": [
    "Stan$Over40 <- as.factor(Stan$Over40)\n",
    "Stan$MisMatchLevel <- as.factor(Stan$MisMatchLevel)"
   ]
  },
  {
   "cell_type": "markdown",
   "id": "2806c0e8",
   "metadata": {},
   "source": [
    "__Summary of the Data__"
   ]
  },
  {
   "cell_type": "code",
   "execution_count": 32,
   "id": "7bcb9b41",
   "metadata": {
    "scrolled": true
   },
   "outputs": [
    {
     "data": {
      "text/plain": [
       "       id              time            status            age       \n",
       " Min.   :  1.00   Min.   :   0.5   Min.   :0.0000   Min.   :12.00  \n",
       " 1st Qu.: 43.00   1st Qu.:  65.0   1st Qu.:0.0000   1st Qu.:36.00  \n",
       " Median : 83.00   Median : 468.0   Median :1.0000   Median :44.00  \n",
       " Mean   : 83.62   Mean   : 769.2   Mean   :0.6497   Mean   :41.73  \n",
       " 3rd Qu.:123.00   3rd Qu.:1264.0   3rd Qu.:1.0000   3rd Qu.:49.00  \n",
       " Max.   :174.00   Max.   :3695.0   Max.   :1.0000   Max.   :64.00  \n",
       "       t5        Over40 MisMatchLevel\n",
       " Min.   :0.000   0:58   1:53         \n",
       " 1st Qu.:0.690   1:99   2:53         \n",
       " Median :1.040          3:51         \n",
       " Mean   :1.117                       \n",
       " 3rd Qu.:1.460                       \n",
       " Max.   :3.050                       "
      ]
     },
     "metadata": {},
     "output_type": "display_data"
    }
   ],
   "source": [
    "summary(Stan)"
   ]
  },
  {
   "cell_type": "markdown",
   "id": "c8647d76",
   "metadata": {},
   "source": [
    "__Raname the columns in the data__"
   ]
  },
  {
   "cell_type": "code",
   "execution_count": 37,
   "id": "fba563cf",
   "metadata": {
    "scrolled": true
   },
   "outputs": [
    {
     "data": {
      "text/html": [
       "<style>\n",
       ".list-inline {list-style: none; margin:0; padding: 0}\n",
       ".list-inline>li {display: inline-block}\n",
       ".list-inline>li:not(:last-child)::after {content: \"\\00b7\"; padding: 0 .5ex}\n",
       "</style>\n",
       "<ol class=list-inline><li>'id'</li><li>'time'</li><li>'status'</li><li>'age'</li><li>'t5'</li><li>'Over40'</li><li>'MisMatchLevel'</li></ol>\n"
      ],
      "text/latex": [
       "\\begin{enumerate*}\n",
       "\\item 'id'\n",
       "\\item 'time'\n",
       "\\item 'status'\n",
       "\\item 'age'\n",
       "\\item 't5'\n",
       "\\item 'Over40'\n",
       "\\item 'MisMatchLevel'\n",
       "\\end{enumerate*}\n"
      ],
      "text/markdown": [
       "1. 'id'\n",
       "2. 'time'\n",
       "3. 'status'\n",
       "4. 'age'\n",
       "5. 't5'\n",
       "6. 'Over40'\n",
       "7. 'MisMatchLevel'\n",
       "\n",
       "\n"
      ],
      "text/plain": [
       "[1] \"id\"            \"time\"          \"status\"        \"age\"          \n",
       "[5] \"t5\"            \"Over40\"        \"MisMatchLevel\""
      ]
     },
     "metadata": {},
     "output_type": "display_data"
    }
   ],
   "source": [
    "names(Stan)"
   ]
  },
  {
   "cell_type": "code",
   "execution_count": 41,
   "id": "2fb3eb21",
   "metadata": {},
   "outputs": [],
   "source": [
    "colnames(Stan) <- c('ID', 'Time', 'Status', 'Age', 't5Score', 'Over40', 'MisMatchLevel')"
   ]
  },
  {
   "cell_type": "code",
   "execution_count": 42,
   "id": "086b911a",
   "metadata": {},
   "outputs": [
    {
     "data": {
      "text/html": [
       "<style>\n",
       ".list-inline {list-style: none; margin:0; padding: 0}\n",
       ".list-inline>li {display: inline-block}\n",
       ".list-inline>li:not(:last-child)::after {content: \"\\00b7\"; padding: 0 .5ex}\n",
       "</style>\n",
       "<ol class=list-inline><li>'ID'</li><li>'Time'</li><li>'Status'</li><li>'Age'</li><li>'t5Score'</li><li>'Over40'</li><li>'MisMatchLevel'</li></ol>\n"
      ],
      "text/latex": [
       "\\begin{enumerate*}\n",
       "\\item 'ID'\n",
       "\\item 'Time'\n",
       "\\item 'Status'\n",
       "\\item 'Age'\n",
       "\\item 't5Score'\n",
       "\\item 'Over40'\n",
       "\\item 'MisMatchLevel'\n",
       "\\end{enumerate*}\n"
      ],
      "text/markdown": [
       "1. 'ID'\n",
       "2. 'Time'\n",
       "3. 'Status'\n",
       "4. 'Age'\n",
       "5. 't5Score'\n",
       "6. 'Over40'\n",
       "7. 'MisMatchLevel'\n",
       "\n",
       "\n"
      ],
      "text/plain": [
       "[1] \"ID\"            \"Time\"          \"Status\"        \"Age\"          \n",
       "[5] \"t5Score\"       \"Over40\"        \"MisMatchLevel\""
      ]
     },
     "metadata": {},
     "output_type": "display_data"
    }
   ],
   "source": [
    "names(Stan)"
   ]
  },
  {
   "cell_type": "markdown",
   "id": "b08ca701",
   "metadata": {},
   "source": [
    "__Attach the Data__"
   ]
  },
  {
   "cell_type": "code",
   "execution_count": 43,
   "id": "21c06b2c",
   "metadata": {},
   "outputs": [],
   "source": [
    "attach(Stan)"
   ]
  },
  {
   "cell_type": "markdown",
   "id": "2e8cc8f1",
   "metadata": {},
   "source": [
    "In this example, we attach the data but I prefer to designate the data frame name and its coloumn. <br>\n",
    "Imagine if you are handling many data set at the same time, and they have same column names, it gives you confusion which is which without designaintg the data name "
   ]
  },
  {
   "cell_type": "markdown",
   "id": "0a38be7b",
   "metadata": {},
   "source": [
    "### 3. Fit a KM Model"
   ]
  },
  {
   "cell_type": "code",
   "execution_count": 45,
   "id": "7292fea2",
   "metadata": {},
   "outputs": [],
   "source": [
    "stan.KM <- survfit (Surv(Time, Status) ~ MisMatchLevel,  type=\"kaplan-meier\")"
   ]
  },
  {
   "cell_type": "code",
   "execution_count": 46,
   "id": "40436066",
   "metadata": {},
   "outputs": [
    {
     "data": {
      "text/plain": [
       "Call: survfit(formula = Surv(Time, Status) ~ MisMatchLevel, type = \"kaplan-meier\")\n",
       "\n",
       "                MisMatchLevel=1 \n",
       " time n.risk n.event survival std.err lower 95% CI upper 95% CI\n",
       "    1     53       2    0.962  0.0262        0.912        1.000\n",
       "   12     51       1    0.943  0.0317        0.883        1.000\n",
       "   25     50       1    0.925  0.0363        0.856        0.998\n",
       "   26     49       1    0.906  0.0402        0.830        0.988\n",
       "   31     48       1    0.887  0.0435        0.805        0.976\n",
       "   36     47       1    0.868  0.0465        0.781        0.964\n",
       "   42     46       1    0.849  0.0492        0.758        0.951\n",
       "   44     45       1    0.830  0.0516        0.735        0.938\n",
       "   45     44       1    0.811  0.0537        0.713        0.924\n",
       "   46     43       1    0.792  0.0557        0.690        0.910\n",
       "   47     42       1    0.774  0.0575        0.669        0.895\n",
       "   48     41       1    0.755  0.0591        0.647        0.880\n",
       "   50     40       1    0.736  0.0606        0.626        0.865\n",
       "   60     39       1    0.717  0.0619        0.605        0.849\n",
       "   65     38       1    0.698  0.0631        0.585        0.833\n",
       "   66     37       1    0.679  0.0641        0.565        0.817\n",
       "  126     36       1    0.660  0.0651        0.544        0.801\n",
       "  146     35       1    0.642  0.0659        0.525        0.785\n",
       "  195     34       1    0.623  0.0666        0.505        0.768\n",
       "  263     33       1    0.604  0.0672        0.485        0.751\n",
       "  274     32       1    0.585  0.0677        0.466        0.734\n",
       "  293     31       1    0.566  0.0681        0.447        0.717\n",
       "  297     30       1    0.547  0.0684        0.428        0.699\n",
       "  431     29       1    0.528  0.0686        0.410        0.681\n",
       "  547     27       1    0.509  0.0688        0.390        0.663\n",
       "  550     25       1    0.488  0.0690        0.370        0.644\n",
       "  731     21       1    0.465  0.0695        0.347        0.623\n",
       "  994     19       1    0.441  0.0700        0.323        0.602\n",
       " 1232     15       1    0.411  0.0712        0.293        0.578\n",
       " 1247     14       1    0.382  0.0720        0.264        0.552\n",
       " 1352     11       1    0.347  0.0733        0.230        0.525\n",
       " 2127      5       1    0.278  0.0854        0.152        0.507\n",
       " 2878      3       1    0.185  0.0946        0.068        0.504\n",
       "\n",
       "                MisMatchLevel=2 \n",
       "   time n.risk n.event survival std.err lower 95% CI upper 95% CI\n",
       "    0.5     53       1    0.981  0.0187        0.945        1.000\n",
       "    7.0     52       1    0.962  0.0262        0.912        1.000\n",
       "   15.0     51       1    0.943  0.0317        0.883        1.000\n",
       "   29.0     50       1    0.925  0.0363        0.856        0.998\n",
       "   30.0     49       1    0.906  0.0402        0.830        0.988\n",
       "   47.0     48       1    0.887  0.0435        0.805        0.976\n",
       "   48.0     47       1    0.868  0.0465        0.781        0.964\n",
       "   66.0     46       1    0.849  0.0492        0.758        0.951\n",
       "   68.0     45       2    0.811  0.0537        0.713        0.924\n",
       "   86.0     43       1    0.792  0.0557        0.690        0.910\n",
       "   90.0     42       1    0.774  0.0575        0.669        0.895\n",
       "  122.0     41       1    0.755  0.0591        0.647        0.880\n",
       "  132.0     40       1    0.736  0.0606        0.626        0.865\n",
       "  139.0     39       1    0.717  0.0619        0.605        0.849\n",
       "  145.0     38       1    0.698  0.0631        0.585        0.833\n",
       "  161.0     37       1    0.679  0.0641        0.565        0.817\n",
       "  202.0     36       1    0.660  0.0651        0.544        0.801\n",
       "  221.0     35       1    0.642  0.0659        0.525        0.785\n",
       "  227.0     34       1    0.623  0.0666        0.505        0.768\n",
       "  254.0     33       1    0.604  0.0672        0.485        0.751\n",
       "  265.0     32       1    0.585  0.0677        0.466        0.734\n",
       "  279.0     30       1    0.565  0.0682        0.446        0.716\n",
       "  328.0     29       1    0.546  0.0686        0.427        0.698\n",
       "  381.0     28       1    0.526  0.0688        0.407        0.680\n",
       "  623.0     24       1    0.504  0.0694        0.385        0.661\n",
       "  729.0     23       1    0.483  0.0697        0.364        0.641\n",
       "  730.0     22       1    0.461  0.0699        0.342        0.620\n",
       "  928.0     19       1    0.436  0.0703        0.318        0.598\n",
       " 1024.0     17       1    0.411  0.0707        0.293        0.576\n",
       " 1271.0     15       1    0.383  0.0711        0.266        0.551\n",
       " 1350.0     13       1    0.354  0.0715        0.238        0.526\n",
       " 1961.0      8       1    0.310  0.0750        0.193        0.498\n",
       " 1996.0      7       1    0.265  0.0762        0.151        0.466\n",
       "\n",
       "                MisMatchLevel=3 \n",
       " time n.risk n.event survival std.err lower 95% CI upper 95% CI\n",
       "    3     51       1    0.980  0.0194       0.9431        1.000\n",
       "   10     50       2    0.941  0.0329       0.8788        1.000\n",
       "   22     48       1    0.922  0.0376       0.8507        0.998\n",
       "   23     47       1    0.902  0.0416       0.8239        0.987\n",
       "   25     46       1    0.882  0.0451       0.7982        0.975\n",
       "   39     45       1    0.863  0.0482       0.7733        0.963\n",
       "   40     44       1    0.843  0.0509       0.7490        0.949\n",
       "   44     43       1    0.824  0.0534       0.7253        0.935\n",
       "   48     42       1    0.804  0.0556       0.7020        0.921\n",
       "   50     41       1    0.784  0.0576       0.6792        0.906\n",
       "   51     40       2    0.745  0.0610       0.6346        0.875\n",
       "   54     38       1    0.725  0.0625       0.6128        0.859\n",
       "   63     37       1    0.706  0.0638       0.5913        0.843\n",
       "   64     36       1    0.686  0.0650       0.5700        0.826\n",
       "   65     35       1    0.667  0.0660       0.5491        0.809\n",
       "  136     34       1    0.647  0.0669       0.5283        0.792\n",
       "  169     33       1    0.627  0.0677       0.5079        0.775\n",
       "  191     31       1    0.607  0.0685       0.4868        0.757\n",
       "  323     28       1    0.586  0.0694       0.4642        0.739\n",
       "  538     25       1    0.562  0.0704       0.4397        0.719\n",
       "  544     24       1    0.539  0.0713       0.4156        0.698\n",
       "  626     21       1    0.513  0.0724       0.3891        0.676\n",
       "  631     20       1    0.487  0.0732       0.3632        0.654\n",
       "  836     17       1    0.459  0.0743       0.3340        0.630\n",
       " 1150     15       1    0.428  0.0753       0.3032        0.604\n",
       " 1318     13       1    0.395  0.0764       0.2705        0.577\n",
       " 1384     10       1    0.356  0.0783       0.2310        0.548\n",
       " 1478      9       1    0.316  0.0790       0.1938        0.516\n",
       " 1534      8       1    0.277  0.0784       0.1588        0.482\n",
       " 1634      7       1    0.237  0.0765       0.1260        0.446\n",
       " 2474      2       1    0.119  0.0921       0.0258        0.544\n",
       " 2723      1       1    0.000     NaN           NA           NA\n"
      ]
     },
     "metadata": {},
     "output_type": "display_data"
    }
   ],
   "source": [
    "summary(stan.KM)"
   ]
  },
  {
   "cell_type": "code",
   "execution_count": 52,
   "id": "3fab5ab8",
   "metadata": {},
   "outputs": [
    {
     "data": {
      "image/png": "[encoded data removed]",
      "text/plain": [
       "Plot with title \"KM-Model\""
      ]
     },
     "metadata": {
      "image/png": {
       "height": 420,
       "width": 420
      }
     },
     "output_type": "display_data"
    }
   ],
   "source": [
    "plot(stan.KM, conf.int=F, xlab=\"Time (Days)\", ylab=\"Survival\", main=\"KM-Model\", \n",
    "     col=c(\"red\", \"blue\", \"darkgreen\"), las=1, lwd=3, mark.time=TRUE)\n",
    "\n",
    "# add the legend: legend(x Coordinate  , y Coordinate )\n",
    "# lty=1, solid line\n",
    "# lwd=2, line width\n",
    "# cex : size of legend box\n",
    "legend(2500, 0.98, legend=c(\"Low level\", \"Medium level\", \"High level\"), lty=1, lwd=3, \n",
    "      col=c(\"red\", \"blue\", \"darkgreen\"), bty=\"\", cex=1)"
   ]
  },
  {
   "cell_type": "markdown",
   "id": "8c4a2785",
   "metadata": {},
   "source": [
    "It seems there is no significant difference between MisMatchLevel."
   ]
  },
  {
   "cell_type": "markdown",
   "id": "6d5beb7e",
   "metadata": {},
   "source": [
    "### 4. Cox Proportional Hazards Model"
   ]
  },
  {
   "cell_type": "markdown",
   "id": "b920934e",
   "metadata": {},
   "source": [
    "__Lets fit the Cox-PH model, and use both Over 40 and MMlevel__"
   ]
  },
  {
   "cell_type": "code",
   "execution_count": 53,
   "id": "7a766aae",
   "metadata": {},
   "outputs": [],
   "source": [
    "cox.mod <- coxph(Surv(Time, Status) ~ Over40 + MisMatchLevel)"
   ]
  },
  {
   "cell_type": "code",
   "execution_count": 54,
   "id": "266ecf05",
   "metadata": {},
   "outputs": [
    {
     "data": {
      "text/plain": [
       "Call:\n",
       "coxph(formula = Surv(Time, Status) ~ Over40 + MisMatchLevel)\n",
       "\n",
       "  n= 157, number of events= 102 \n",
       "\n",
       "                   coef exp(coef) se(coef)      z Pr(>|z|)  \n",
       "Over401         0.52547   1.69126  0.21855  2.404   0.0162 *\n",
       "MisMatchLevel2 -0.06639   0.93576  0.24297 -0.273   0.7846  \n",
       "MisMatchLevel3  0.10315   1.10866  0.24353  0.424   0.6719  \n",
       "---\n",
       "Signif. codes:  0 '***' 0.001 '**' 0.01 '*' 0.05 '.' 0.1 ' ' 1\n",
       "\n",
       "               exp(coef) exp(-coef) lower .95 upper .95\n",
       "Over401           1.6913     0.5913    1.1020     2.596\n",
       "MisMatchLevel2    0.9358     1.0686    0.5812     1.507\n",
       "MisMatchLevel3    1.1087     0.9020    0.6879     1.787\n",
       "\n",
       "Concordance= 0.563  (se = 0.031 )\n",
       "Likelihood ratio test= 6.58  on 3 df,   p=0.09\n",
       "Wald test            = 6.21  on 3 df,   p=0.1\n",
       "Score (logrank) test = 6.34  on 3 df,   p=0.1\n"
      ]
     },
     "metadata": {},
     "output_type": "display_data"
    }
   ],
   "source": [
    "summary(cox.mod)"
   ]
  },
  {
   "cell_type": "markdown",
   "id": "40f6b3db",
   "metadata": {},
   "source": [
    "We see the result. \n",
    "* n=157: the number of observation, number of events = 102\n",
    "* coef : coefficient, Note: There is no coefficient for \"intercept\" since for Cox model, baseline hazard is unspecified. Note that we cannot estimate survival function in Cox model. But we can estimate hazard ratio.\n",
    "\n",
    "* exp(coef): exponenciated coeffiecient which give us the hazard ratio. In this example, exp(coef)=1.69126 for Over401. Which means \"at a given instant in time, someone who is over 40 is 1.68 times as likely to die as someone who is under 40 adjusting for mismatch level.\n",
    "\n",
    "* exp(-coef): In this example, exp(-coef)=0.5914 for Over401. Which means \"at a given instant in time, someone who is under 40 is 0.59 times as likely to die as someone who is over 40 adjusting for mismatch level.\n",
    "\n",
    "* The last part is Hypothesis H<sub>0</sub>: $\\beta$<sub>1</sub>$=$$\\beta$<sub>2</sub>$=$...$=$$\\beta$<sub>k</sub>$=0$ and for  H<sub>a</sub>,  at least one $\\beta$<sub>i</sub> is not zero.\n",
    "\n",
    "* Concordance, we have 0.563 ... random guess is 0.5...\n",
    "\n",
    "* For test part, p value is all over then $\\alpha$ level 5%, we fail to reject the Null hypothesis"
   ]
  },
  {
   "cell_type": "markdown",
   "id": "36bf786b",
   "metadata": {},
   "source": [
    "__Comparing nested models using the Likelihood ratio test(LRT) (Can we drop MMlevel?)__"
   ]
  },
  {
   "cell_type": "code",
   "execution_count": 57,
   "id": "84eaeddb",
   "metadata": {},
   "outputs": [],
   "source": [
    "cox.mod <- coxph(Surv(Time, Status) ~ Over40 + MisMatchLevel)"
   ]
  },
  {
   "cell_type": "code",
   "execution_count": 58,
   "id": "6c36f18b",
   "metadata": {},
   "outputs": [],
   "source": [
    "cox.mod2 <- coxph(Surv(Time, Status) ~ Over40)"
   ]
  },
  {
   "cell_type": "markdown",
   "id": "ad8a8ac8",
   "metadata": {},
   "source": [
    "__Do LRT to compare two models__"
   ]
  },
  {
   "cell_type": "code",
   "execution_count": 59,
   "id": "13340667",
   "metadata": {},
   "outputs": [
    {
     "data": {
      "text/html": [
       "<table class=\"dataframe\">\n",
       "<caption>A anova: 2 × 4</caption>\n",
       "<thead>\n",
       "\t<tr><th></th><th scope=col>loglik</th><th scope=col>Chisq</th><th scope=col>Df</th><th scope=col>Pr(&gt;|Chi|)</th></tr>\n",
       "\t<tr><th></th><th scope=col>&lt;dbl&gt;</th><th scope=col>&lt;dbl&gt;</th><th scope=col>&lt;int&gt;</th><th scope=col>&lt;dbl&gt;</th></tr>\n",
       "</thead>\n",
       "<tbody>\n",
       "\t<tr><th scope=row>1</th><td>-448.0490</td><td>       NA</td><td>NA</td><td>      NA</td></tr>\n",
       "\t<tr><th scope=row>2</th><td>-447.8047</td><td>0.4886271</td><td> 2</td><td>0.783242</td></tr>\n",
       "</tbody>\n",
       "</table>\n"
      ],
      "text/latex": [
       "A anova: 2 × 4\n",
       "\\begin{tabular}{r|llll}\n",
       "  & loglik & Chisq & Df & Pr(>\\textbar{}Chi\\textbar{})\\\\\n",
       "  & <dbl> & <dbl> & <int> & <dbl>\\\\\n",
       "\\hline\n",
       "\t1 & -448.0490 &        NA & NA &       NA\\\\\n",
       "\t2 & -447.8047 & 0.4886271 &  2 & 0.783242\\\\\n",
       "\\end{tabular}\n"
      ],
      "text/markdown": [
       "\n",
       "A anova: 2 × 4\n",
       "\n",
       "| <!--/--> | loglik &lt;dbl&gt; | Chisq &lt;dbl&gt; | Df &lt;int&gt; | Pr(&gt;|Chi|) &lt;dbl&gt; |\n",
       "|---|---|---|---|---|\n",
       "| 1 | -448.0490 |        NA | NA |       NA |\n",
       "| 2 | -447.8047 | 0.4886271 |  2 | 0.783242 |\n",
       "\n"
      ],
      "text/plain": [
       "  loglik    Chisq     Df Pr(>|Chi|)\n",
       "1 -448.0490        NA NA       NA  \n",
       "2 -447.8047 0.4886271  2 0.783242  "
      ]
     },
     "metadata": {},
     "output_type": "display_data"
    }
   ],
   "source": [
    "anova(cox.mod2, cox.mod, test=\"LRT\")"
   ]
  },
  {
   "cell_type": "markdown",
   "id": "ae245f1a",
   "metadata": {},
   "source": [
    "P-value is very large, thus we can choose cox.mod2. We can drop MisMathchLevel without lose of predicted power. "
   ]
  },
  {
   "cell_type": "markdown",
   "id": "1631f727",
   "metadata": {},
   "source": [
    "## 5. Now we add numerical X variable into the model"
   ]
  },
  {
   "cell_type": "code",
   "execution_count": 61,
   "id": "505d97b9",
   "metadata": {},
   "outputs": [],
   "source": [
    "cox.num <- coxph(Surv(Time, Status) ~ Age + t5Score)"
   ]
  },
  {
   "cell_type": "code",
   "execution_count": 62,
   "id": "e81a35d6",
   "metadata": {},
   "outputs": [
    {
     "data": {
      "text/plain": [
       "Call:\n",
       "coxph(formula = Surv(Time, Status) ~ Age + t5Score)\n",
       "\n",
       "  n= 157, number of events= 102 \n",
       "\n",
       "           coef exp(coef) se(coef)     z Pr(>|z|)   \n",
       "Age     0.02961   1.03006  0.01136 2.608  0.00911 **\n",
       "t5Score 0.17041   1.18579  0.18326 0.930  0.35243   \n",
       "---\n",
       "Signif. codes:  0 '***' 0.001 '**' 0.01 '*' 0.05 '.' 0.1 ' ' 1\n",
       "\n",
       "        exp(coef) exp(-coef) lower .95 upper .95\n",
       "Age         1.030     0.9708     1.007     1.053\n",
       "t5Score     1.186     0.8433     0.828     1.698\n",
       "\n",
       "Concordance= 0.59  (se = 0.034 )\n",
       "Likelihood ratio test= 8.47  on 2 df,   p=0.01\n",
       "Wald test            = 7.81  on 2 df,   p=0.02\n",
       "Score (logrank) test = 7.87  on 2 df,   p=0.02\n"
      ]
     },
     "metadata": {},
     "output_type": "display_data"
    }
   ],
   "source": [
    "summary(cox.num)"
   ]
  },
  {
   "cell_type": "markdown",
   "id": "450ede09",
   "metadata": {},
   "source": [
    "* __exp(coef) of Age__ is 1.030 : At a given instant in time, the probability of dying for someone who is 1 year older is 3% higher than someone who is 1 year younger adjusting for t5 score"
   ]
  },
  {
   "cell_type": "markdown",
   "id": "1063895c",
   "metadata": {},
   "source": [
    "# <span style=\"color:MidnightBlue\"> Survival Analysis Part 12 | Checking Cox PH Model Assumptions in R with RStudio </span>.\n",
    "\n",
    "https://www.youtube.com/watch?v=M1QQ8QQn8Zs&list=PLqzoL9-eJTNDdnKvep_YHIwk2AMqHhuJ0&index=11"
   ]
  },
  {
   "cell_type": "markdown",
   "id": "79dc6eff",
   "metadata": {},
   "source": [
    "Recall the model we fit in the previous part"
   ]
  },
  {
   "cell_type": "code",
   "execution_count": 65,
   "id": "138525da",
   "metadata": {},
   "outputs": [],
   "source": [
    "cox.num <- coxph(Surv(Time, Status) ~ Age + t5Score)"
   ]
  },
  {
   "cell_type": "markdown",
   "id": "61ccb095",
   "metadata": {},
   "source": [
    "We will review\n",
    "\n",
    "* how to check linearity\n",
    "* how to check the proportional hazard's assumptions"
   ]
  },
  {
   "cell_type": "markdown",
   "id": "7c893a6d",
   "metadata": {},
   "source": [
    "### 1. Checking linearity for the model that used numerical X variables"
   ]
  },
  {
   "cell_type": "code",
   "execution_count": 71,
   "id": "1a642b1e",
   "metadata": {},
   "outputs": [
    {
     "data": {
      "image/png": "[encoded data removed]",
      "text/plain": [
       "Plot with title \"Residual Plot\""
      ]
     },
     "metadata": {
      "image/png": {
       "height": 420,
       "width": 420
      }
     },
     "output_type": "display_data"
    }
   ],
   "source": [
    "# using Martingale residuals\n",
    "\n",
    "plot(predict(cox.num), residuals(cox.num, type=\"martingale\"),\n",
    "     xlab=\"fitted value\", ylab=\"Martingale residuals\",\n",
    "     main=\"Residual Plot\", las=1)\n",
    "\n",
    "# add a line ax residual=0 \n",
    "abline(h=0, col=\"blue\")\n",
    "\n",
    "# fit a smoother thru the points\n",
    "lines(smooth.spline(predict(cox.num), residuals(cox.num, type=\"martingale\")), col=\"red\")"
   ]
  },
  {
   "cell_type": "markdown",
   "id": "0569f4ae",
   "metadata": {},
   "source": [
    "Seems there is a little bit non-linearity"
   ]
  },
  {
   "cell_type": "code",
   "execution_count": 75,
   "id": "5073aff5",
   "metadata": {},
   "outputs": [
    {
     "data": {
      "image/png": "[encoded data removed]",
      "text/plain": [
       "plot without title"
      ]
     },
     "metadata": {
      "image/png": {
       "height": 420,
       "width": 420
      }
     },
     "output_type": "display_data"
    }
   ],
   "source": [
    "# Checking linearity using Deviance residuals\n",
    "plot(predict(cox.num), residuals(cox.num, type=\"deviance\"))\n",
    "abline(h=0, col=\"blue\")\n",
    "lines(smooth.spline(predict(cox.num), residuals(cox.num, type=\"deviance\")), col=\"red\")"
   ]
  },
  {
   "cell_type": "markdown",
   "id": "38fe7ad0",
   "metadata": {},
   "source": [
    "The deviance residual has also same pattern."
   ]
  },
  {
   "cell_type": "markdown",
   "id": "fbfdf6e7",
   "metadata": {},
   "source": [
    "__Solution__ to solve non-linearity is same  as linear regression model such as categorizing including polymonial terms, transforming it.  "
   ]
  },
  {
   "cell_type": "markdown",
   "id": "6aed4c2b",
   "metadata": {},
   "source": [
    "## 2. Checking proportional hazards assumption"
   ]
  },
  {
   "cell_type": "markdown",
   "id": "9a5b67a6",
   "metadata": {},
   "source": [
    "Test for proportional hazards using Schoenfeld test for PH\n",
    "* H<sub>0</sub>: Hazards are proportional.\n",
    "* H<sub>a</sub>: Hazards are not proportionl.\n",
    "\n",
    "This test will return test for each X, and for overall model"
   ]
  },
  {
   "cell_type": "code",
   "execution_count": 78,
   "id": "e73283f6",
   "metadata": {},
   "outputs": [
    {
     "data": {
      "text/plain": [
       "        chisq df    p\n",
       "Age      0.83  1 0.36\n",
       "t5Score  2.06  1 0.15\n",
       "GLOBAL   2.77  2 0.25"
      ]
     },
     "metadata": {},
     "output_type": "display_data"
    }
   ],
   "source": [
    "cox.zph(cox.num)"
   ]
  },
  {
   "cell_type": "markdown",
   "id": "d3a6883e",
   "metadata": {},
   "source": [
    "For all p-value is greater than 0.05, thus we fail to reject the Null hypothesis."
   ]
  },
  {
   "cell_type": "markdown",
   "id": "dda835ab",
   "metadata": {},
   "source": [
    "We can see a plot of these as well (one plot for each parameter). These are plots of \"changes in b over time\", if we let \"b, coefficient\" vary over time, this means that there is not PH. The effect is not constact over time. "
   ]
  },
  {
   "cell_type": "code",
   "execution_count": 87,
   "id": "1d7cb39d",
   "metadata": {},
   "outputs": [],
   "source": [
    "# Split screen in 2 by 1\n",
    "# par(mfrow = c(2,1))\n",
    "\n",
    "# plot(cox.zph(cox.num))"
   ]
  },
  {
   "cell_type": "code",
   "execution_count": 86,
   "id": "8f569822",
   "metadata": {},
   "outputs": [],
   "source": [
    "par(mfrow = c(1,1))"
   ]
  },
  {
   "cell_type": "code",
   "execution_count": 91,
   "id": "4ae97a5f",
   "metadata": {},
   "outputs": [
    {
     "data": {
      "image/png": "[encoded data removed]",
      "text/plain": [
       "plot without title"
      ]
     },
     "metadata": {
      "image/png": {
       "height": 420,
       "width": 420
      }
     },
     "output_type": "display_data"
    }
   ],
   "source": [
    "# age\n",
    "plot(cox.zph(cox.num)[1])\n",
    "abline(h=0, col=2)"
   ]
  },
  {
   "cell_type": "markdown",
   "id": "c031f14b",
   "metadata": {},
   "source": [
    "Coefficient does change over time."
   ]
  },
  {
   "cell_type": "code",
   "execution_count": 92,
   "id": "fca0416b",
   "metadata": {},
   "outputs": [
    {
     "data": {
      "image/png": "[encoded data removed]",
      "text/plain": [
       "plot without title"
      ]
     },
     "metadata": {
      "image/png": {
       "height": 420,
       "width": 420
      }
     },
     "output_type": "display_data"
    }
   ],
   "source": [
    "# t5\n",
    "plot(cox.zph(cox.num)[2])\n",
    "abline(h=0, col=2)"
   ]
  },
  {
   "cell_type": "markdown",
   "id": "b053d95a",
   "metadata": {},
   "source": [
    "Coefficient almost does not change over time."
   ]
  }
 ],
 "metadata": {
  "kernelspec": {
   "display_name": "R",
   "language": "R",
   "name": "ir"
  },
  "language_info": {
   "codemirror_mode": "r",
   "file_extension": ".r",
   "mimetype": "text/x-r-source",
   "name": "R",
   "pygments_lexer": "r",
   "version": "4.1.3"
  }
 },
 "nbformat": 4,
 "nbformat_minor": 5
}
