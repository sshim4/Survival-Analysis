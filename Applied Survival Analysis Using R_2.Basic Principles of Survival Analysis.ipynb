{
 "cells": [
  {
   "cell_type": "markdown",
   "id": "2152964b",
   "metadata": {},
   "source": [
    "# Applied Survival Analysis Using R \n",
    "### Book by Dirk F. Moore"
   ]
  },
  {
   "cell_type": "markdown",
   "id": "916de7ea",
   "metadata": {},
   "source": [
    "## Chapter 1 Introduction"
   ]
  },
  {
   "cell_type": "markdown",
   "id": "60921907",
   "metadata": {},
   "source": [
    "* Note : This note book is created with R in Jupyter Notebook.\n",
    "* Note : I made this note book y coping graphs of the book while studying the book. Addtinal R code is added if necessary.  For detail explanation, read the book. "
   ]
  },
  {
   "cell_type": "code",
   "execution_count": 28,
   "id": "d74883ba",
   "metadata": {},
   "outputs": [
    {
     "data": {
      "text/plain": [
       "               _                           \n",
       "platform       x86_64-w64-mingw32          \n",
       "arch           x86_64                      \n",
       "os             mingw32                     \n",
       "system         x86_64, mingw32             \n",
       "status                                     \n",
       "major          4                           \n",
       "minor          1.3                         \n",
       "year           2022                        \n",
       "month          03                          \n",
       "day            10                          \n",
       "svn rev        81868                       \n",
       "language       R                           \n",
       "version.string R version 4.1.3 (2022-03-10)\n",
       "nickname       One Push-Up                 "
      ]
     },
     "metadata": {},
     "output_type": "display_data"
    }
   ],
   "source": [
    "R.version"
   ]
  },
  {
   "cell_type": "markdown",
   "id": "ebffc760",
   "metadata": {},
   "source": [
    "### Example 1.2. Xelox in patients with advanced gastric cancer"
   ]
  },
  {
   "cell_type": "code",
   "execution_count": 29,
   "id": "143983bc",
   "metadata": {},
   "outputs": [
    {
     "name": "stderr",
     "output_type": "stream",
     "text": [
      "Warning message:\n",
      "\"package 'asaur' is in use and will not be installed\"\n"
     ]
    }
   ],
   "source": [
    "install.packages('asaur')"
   ]
  },
  {
   "cell_type": "code",
   "execution_count": 30,
   "id": "ebce7a6c",
   "metadata": {},
   "outputs": [],
   "source": [
    "library (asaur)"
   ]
  },
  {
   "cell_type": "code",
   "execution_count": 31,
   "id": "eb839044",
   "metadata": {},
   "outputs": [
    {
     "ename": "ERROR",
     "evalue": "Error in parse(text = x, srcfile = src): <text>:1:5: unexpected symbol\n1: Tis is\n        ^\n",
     "output_type": "error",
     "traceback": [
      "Error in parse(text = x, srcfile = src): <text>:1:5: unexpected symbol\n1: Tis is\n        ^\nTraceback:\n"
     ]
    }
   ],
   "source": [
    "Tis is a Phaase II clinical trial of Xeloda and oxaliplatin (XELOX) chemotherapy given before surgery to 48 advanced gastric "
   ]
  },
  {
   "cell_type": "code",
   "execution_count": 32,
   "id": "878d894e",
   "metadata": {
    "scrolled": true
   },
   "outputs": [
    {
     "data": {
      "text/html": [
       "<table class=\"dataframe\">\n",
       "<caption>A data.frame: 5 × 2</caption>\n",
       "<thead>\n",
       "\t<tr><th></th><th scope=col>timeWeeks</th><th scope=col>delta</th></tr>\n",
       "\t<tr><th></th><th scope=col>&lt;int&gt;</th><th scope=col>&lt;int&gt;</th></tr>\n",
       "</thead>\n",
       "<tbody>\n",
       "\t<tr><th scope=row>23</th><td>42</td><td>1</td></tr>\n",
       "\t<tr><th scope=row>24</th><td>43</td><td>1</td></tr>\n",
       "\t<tr><th scope=row>25</th><td>43</td><td>0</td></tr>\n",
       "\t<tr><th scope=row>26</th><td>46</td><td>1</td></tr>\n",
       "\t<tr><th scope=row>27</th><td>48</td><td>0</td></tr>\n",
       "</tbody>\n",
       "</table>\n"
      ],
      "text/latex": [
       "A data.frame: 5 × 2\n",
       "\\begin{tabular}{r|ll}\n",
       "  & timeWeeks & delta\\\\\n",
       "  & <int> & <int>\\\\\n",
       "\\hline\n",
       "\t23 & 42 & 1\\\\\n",
       "\t24 & 43 & 1\\\\\n",
       "\t25 & 43 & 0\\\\\n",
       "\t26 & 46 & 1\\\\\n",
       "\t27 & 48 & 0\\\\\n",
       "\\end{tabular}\n"
      ],
      "text/markdown": [
       "\n",
       "A data.frame: 5 × 2\n",
       "\n",
       "| <!--/--> | timeWeeks &lt;int&gt; | delta &lt;int&gt; |\n",
       "|---|---|---|\n",
       "| 23 | 42 | 1 |\n",
       "| 24 | 43 | 1 |\n",
       "| 25 | 43 | 0 |\n",
       "| 26 | 46 | 1 |\n",
       "| 27 | 48 | 0 |\n",
       "\n"
      ],
      "text/plain": [
       "   timeWeeks delta\n",
       "23 42        1    \n",
       "24 43        1    \n",
       "25 43        0    \n",
       "26 46        1    \n",
       "27 48        0    "
      ]
     },
     "metadata": {},
     "output_type": "display_data"
    }
   ],
   "source": [
    "gastricXelox[23:27,]"
   ]
  },
  {
   "cell_type": "markdown",
   "id": "02b9952f",
   "metadata": {},
   "source": [
    "* timeWeeks: a list of survival times, rounded to the nearest week\n",
    "* delta : censoiring indicator (1 : progression or death)"
   ]
  },
  {
   "cell_type": "markdown",
   "id": "9b3602e0",
   "metadata": {},
   "source": [
    "### Example 1.3 Pacreatic cancer in patients with locally advanced or metastatic disease"
   ]
  },
  {
   "cell_type": "code",
   "execution_count": 33,
   "id": "052c42e3",
   "metadata": {},
   "outputs": [
    {
     "data": {
      "text/html": [
       "<table class=\"dataframe\">\n",
       "<caption>A data.frame: 6 × 4</caption>\n",
       "<thead>\n",
       "\t<tr><th></th><th scope=col>stage</th><th scope=col>onstudy</th><th scope=col>progression</th><th scope=col>death</th></tr>\n",
       "\t<tr><th></th><th scope=col>&lt;fct&gt;</th><th scope=col>&lt;fct&gt;</th><th scope=col>&lt;fct&gt;</th><th scope=col>&lt;fct&gt;</th></tr>\n",
       "</thead>\n",
       "<tbody>\n",
       "\t<tr><th scope=row>1</th><td>M </td><td>12/16/2005</td><td>2/2/2006 </td><td>10/19/2006</td></tr>\n",
       "\t<tr><th scope=row>2</th><td>M </td><td>1/6/2006  </td><td>2/26/2006</td><td>4/19/2006 </td></tr>\n",
       "\t<tr><th scope=row>3</th><td>LA</td><td>2/3/2006  </td><td>8/2/2006 </td><td>1/19/2007 </td></tr>\n",
       "\t<tr><th scope=row>4</th><td>M </td><td>3/30/2006 </td><td>.        </td><td>5/11/2006 </td></tr>\n",
       "\t<tr><th scope=row>5</th><td>LA</td><td>4/27/2006 </td><td>3/11/2007</td><td>5/29/2007 </td></tr>\n",
       "\t<tr><th scope=row>6</th><td>M </td><td>5/7/2006  </td><td>6/25/2006</td><td>10/11/2006</td></tr>\n",
       "</tbody>\n",
       "</table>\n"
      ],
      "text/latex": [
       "A data.frame: 6 × 4\n",
       "\\begin{tabular}{r|llll}\n",
       "  & stage & onstudy & progression & death\\\\\n",
       "  & <fct> & <fct> & <fct> & <fct>\\\\\n",
       "\\hline\n",
       "\t1 & M  & 12/16/2005 & 2/2/2006  & 10/19/2006\\\\\n",
       "\t2 & M  & 1/6/2006   & 2/26/2006 & 4/19/2006 \\\\\n",
       "\t3 & LA & 2/3/2006   & 8/2/2006  & 1/19/2007 \\\\\n",
       "\t4 & M  & 3/30/2006  & .         & 5/11/2006 \\\\\n",
       "\t5 & LA & 4/27/2006  & 3/11/2007 & 5/29/2007 \\\\\n",
       "\t6 & M  & 5/7/2006   & 6/25/2006 & 10/11/2006\\\\\n",
       "\\end{tabular}\n"
      ],
      "text/markdown": [
       "\n",
       "A data.frame: 6 × 4\n",
       "\n",
       "| <!--/--> | stage &lt;fct&gt; | onstudy &lt;fct&gt; | progression &lt;fct&gt; | death &lt;fct&gt; |\n",
       "|---|---|---|---|---|\n",
       "| 1 | M  | 12/16/2005 | 2/2/2006  | 10/19/2006 |\n",
       "| 2 | M  | 1/6/2006   | 2/26/2006 | 4/19/2006  |\n",
       "| 3 | LA | 2/3/2006   | 8/2/2006  | 1/19/2007  |\n",
       "| 4 | M  | 3/30/2006  | .         | 5/11/2006  |\n",
       "| 5 | LA | 4/27/2006  | 3/11/2007 | 5/29/2007  |\n",
       "| 6 | M  | 5/7/2006   | 6/25/2006 | 10/11/2006 |\n",
       "\n"
      ],
      "text/plain": [
       "  stage onstudy    progression death     \n",
       "1 M     12/16/2005 2/2/2006    10/19/2006\n",
       "2 M     1/6/2006   2/26/2006   4/19/2006 \n",
       "3 LA    2/3/2006   8/2/2006    1/19/2007 \n",
       "4 M     3/30/2006  .           5/11/2006 \n",
       "5 LA    4/27/2006  3/11/2007   5/29/2007 \n",
       "6 M     5/7/2006   6/25/2006   10/11/2006"
      ]
     },
     "metadata": {},
     "output_type": "display_data"
    }
   ],
   "source": [
    "head(pancreatic)"
   ]
  },
  {
   "cell_type": "markdown",
   "id": "90525142",
   "metadata": {},
   "source": [
    "__Patient3__\n",
    "* A patient with locally advanced disease (stage=\"LA\")\n",
    "* entered the study on February 3, 2006\n",
    "* had progressive disease on Aug 2 of that year\n",
    "* died on January 19 of the following year\n",
    "* The progression-free survival for tha patient is \"onstudy - stage\" date\n",
    "\n",
    "__Patient4__\n",
    "* This patients with metastatic disease (stage=\"M\")\n",
    "* died on May 11 of of that year (with no recorded data of progression)\n",
    "* The progression-free survival for tha patient is \"death- stage\" date\n",
    "\n",
    "__For both patients, the overall survival = death - stage date__"
   ]
  },
  {
   "cell_type": "markdown",
   "id": "fc7f1a28",
   "metadata": {},
   "source": [
    "### Example 1.4. Survival prospects of prostate cancer patients with high-risk disease"
   ]
  },
  {
   "cell_type": "markdown",
   "id": "dd2f1e96",
   "metadata": {},
   "source": [
    "There are two outcomes of interest in this data.\n",
    "* death from prostata cancer and\n",
    "* death from other causes. \n",
    "\n",
    "We have competing risks survival analysis problem."
   ]
  },
  {
   "cell_type": "code",
   "execution_count": 34,
   "id": "c3055d41",
   "metadata": {
    "scrolled": true
   },
   "outputs": [
    {
     "data": {
      "text/html": [
       "<table class=\"dataframe\">\n",
       "<caption>A data.frame: 8 × 5</caption>\n",
       "<thead>\n",
       "\t<tr><th></th><th scope=col>grade</th><th scope=col>stage</th><th scope=col>ageGroup</th><th scope=col>survTime</th><th scope=col>status</th></tr>\n",
       "\t<tr><th></th><th scope=col>&lt;fct&gt;</th><th scope=col>&lt;fct&gt;</th><th scope=col>&lt;fct&gt;</th><th scope=col>&lt;int&gt;</th><th scope=col>&lt;int&gt;</th></tr>\n",
       "</thead>\n",
       "<tbody>\n",
       "\t<tr><th scope=row>88</th><td>poor</td><td>T2  </td><td>75-79</td><td>33</td><td>0</td></tr>\n",
       "\t<tr><th scope=row>89</th><td>mode</td><td>T2  </td><td>75-79</td><td> 6</td><td>0</td></tr>\n",
       "\t<tr><th scope=row>90</th><td>mode</td><td>T1c </td><td>75-79</td><td>15</td><td>2</td></tr>\n",
       "\t<tr><th scope=row>91</th><td>mode</td><td>T2  </td><td>70-74</td><td> 6</td><td>2</td></tr>\n",
       "\t<tr><th scope=row>92</th><td>mode</td><td>T1ab</td><td>80+  </td><td>93</td><td>1</td></tr>\n",
       "\t<tr><th scope=row>93</th><td>poor</td><td>T2  </td><td>80+  </td><td>60</td><td>2</td></tr>\n",
       "\t<tr><th scope=row>94</th><td>mode</td><td>T2  </td><td>80+  </td><td> 1</td><td>0</td></tr>\n",
       "\t<tr><th scope=row>95</th><td>mode</td><td>T1ab</td><td>75-79</td><td>34</td><td>0</td></tr>\n",
       "</tbody>\n",
       "</table>\n"
      ],
      "text/latex": [
       "A data.frame: 8 × 5\n",
       "\\begin{tabular}{r|lllll}\n",
       "  & grade & stage & ageGroup & survTime & status\\\\\n",
       "  & <fct> & <fct> & <fct> & <int> & <int>\\\\\n",
       "\\hline\n",
       "\t88 & poor & T2   & 75-79 & 33 & 0\\\\\n",
       "\t89 & mode & T2   & 75-79 &  6 & 0\\\\\n",
       "\t90 & mode & T1c  & 75-79 & 15 & 2\\\\\n",
       "\t91 & mode & T2   & 70-74 &  6 & 2\\\\\n",
       "\t92 & mode & T1ab & 80+   & 93 & 1\\\\\n",
       "\t93 & poor & T2   & 80+   & 60 & 2\\\\\n",
       "\t94 & mode & T2   & 80+   &  1 & 0\\\\\n",
       "\t95 & mode & T1ab & 75-79 & 34 & 0\\\\\n",
       "\\end{tabular}\n"
      ],
      "text/markdown": [
       "\n",
       "A data.frame: 8 × 5\n",
       "\n",
       "| <!--/--> | grade &lt;fct&gt; | stage &lt;fct&gt; | ageGroup &lt;fct&gt; | survTime &lt;int&gt; | status &lt;int&gt; |\n",
       "|---|---|---|---|---|---|\n",
       "| 88 | poor | T2   | 75-79 | 33 | 0 |\n",
       "| 89 | mode | T2   | 75-79 |  6 | 0 |\n",
       "| 90 | mode | T1c  | 75-79 | 15 | 2 |\n",
       "| 91 | mode | T2   | 70-74 |  6 | 2 |\n",
       "| 92 | mode | T1ab | 80+   | 93 | 1 |\n",
       "| 93 | poor | T2   | 80+   | 60 | 2 |\n",
       "| 94 | mode | T2   | 80+   |  1 | 0 |\n",
       "| 95 | mode | T1ab | 75-79 | 34 | 0 |\n",
       "\n"
      ],
      "text/plain": [
       "   grade stage ageGroup survTime status\n",
       "88 poor  T2    75-79    33       0     \n",
       "89 mode  T2    75-79     6       0     \n",
       "90 mode  T1c   75-79    15       2     \n",
       "91 mode  T2    70-74     6       2     \n",
       "92 mode  T1ab  80+      93       1     \n",
       "93 poor  T2    80+      60       2     \n",
       "94 mode  T2    80+       1       0     \n",
       "95 mode  T1ab  75-79    34       0     "
      ]
     },
     "metadata": {},
     "output_type": "display_data"
    }
   ],
   "source": [
    "prostateSurvival[88:95,]"
   ]
  },
  {
   "cell_type": "markdown",
   "id": "d876682c",
   "metadata": {},
   "source": [
    "Fir each patient we have \n",
    "\n",
    "* grade: poorly or moderately differentiated\n",
    "* stage: cancer stage, __T1c__ if screen-diagnosed using a prostate-specific antigen blood test, __T1ab__ if clinically diagnosed without screening, __T2__ if palpable at diagnosis\n",
    "* ageGroup: 66-70, 71-75, 76-80, and 80+\n",
    "* survTime: days from diagnosis to death or date last seen\n",
    "* status: __1__:an indicator for weather the patient died or prostate cancer, __2__:died of some other case, __0__: was still alive at the date last seen\n",
    "\n",
    "The simulated date set mathces the original in the number of patients in $2(grade)\\times3(stage)\\times4(ageGraoup)=24$ categories "
   ]
  },
  {
   "cell_type": "markdown",
   "id": "1a7e0e9b",
   "metadata": {},
   "source": [
    "### Example 1.5. Comparison of medical therapies to aid smokers to quit"
   ]
  },
  {
   "cell_type": "markdown",
   "id": "1c723447",
   "metadata": {},
   "source": [
    "The purpose of this study as to evaluate extended duration of a triple-medication combination versus therapy with the nicotine patch alone in smokers with medical illnesses. Patients were randomly assigned to the triple-combination or patch therapy and followed for up to 6 months."
   ]
  },
  {
   "cell_type": "code",
   "execution_count": 35,
   "id": "65af96c3",
   "metadata": {},
   "outputs": [
    {
     "data": {
      "text/html": [
       "<style>\n",
       ".list-inline {list-style: none; margin:0; padding: 0}\n",
       ".list-inline>li {display: inline-block}\n",
       ".list-inline>li:not(:last-child)::after {content: \"\\00b7\"; padding: 0 .5ex}\n",
       "</style>\n",
       "<ol class=list-inline><li>'id'</li><li>'ttr'</li><li>'relapse'</li><li>'grp'</li><li>'age'</li><li>'gender'</li><li>'race'</li><li>'employment'</li><li>'yearsSmoking'</li><li>'levelSmoking'</li><li>'ageGroup2'</li><li>'ageGroup4'</li><li>'priorAttempts'</li><li>'longestNoSmoke'</li></ol>\n"
      ],
      "text/latex": [
       "\\begin{enumerate*}\n",
       "\\item 'id'\n",
       "\\item 'ttr'\n",
       "\\item 'relapse'\n",
       "\\item 'grp'\n",
       "\\item 'age'\n",
       "\\item 'gender'\n",
       "\\item 'race'\n",
       "\\item 'employment'\n",
       "\\item 'yearsSmoking'\n",
       "\\item 'levelSmoking'\n",
       "\\item 'ageGroup2'\n",
       "\\item 'ageGroup4'\n",
       "\\item 'priorAttempts'\n",
       "\\item 'longestNoSmoke'\n",
       "\\end{enumerate*}\n"
      ],
      "text/markdown": [
       "1. 'id'\n",
       "2. 'ttr'\n",
       "3. 'relapse'\n",
       "4. 'grp'\n",
       "5. 'age'\n",
       "6. 'gender'\n",
       "7. 'race'\n",
       "8. 'employment'\n",
       "9. 'yearsSmoking'\n",
       "10. 'levelSmoking'\n",
       "11. 'ageGroup2'\n",
       "12. 'ageGroup4'\n",
       "13. 'priorAttempts'\n",
       "14. 'longestNoSmoke'\n",
       "\n",
       "\n"
      ],
      "text/plain": [
       " [1] \"id\"             \"ttr\"            \"relapse\"        \"grp\"           \n",
       " [5] \"age\"            \"gender\"         \"race\"           \"employment\"    \n",
       " [9] \"yearsSmoking\"   \"levelSmoking\"   \"ageGroup2\"      \"ageGroup4\"     \n",
       "[13] \"priorAttempts\"  \"longestNoSmoke\""
      ]
     },
     "metadata": {},
     "output_type": "display_data"
    }
   ],
   "source": [
    "names(pharmacoSmoking)"
   ]
  },
  {
   "cell_type": "markdown",
   "id": "b0c1c17c",
   "metadata": {},
   "source": [
    "Here is a listing of a few cases and variables"
   ]
  },
  {
   "cell_type": "code",
   "execution_count": 36,
   "id": "4c185c9a",
   "metadata": {
    "scrolled": true
   },
   "outputs": [
    {
     "data": {
      "text/html": [
       "<table class=\"dataframe\">\n",
       "<caption>A data.frame: 6 × 7</caption>\n",
       "<thead>\n",
       "\t<tr><th></th><th scope=col>ttr</th><th scope=col>relapse</th><th scope=col>grp</th><th scope=col>age</th><th scope=col>gender</th><th scope=col>race</th><th scope=col>employment</th></tr>\n",
       "\t<tr><th></th><th scope=col>&lt;int&gt;</th><th scope=col>&lt;int&gt;</th><th scope=col>&lt;fct&gt;</th><th scope=col>&lt;int&gt;</th><th scope=col>&lt;fct&gt;</th><th scope=col>&lt;fct&gt;</th><th scope=col>&lt;fct&gt;</th></tr>\n",
       "</thead>\n",
       "<tbody>\n",
       "\t<tr><th scope=row>1</th><td>182</td><td>0</td><td>patchOnly  </td><td>36</td><td>Male  </td><td>white   </td><td>ft   </td></tr>\n",
       "\t<tr><th scope=row>2</th><td> 14</td><td>1</td><td>patchOnly  </td><td>41</td><td>Male  </td><td>white   </td><td>other</td></tr>\n",
       "\t<tr><th scope=row>3</th><td>  5</td><td>1</td><td>combination</td><td>25</td><td>Female</td><td>white   </td><td>other</td></tr>\n",
       "\t<tr><th scope=row>4</th><td> 16</td><td>1</td><td>combination</td><td>54</td><td>Male  </td><td>white   </td><td>ft   </td></tr>\n",
       "\t<tr><th scope=row>5</th><td>  0</td><td>1</td><td>combination</td><td>45</td><td>Male  </td><td>white   </td><td>other</td></tr>\n",
       "\t<tr><th scope=row>6</th><td>182</td><td>0</td><td>combination</td><td>43</td><td>Male  </td><td>hispanic</td><td>ft   </td></tr>\n",
       "</tbody>\n",
       "</table>\n"
      ],
      "text/latex": [
       "A data.frame: 6 × 7\n",
       "\\begin{tabular}{r|lllllll}\n",
       "  & ttr & relapse & grp & age & gender & race & employment\\\\\n",
       "  & <int> & <int> & <fct> & <int> & <fct> & <fct> & <fct>\\\\\n",
       "\\hline\n",
       "\t1 & 182 & 0 & patchOnly   & 36 & Male   & white    & ft   \\\\\n",
       "\t2 &  14 & 1 & patchOnly   & 41 & Male   & white    & other\\\\\n",
       "\t3 &   5 & 1 & combination & 25 & Female & white    & other\\\\\n",
       "\t4 &  16 & 1 & combination & 54 & Male   & white    & ft   \\\\\n",
       "\t5 &   0 & 1 & combination & 45 & Male   & white    & other\\\\\n",
       "\t6 & 182 & 0 & combination & 43 & Male   & hispanic & ft   \\\\\n",
       "\\end{tabular}\n"
      ],
      "text/markdown": [
       "\n",
       "A data.frame: 6 × 7\n",
       "\n",
       "| <!--/--> | ttr &lt;int&gt; | relapse &lt;int&gt; | grp &lt;fct&gt; | age &lt;int&gt; | gender &lt;fct&gt; | race &lt;fct&gt; | employment &lt;fct&gt; |\n",
       "|---|---|---|---|---|---|---|---|\n",
       "| 1 | 182 | 0 | patchOnly   | 36 | Male   | white    | ft    |\n",
       "| 2 |  14 | 1 | patchOnly   | 41 | Male   | white    | other |\n",
       "| 3 |   5 | 1 | combination | 25 | Female | white    | other |\n",
       "| 4 |  16 | 1 | combination | 54 | Male   | white    | ft    |\n",
       "| 5 |   0 | 1 | combination | 45 | Male   | white    | other |\n",
       "| 6 | 182 | 0 | combination | 43 | Male   | hispanic | ft    |\n",
       "\n"
      ],
      "text/plain": [
       "  ttr relapse grp         age gender race     employment\n",
       "1 182 0       patchOnly   36  Male   white    ft        \n",
       "2  14 1       patchOnly   41  Male   white    other     \n",
       "3   5 1       combination 25  Female white    other     \n",
       "4  16 1       combination 54  Male   white    ft        \n",
       "5   0 1       combination 45  Male   white    other     \n",
       "6 182 0       combination 43  Male   hispanic ft        "
      ]
     },
     "metadata": {},
     "output_type": "display_data"
    }
   ],
   "source": [
    "pharmacoSmoking[1:6, 2:8]"
   ]
  },
  {
   "cell_type": "markdown",
   "id": "9f165745",
   "metadata": {},
   "source": [
    "* trr : the number of days without smoking (\"time to relapse\")\n",
    "* relapse: __1__ indicates that the subject started smoking agina at the given time\n",
    "* grp: treatment indicator\n",
    "* employment: __ft__ : full time, __pt__: part time, __other__"
   ]
  },
  {
   "cell_type": "markdown",
   "id": "28fd71ac",
   "metadata": {},
   "source": [
    "### Example 1.6. Prediction of survival of hepatocellular carcinoma patients using biomakers"
   ]
  },
  {
   "cell_type": "markdown",
   "id": "07bbaa5b",
   "metadata": {},
   "source": [
    "This study focused on using expression of a chemokind known as CXCL17, and other clinical and biomaker factors, to predict overall and recurrence-free survival."
   ]
  },
  {
   "cell_type": "code",
   "execution_count": 37,
   "id": "23e5df73",
   "metadata": {},
   "outputs": [
    {
     "data": {
      "text/html": [
       "<style>\n",
       ".list-inline {list-style: none; margin:0; padding: 0}\n",
       ".list-inline>li {display: inline-block}\n",
       ".list-inline>li:not(:last-child)::after {content: \"\\00b7\"; padding: 0 .5ex}\n",
       "</style>\n",
       "<ol class=list-inline><li>'Number'</li><li>'Age'</li><li>'Gender'</li><li>'HBsAg'</li><li>'Cirrhosis'</li><li>'ALT'</li><li>'AST'</li><li>'AFP'</li><li>'Tumorsize'</li><li>'Tumordifferentiation'</li><li>'Vascularinvasion'</li><li>'Tumormultiplicity'</li><li>'Capsulation'</li><li>'TNM'</li><li>'BCLC'</li><li>'OS'</li><li>'Death'</li><li>'RFS'</li><li>'Recurrence'</li><li>'CXCL17T'</li><li>'CXCL17P'</li><li>'CXCL17N'</li><li>'CD4T'</li><li>'CD4N'</li><li>'CD8T'</li><li>'CD8N'</li><li>'CD20T'</li><li>'CD20N'</li><li>'CD57T'</li><li>'CD57N'</li><li>'CD15T'</li><li>'CD15N'</li><li>'CD68T'</li><li>'CD68N'</li><li>'CD4NR'</li><li>'CD8NR'</li><li>'CD20NR'</li><li>'CD57NR'</li><li>'CD15NR'</li><li>'CD68NR'</li><li>'CD4TR'</li><li>'CD8TR'</li><li>'CD20TR'</li><li>'CD57TR'</li><li>'CD15TR'</li><li>'CD68TR'</li><li>'Ki67'</li><li>'CD34'</li></ol>\n"
      ],
      "text/latex": [
       "\\begin{enumerate*}\n",
       "\\item 'Number'\n",
       "\\item 'Age'\n",
       "\\item 'Gender'\n",
       "\\item 'HBsAg'\n",
       "\\item 'Cirrhosis'\n",
       "\\item 'ALT'\n",
       "\\item 'AST'\n",
       "\\item 'AFP'\n",
       "\\item 'Tumorsize'\n",
       "\\item 'Tumordifferentiation'\n",
       "\\item 'Vascularinvasion'\n",
       "\\item 'Tumormultiplicity'\n",
       "\\item 'Capsulation'\n",
       "\\item 'TNM'\n",
       "\\item 'BCLC'\n",
       "\\item 'OS'\n",
       "\\item 'Death'\n",
       "\\item 'RFS'\n",
       "\\item 'Recurrence'\n",
       "\\item 'CXCL17T'\n",
       "\\item 'CXCL17P'\n",
       "\\item 'CXCL17N'\n",
       "\\item 'CD4T'\n",
       "\\item 'CD4N'\n",
       "\\item 'CD8T'\n",
       "\\item 'CD8N'\n",
       "\\item 'CD20T'\n",
       "\\item 'CD20N'\n",
       "\\item 'CD57T'\n",
       "\\item 'CD57N'\n",
       "\\item 'CD15T'\n",
       "\\item 'CD15N'\n",
       "\\item 'CD68T'\n",
       "\\item 'CD68N'\n",
       "\\item 'CD4NR'\n",
       "\\item 'CD8NR'\n",
       "\\item 'CD20NR'\n",
       "\\item 'CD57NR'\n",
       "\\item 'CD15NR'\n",
       "\\item 'CD68NR'\n",
       "\\item 'CD4TR'\n",
       "\\item 'CD8TR'\n",
       "\\item 'CD20TR'\n",
       "\\item 'CD57TR'\n",
       "\\item 'CD15TR'\n",
       "\\item 'CD68TR'\n",
       "\\item 'Ki67'\n",
       "\\item 'CD34'\n",
       "\\end{enumerate*}\n"
      ],
      "text/markdown": [
       "1. 'Number'\n",
       "2. 'Age'\n",
       "3. 'Gender'\n",
       "4. 'HBsAg'\n",
       "5. 'Cirrhosis'\n",
       "6. 'ALT'\n",
       "7. 'AST'\n",
       "8. 'AFP'\n",
       "9. 'Tumorsize'\n",
       "10. 'Tumordifferentiation'\n",
       "11. 'Vascularinvasion'\n",
       "12. 'Tumormultiplicity'\n",
       "13. 'Capsulation'\n",
       "14. 'TNM'\n",
       "15. 'BCLC'\n",
       "16. 'OS'\n",
       "17. 'Death'\n",
       "18. 'RFS'\n",
       "19. 'Recurrence'\n",
       "20. 'CXCL17T'\n",
       "21. 'CXCL17P'\n",
       "22. 'CXCL17N'\n",
       "23. 'CD4T'\n",
       "24. 'CD4N'\n",
       "25. 'CD8T'\n",
       "26. 'CD8N'\n",
       "27. 'CD20T'\n",
       "28. 'CD20N'\n",
       "29. 'CD57T'\n",
       "30. 'CD57N'\n",
       "31. 'CD15T'\n",
       "32. 'CD15N'\n",
       "33. 'CD68T'\n",
       "34. 'CD68N'\n",
       "35. 'CD4NR'\n",
       "36. 'CD8NR'\n",
       "37. 'CD20NR'\n",
       "38. 'CD57NR'\n",
       "39. 'CD15NR'\n",
       "40. 'CD68NR'\n",
       "41. 'CD4TR'\n",
       "42. 'CD8TR'\n",
       "43. 'CD20TR'\n",
       "44. 'CD57TR'\n",
       "45. 'CD15TR'\n",
       "46. 'CD68TR'\n",
       "47. 'Ki67'\n",
       "48. 'CD34'\n",
       "\n",
       "\n"
      ],
      "text/plain": [
       " [1] \"Number\"               \"Age\"                  \"Gender\"              \n",
       " [4] \"HBsAg\"                \"Cirrhosis\"            \"ALT\"                 \n",
       " [7] \"AST\"                  \"AFP\"                  \"Tumorsize\"           \n",
       "[10] \"Tumordifferentiation\" \"Vascularinvasion\"     \"Tumormultiplicity\"   \n",
       "[13] \"Capsulation\"          \"TNM\"                  \"BCLC\"                \n",
       "[16] \"OS\"                   \"Death\"                \"RFS\"                 \n",
       "[19] \"Recurrence\"           \"CXCL17T\"              \"CXCL17P\"             \n",
       "[22] \"CXCL17N\"              \"CD4T\"                 \"CD4N\"                \n",
       "[25] \"CD8T\"                 \"CD8N\"                 \"CD20T\"               \n",
       "[28] \"CD20N\"                \"CD57T\"                \"CD57N\"               \n",
       "[31] \"CD15T\"                \"CD15N\"                \"CD68T\"               \n",
       "[34] \"CD68N\"                \"CD4NR\"                \"CD8NR\"               \n",
       "[37] \"CD20NR\"               \"CD57NR\"               \"CD15NR\"              \n",
       "[40] \"CD68NR\"               \"CD4TR\"                \"CD8TR\"               \n",
       "[43] \"CD20TR\"               \"CD57TR\"               \"CD15TR\"              \n",
       "[46] \"CD68TR\"               \"Ki67\"                 \"CD34\"                "
      ]
     },
     "metadata": {},
     "output_type": "display_data"
    }
   ],
   "source": [
    "names(hepatoCellular)"
   ]
  },
  {
   "cell_type": "code",
   "execution_count": 38,
   "id": "6c714cfd",
   "metadata": {},
   "outputs": [
    {
     "data": {
      "text/html": [
       "<table class=\"dataframe\">\n",
       "<caption>A data.frame: 5 × 9</caption>\n",
       "<thead>\n",
       "\t<tr><th></th><th scope=col>Age</th><th scope=col>Gender</th><th scope=col>OS</th><th scope=col>Death</th><th scope=col>RFS</th><th scope=col>Recurrence</th><th scope=col>CXCL17T</th><th scope=col>CD4N</th><th scope=col>CD20T</th></tr>\n",
       "\t<tr><th></th><th scope=col>&lt;int&gt;</th><th scope=col>&lt;int&gt;</th><th scope=col>&lt;int&gt;</th><th scope=col>&lt;int&gt;</th><th scope=col>&lt;int&gt;</th><th scope=col>&lt;int&gt;</th><th scope=col>&lt;dbl&gt;</th><th scope=col>&lt;dbl&gt;</th><th scope=col>&lt;dbl&gt;</th></tr>\n",
       "</thead>\n",
       "<tbody>\n",
       "\t<tr><th scope=row>1</th><td>57</td><td>0</td><td>83</td><td>0</td><td>13</td><td>1</td><td>113.94724</td><td> 0</td><td>20.950000</td></tr>\n",
       "\t<tr><th scope=row>2</th><td>58</td><td>1</td><td>81</td><td>0</td><td>81</td><td>0</td><td> 54.07154</td><td>NA</td><td>       NA</td></tr>\n",
       "\t<tr><th scope=row>3</th><td>65</td><td>1</td><td>79</td><td>0</td><td>79</td><td>0</td><td> 22.18883</td><td>NA</td><td>       NA</td></tr>\n",
       "\t<tr><th scope=row>65</th><td>38</td><td>1</td><td> 5</td><td>1</td><td> 5</td><td>1</td><td>106.78169</td><td> 0</td><td>11.450000</td></tr>\n",
       "\t<tr><th scope=row>71</th><td>57</td><td>1</td><td>11</td><td>1</td><td>11</td><td>1</td><td> 98.49680</td><td> 0</td><td> 2.437093</td></tr>\n",
       "</tbody>\n",
       "</table>\n"
      ],
      "text/latex": [
       "A data.frame: 5 × 9\n",
       "\\begin{tabular}{r|lllllllll}\n",
       "  & Age & Gender & OS & Death & RFS & Recurrence & CXCL17T & CD4N & CD20T\\\\\n",
       "  & <int> & <int> & <int> & <int> & <int> & <int> & <dbl> & <dbl> & <dbl>\\\\\n",
       "\\hline\n",
       "\t1 & 57 & 0 & 83 & 0 & 13 & 1 & 113.94724 &  0 & 20.950000\\\\\n",
       "\t2 & 58 & 1 & 81 & 0 & 81 & 0 &  54.07154 & NA &        NA\\\\\n",
       "\t3 & 65 & 1 & 79 & 0 & 79 & 0 &  22.18883 & NA &        NA\\\\\n",
       "\t65 & 38 & 1 &  5 & 1 &  5 & 1 & 106.78169 &  0 & 11.450000\\\\\n",
       "\t71 & 57 & 1 & 11 & 1 & 11 & 1 &  98.49680 &  0 &  2.437093\\\\\n",
       "\\end{tabular}\n"
      ],
      "text/markdown": [
       "\n",
       "A data.frame: 5 × 9\n",
       "\n",
       "| <!--/--> | Age &lt;int&gt; | Gender &lt;int&gt; | OS &lt;int&gt; | Death &lt;int&gt; | RFS &lt;int&gt; | Recurrence &lt;int&gt; | CXCL17T &lt;dbl&gt; | CD4N &lt;dbl&gt; | CD20T &lt;dbl&gt; |\n",
       "|---|---|---|---|---|---|---|---|---|---|\n",
       "| 1 | 57 | 0 | 83 | 0 | 13 | 1 | 113.94724 |  0 | 20.950000 |\n",
       "| 2 | 58 | 1 | 81 | 0 | 81 | 0 |  54.07154 | NA |        NA |\n",
       "| 3 | 65 | 1 | 79 | 0 | 79 | 0 |  22.18883 | NA |        NA |\n",
       "| 65 | 38 | 1 |  5 | 1 |  5 | 1 | 106.78169 |  0 | 11.450000 |\n",
       "| 71 | 57 | 1 | 11 | 1 | 11 | 1 |  98.49680 |  0 |  2.437093 |\n",
       "\n"
      ],
      "text/plain": [
       "   Age Gender OS Death RFS Recurrence CXCL17T   CD4N CD20T    \n",
       "1  57  0      83 0     13  1          113.94724  0   20.950000\n",
       "2  58  1      81 0     81  0           54.07154 NA          NA\n",
       "3  65  1      79 0     79  0           22.18883 NA          NA\n",
       "65 38  1       5 1      5  1          106.78169  0   11.450000\n",
       "71 57  1      11 1     11  1           98.49680  0    2.437093"
      ]
     },
     "metadata": {},
     "output_type": "display_data"
    }
   ],
   "source": [
    "hepatoCellular[c(1,2,3,65,71), c(2,3,16:20, 24, 27)]"
   ]
  },
  {
   "cell_type": "markdown",
   "id": "e7d0010b",
   "metadata": {},
   "source": [
    "* OS: overall survival, outcome variable\n",
    "* RFS: recurrence-free-survival\n",
    "* The corresponding censoring indicators are \"Death\" and \"Recurrence\""
   ]
  },
  {
   "cell_type": "markdown",
   "id": "2134f5b2",
   "metadata": {},
   "source": [
    "## Chapter2 Basic Principles of Survival Analysis"
   ]
  },
  {
   "cell_type": "code",
   "execution_count": 39,
   "id": "8e93920a",
   "metadata": {},
   "outputs": [],
   "source": [
    "library(survival)"
   ]
  },
  {
   "cell_type": "markdown",
   "id": "2e2aba32",
   "metadata": {},
   "source": [
    "<font size=\"3\"> __Fig. 2.2__ Hazard and survival functions for US males and females in 2004. The hazard function is plotted on a log scale </font>"
   ]
  },
  {
   "cell_type": "code",
   "execution_count": 40,
   "id": "fbba9c23",
   "metadata": {},
   "outputs": [],
   "source": [
    "tm <- c(0, # birth\n",
    "        1/365, # first day of life \n",
    "        7/365, # senventh day of life\n",
    "        28/365,# fourth week of life\n",
    "        1:110) #subsequent years"
   ]
  },
  {
   "cell_type": "code",
   "execution_count": 41,
   "id": "0f85d2ad",
   "metadata": {},
   "outputs": [],
   "source": [
    "hazMale <- survexp.us[, \"male\", \"2004\"]\n",
    "hazFemale <- survexp.us[,\"female\", \"2004\"]"
   ]
  },
  {
   "cell_type": "code",
   "execution_count": 42,
   "id": "1064740e",
   "metadata": {},
   "outputs": [],
   "source": [
    "# a graph will be added "
   ]
  },
  {
   "cell_type": "markdown",
   "id": "88dfa226",
   "metadata": {},
   "source": [
    "## 2.4 Parametric Survival distribution"
   ]
  },
  {
   "cell_type": "markdown",
   "id": "0b34155b",
   "metadata": {},
   "source": [
    "<font size=\"3\"> __Fig. 2.4__ Weibull hazard function </font>"
   ]
  },
  {
   "cell_type": "markdown",
   "id": "ba529ec3",
   "metadata": {},
   "source": [
    "The Weibull distribution offers more flexibility in modeling survival data than the exponential distibution. \n",
    "\n",
    "* The hazard function is $h(t) = \\alpha\\lambda(\\lambda t)^{\\alpha -1} = \\alpha\\lambda^{\\alpha}t^{\\alpha-1}$.\n",
    "* The cumulative hazard function is $H(t) = (\\lambda t)^{\\alpha}$\n",
    "* The survival function is $S(t)=e^{-({\\lambda t})^{\\alpha}}$\n",
    "\n",
    "The exponential distribution is a special case with $\\alpha = 1$\n",
    "* $\\alpha >1$ : monotone increasing\n",
    "* $\\alpha <1$ : monotone decreasing\n",
    " \n"
   ]
  },
  {
   "cell_type": "markdown",
   "id": "34e1417b",
   "metadata": {},
   "source": [
    "In R, the function \"dweibull\" is p.d.f and \"pweibull\" is c.d.f repectively of the Weibull distribution. This function use arguments \"shape\" for $\\alpha$ and \"scale\" for $1/\\lambda$. To obtain the survivial funcion, we can speficy \"lower.tail=F\" as an option in the \"pweibull\" function."
   ]
  },
  {
   "cell_type": "markdown",
   "id": "2f451842",
   "metadata": {},
   "source": [
    "__Survival Function__"
   ]
  },
  {
   "cell_type": "code",
   "execution_count": 43,
   "id": "16d829d8",
   "metadata": {},
   "outputs": [
    {
     "data": {
      "image/png": "[encoded data removed]",
      "text/plain": [
       "plot without title"
      ]
     },
     "metadata": {
      "image/png": {
       "height": 420,
       "width": 420
      }
     },
     "output_type": "display_data"
    }
   ],
   "source": [
    "weibSurv <- function(t, shape, scale) pweibull(t, shape=shape, scale=scale, lower.tail=F)\n",
    "curve(weibSurv(x, shape=1.5, scale=1/0.03), from=0, to=80, \n",
    "      ylim=c(0,1), ylab='Survival probability', xlab='Time', \n",
    "      las=1,cex.main=1.25, cex.lab=1.2, cex.axis=1.1)\n",
    "\n",
    "# cex.main: Size of main title\n",
    "# cex.lab: Size of axis labels (the text describing the axis)\n",
    "# cex.axis: Size of axis text (the values that indicate the axis tick labels)"
   ]
  },
  {
   "cell_type": "markdown",
   "id": "d7d6087e",
   "metadata": {},
   "source": [
    "__Hazard function__ = p.d.f / survival function"
   ]
  },
  {
   "cell_type": "code",
   "execution_count": 44,
   "id": "2128290a",
   "metadata": {},
   "outputs": [],
   "source": [
    "weibHaz <- function(x, shape, scale) dweibull(x, shape=shape, scale=scale)/pweibull(x, shape=shape, scale=scale, lower.tail=F)"
   ]
  },
  {
   "cell_type": "code",
   "execution_count": 45,
   "id": "38c2fe32",
   "metadata": {},
   "outputs": [
    {
     "data": {
      "image/png": "[encoded data removed]",
      "text/plain": [
       "plot without title"
      ]
     },
     "metadata": {
      "image/png": {
       "height": 420,
       "width": 420
      }
     },
     "output_type": "display_data"
    }
   ],
   "source": [
    "curve(weibHaz(x, shape=1.5, scale=1/0.03), from=0, to=80, ylab='Hazard', xlab='Time', col='red',las=1)\n",
    "\n",
    "curve(weibHaz(x, shape=1, scale=1/0.03), from=0, to=80, ylab='Hazard', xlab='Time', col='black',las=1, add=T)\n",
    "\n",
    "curve(weibHaz(x, shape=0.75, scale=1/0.03), from=0, to=80, ylab='Hazard', xlab='Time', col='blue',las=1, add=T)\n",
    "\n",
    "\n",
    "text(x=36, y=c(0.06, 0.035,0.015), pos=4, \n",
    "     labels=c(expression(paste(alpha, \" = 1.5, \", lambda,\" = 0.03\")),\n",
    "              expression(paste(alpha, \" = 1, \", lambda,\" = 0.03\")),\n",
    "              expression(paste(alpha, \" = 0.75, \", lambda,\" = 0.03\"))\n",
    "              ), col=c('red', 'black', 'blue'), cex=1.1)\n",
    "\n"
   ]
  },
  {
   "cell_type": "markdown",
   "id": "34d466a8",
   "metadata": {},
   "source": [
    "### Generate Random variables from the exponential or Weibull distribution."
   ]
  },
  {
   "cell_type": "markdown",
   "id": "68e9bb33",
   "metadata": {},
   "source": [
    "Generate 1000 Weibull random variables with shape 1.5 and scale 1/0.03, and compute their mean and median"
   ]
  },
  {
   "cell_type": "code",
   "execution_count": 46,
   "id": "dd196c4f",
   "metadata": {},
   "outputs": [],
   "source": [
    "set.seed(123) # to get same result since we generate a random variable.\n",
    "tt.weib <- rweibull (1000, shape=1.5, scale=1/0.03)"
   ]
  },
  {
   "cell_type": "code",
   "execution_count": 47,
   "id": "3135720c",
   "metadata": {},
   "outputs": [
    {
     "data": {
      "text/html": [
       "30.2480202815302"
      ],
      "text/latex": [
       "30.2480202815302"
      ],
      "text/markdown": [
       "30.2480202815302"
      ],
      "text/plain": [
       "[1] 30.24802"
      ]
     },
     "metadata": {},
     "output_type": "display_data"
    },
    {
     "data": {
      "text/html": [
       "26.6147069365409"
      ],
      "text/latex": [
       "26.6147069365409"
      ],
      "text/markdown": [
       "26.6147069365409"
      ],
      "text/plain": [
       "[1] 26.61471"
      ]
     },
     "metadata": {},
     "output_type": "display_data"
    }
   ],
   "source": [
    "mean(tt.weib)\n",
    "median(tt.weib)"
   ]
  },
  {
   "cell_type": "markdown",
   "id": "b0d666ae",
   "metadata": {},
   "source": [
    "The theoretical mean and median is...\n",
    "\n",
    "$E(T) = \\frac {\\Gamma (1 + 1/\\alpha)} {\\lambda} $ <br>\n",
    "$t_{med} = \\frac {[log(2)]^{1/\\alpha}}{\\lambda} $"
   ]
  },
  {
   "cell_type": "code",
   "execution_count": 48,
   "id": "5f2b9594",
   "metadata": {},
   "outputs": [
    {
     "data": {
      "text/html": [
       "30.0915097650311"
      ],
      "text/latex": [
       "30.0915097650311"
      ],
      "text/markdown": [
       "30.0915097650311"
      ],
      "text/plain": [
       "[1] 30.09151"
      ]
     },
     "metadata": {},
     "output_type": "display_data"
    },
    {
     "data": {
      "text/html": [
       "26.1073256258217"
      ],
      "text/latex": [
       "26.1073256258217"
      ],
      "text/markdown": [
       "26.1073256258217"
      ],
      "text/plain": [
       "[1] 26.10733"
      ]
     },
     "metadata": {},
     "output_type": "display_data"
    }
   ],
   "source": [
    "gamma(1 + 1/1.5)/0.03 # mean\n",
    "\n",
    "(log(2)^(1/1.5))/0.03 #median"
   ]
  },
  {
   "cell_type": "markdown",
   "id": "36e5e51c",
   "metadata": {},
   "source": [
    "<font size=\"3\"> __Fig. 2.5__ Gamma hazard function </font>"
   ]
  },
  {
   "cell_type": "markdown",
   "id": "251d5cd4",
   "metadata": {},
   "source": [
    "The gamma distribution is also another choice for survival modeling. The probability density function is given by \n",
    "\n",
    "$$f(t) = \\frac{\\lambda^{\\beta} t^{\\beta -1} exp(-\\lambda t)} {\\Gamma(\\beta)} $$"
   ]
  },
  {
   "cell_type": "markdown",
   "id": "a3a1490c",
   "metadata": {},
   "source": [
    "The hazard and survival function of the gamma distribution cannot be written in closed form, but they can be computing using the formula .\n",
    "\n",
    "* $\\beta > 1$ monotone increasing\n",
    "* $\\beta < 1$ monotone decreasing\n",
    "* $\\beta = 1$ Exponential distribution"
   ]
  },
  {
   "cell_type": "code",
   "execution_count": 49,
   "id": "c75ac303",
   "metadata": {},
   "outputs": [],
   "source": [
    "gammaHaz <- {function(x, shape, scale) \n",
    "             dgamma(x, shape=shape, scale=scale)/pgamma(x, shape=shape, scale=scale, lower.tail=F)\n",
    "            }"
   ]
  },
  {
   "cell_type": "code",
   "execution_count": 50,
   "id": "b5892352",
   "metadata": {},
   "outputs": [
    {
     "data": {
      "image/png": "[encoded data removed]",
      "text/plain": [
       "plot without title"
      ]
     },
     "metadata": {
      "image/png": {
       "height": 420,
       "width": 420
      }
     },
     "output_type": "display_data"
    }
   ],
   "source": [
    "curve(gammaHaz(x, shape=1.5, scale=1/0.03), \n",
    "      from=0, to=80, ylim=c(0, 0.08), ylab='Hazard', xlab='Time', col='red',las=1)\n",
    "\n",
    "curve(gammaHaz(x, shape=1, scale=1/0.03), \n",
    "      from=0, to=80, ylim=c (0, 0.08), ylab='Hazard', xlab='Time', col='black',las=1, add=T)\n",
    "\n",
    "curve(gammaHaz(x, shape=0.75, scale=1/0.03), \n",
    "      from=0, to=80,ylim=c (0, 0.08), ylab='Hazard', xlab='Time', col='blue',las=1, add=T)\n",
    "\n",
    "\n",
    "text(x=12, y=c(0.05, 0.025,0.01), pos=4, \n",
    "     labels=c(expression(paste(beta, \" = 1.5, \", lambda,\" = 0.03\")),\n",
    "              expression(paste(beta, \" = 1, \", lambda,\" = 0.03\")),\n",
    "              expression(paste(beta, \" = 0.75, \", lambda,\" = 0.03\"))\n",
    "              ), col=c('blue', 'black', 'red'), cex=1.1)"
   ]
  },
  {
   "cell_type": "markdown",
   "id": "7e0cde9b",
   "metadata": {},
   "source": [
    "## 2.5 Computing the Survival Function from the Hazard Function"
   ]
  },
  {
   "cell_type": "markdown",
   "id": "aef9adbe",
   "metadata": {},
   "source": [
    "<font size=\"3\"> __Fig. 2.6__ Illustration of calculation of the cumulative hazard for males in 2004, <br> See Fig. 2.2 accordingly </font>"
   ]
  },
  {
   "cell_type": "markdown",
   "id": "fee60d4c",
   "metadata": {},
   "source": [
    "If we know the hazard function of a survival random variable, we may derive the survival funcion using\n",
    "$$ S(t) = exp( -  \\int_{0}^{t}h(u) \\,du ) = exp(-H(t)) $$ \n",
    "where \n",
    "* $H(t)$ is the cumulataive hazard function.\n",
    "* $h(t)$ is the hazard function\n",
    "\n",
    "But if the hazard function is more complicated, we need to use numerical methods to evaluate the integral."
   ]
  },
  {
   "cell_type": "markdown",
   "id": "38aa55c5",
   "metadata": {},
   "source": [
    "# Under construction :  will be updated "
   ]
  },
  {
   "cell_type": "code",
   "execution_count": 51,
   "id": "73e434cb",
   "metadata": {},
   "outputs": [],
   "source": [
    "# library(survival)"
   ]
  },
  {
   "cell_type": "code",
   "execution_count": 52,
   "id": "7bb6a03e",
   "metadata": {},
   "outputs": [],
   "source": [
    "# # We copied the Fig.2.2 code here to illustrate caculation of the cumulative hazard.\n",
    "# tm <- c(0, # birth\n",
    "#         1/365, # first day of life \n",
    "#         7/365, # senventh day of life\n",
    "#         28/365,# fourth week of life\n",
    "#         1:107) #subsequent years\n",
    "\n",
    "# # tm <- c(0:110)"
   ]
  },
  {
   "cell_type": "code",
   "execution_count": 53,
   "id": "133df959",
   "metadata": {},
   "outputs": [],
   "source": [
    "# length(tm)"
   ]
  },
  {
   "cell_type": "code",
   "execution_count": 54,
   "id": "2192cdaf",
   "metadata": {},
   "outputs": [],
   "source": [
    "# length(hazMale)"
   ]
  },
  {
   "cell_type": "code",
   "execution_count": 55,
   "id": "98a83885",
   "metadata": {},
   "outputs": [],
   "source": [
    "# hazMale <- survexp.us[, \"male\", \"2004\"]\n",
    "# hazFemale <- survexp.us[,\"female\", \"2004\"]"
   ]
  },
  {
   "cell_type": "code",
   "execution_count": 56,
   "id": "5fe91e87",
   "metadata": {},
   "outputs": [],
   "source": [
    "# tm.diff <- diff(tm)"
   ]
  },
  {
   "cell_type": "code",
   "execution_count": 57,
   "id": "4d1c7c4f",
   "metadata": {},
   "outputs": [],
   "source": [
    "# survMale <- exp(-cumsum(hazMale*tm.diff)*365.24)\n",
    "# survFemale <- exp(-cumsum(hazFemale*tm.diff)*365.24)"
   ]
  },
  {
   "cell_type": "code",
   "execution_count": 58,
   "id": "267b1ce0",
   "metadata": {},
   "outputs": [],
   "source": [
    "# sum(survMale*tm.diff)\n",
    "# sum(hazFemale*tm.diff)"
   ]
  },
  {
   "cell_type": "code",
   "execution_count": 59,
   "id": "93050143",
   "metadata": {},
   "outputs": [],
   "source": [
    "# plot(survMale)"
   ]
  },
  {
   "cell_type": "code",
   "execution_count": 60,
   "id": "b824b80a",
   "metadata": {},
   "outputs": [],
   "source": [
    "# ?survexp.us"
   ]
  },
  {
   "cell_type": "code",
   "execution_count": 61,
   "id": "f8a9adca",
   "metadata": {},
   "outputs": [],
   "source": [
    "# survexp.uswhite <- survexp.usr[,,\"white\",]"
   ]
  },
  {
   "cell_type": "code",
   "execution_count": 62,
   "id": "91c99869",
   "metadata": {},
   "outputs": [],
   "source": [
    "# survexp.uswhite"
   ]
  },
  {
   "cell_type": "markdown",
   "id": "41df95d3",
   "metadata": {},
   "source": [
    "## 2.6 A Brief Introduction to Maximum Likelihood Estimation"
   ]
  },
  {
   "cell_type": "markdown",
   "id": "985fe73e",
   "metadata": {},
   "source": [
    "Suppose we have a series of obervations $t_1, t_2, ..., t_n$ from an exponential distribution with unknown parameter $\\lambda$. How can we estimate $\\lambda$? We can derive the MLE of the exponential distribution. Alternatevely, we may use substitute a hazard factor $\\lambda$ for the censored observations and a survival factor $e^{-\\lambda t_i}$ for all obervations. This leads to the same form for the likelihood funtion. \n",
    "\n",
    "* d : total number of death\n",
    "* V : total amount of time of patients on the study (person-years in epidemiology)\n",
    "* log-likelihood $l(\\lambda) = d log \\lambda - \\lambda V $\n",
    "* MLE : $\\hat \\lambda = \\frac{d}{V} $\n",
    "* Note: Second derivative is negative.\n"
   ]
  },
  {
   "cell_type": "markdown",
   "id": "7b12237b",
   "metadata": {},
   "source": [
    "<font size=\"3\"> __Fig. 2.7__ Log-likelihood function for data from Table1.1, showing the maximum likelihood estimates, and the horizontal tangent at the maximum. </font>"
   ]
  },
  {
   "cell_type": "code",
   "execution_count": 67,
   "id": "7097dc58",
   "metadata": {},
   "outputs": [],
   "source": [
    "# Table 1.1\n",
    "\n",
    "Patient <- seq(1,6,by=1)\n",
    "Survtime <- c(7, 6, 6, 5, 2, 4)\n",
    "Status <- c(0, 1, 0, 0, 1, 1)"
   ]
  },
  {
   "cell_type": "markdown",
   "id": "095f1ebf",
   "metadata": {},
   "source": [
    "Supposed the table 1.1 are derived from an exponential distribution with unknown parameter $\\lambda$. \n",
    "\n",
    "* There are three death, d=3. \n",
    "* The total patient time on study is V=7+6+6+5+2+4= 30"
   ]
  },
  {
   "cell_type": "code",
   "execution_count": 64,
   "id": "9fd0b488",
   "metadata": {},
   "outputs": [
    {
     "data": {
      "text/html": [
       "3"
      ],
      "text/latex": [
       "3"
      ],
      "text/markdown": [
       "3"
      ],
      "text/plain": [
       "[1] 3"
      ]
     },
     "metadata": {},
     "output_type": "display_data"
    },
    {
     "data": {
      "text/html": [
       "30"
      ],
      "text/latex": [
       "30"
      ],
      "text/markdown": [
       "30"
      ],
      "text/plain": [
       "[1] 30"
      ]
     },
     "metadata": {},
     "output_type": "display_data"
    },
    {
     "data": {
      "text/html": [
       "0.1"
      ],
      "text/latex": [
       "0.1"
      ],
      "text/markdown": [
       "0.1"
      ],
      "text/plain": [
       "[1] 0.1"
      ]
     },
     "metadata": {},
     "output_type": "display_data"
    }
   ],
   "source": [
    "d <- sum(Status)\n",
    "V <- sum(Survtime)\n",
    "lambda_hat <- d/V\n",
    "lambda <- seq(0.001, 0.3, by=0.01) # to draw abline\n",
    "\n",
    "d\n",
    "V\n",
    "lambda_hat"
   ]
  },
  {
   "cell_type": "code",
   "execution_count": 65,
   "id": "c001beef",
   "metadata": {},
   "outputs": [],
   "source": [
    "MLE <- {function(x) d*log(x) - x*V} # x is a lambda in the MLE function"
   ]
  },
  {
   "cell_type": "code",
   "execution_count": 66,
   "id": "c6d92615",
   "metadata": {},
   "outputs": [
    {
     "data": {
      "image/png": "[encoded data removed]",
      "text/plain": [
       "plot without title"
      ]
     },
     "metadata": {
      "image/png": {
       "height": 420,
       "width": 420
      }
     },
     "output_type": "display_data"
    }
   ],
   "source": [
    "curve(MLE(x), from=0, to=0.3, ylab='log-likelihood', xlab= expression(lambda), ylim=c(-17.5, -9))\n",
    "\n",
    "#abline segment\n",
    "segments(x0=0.01, y0= max(MLE(lambda)), x1=0.19, y1=max(MLE(lambda)), lty=2)\n",
    "segments(x0=0.1, y0= -17.5, x1=0.1, y1=MLE(0.1), lty=2)"
   ]
  },
  {
   "cell_type": "code",
   "execution_count": null,
   "id": "5fee5fd5",
   "metadata": {},
   "outputs": [],
   "source": []
  }
 ],
 "metadata": {
  "kernelspec": {
   "display_name": "R",
   "language": "R",
   "name": "ir"
  },
  "language_info": {
   "codemirror_mode": "r",
   "file_extension": ".r",
   "mimetype": "text/x-r-source",
   "name": "R",
   "pygments_lexer": "r",
   "version": "4.1.3"
  }
 },
 "nbformat": 4,
 "nbformat_minor": 5
}
