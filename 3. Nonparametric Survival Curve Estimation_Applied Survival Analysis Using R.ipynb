{
 "cells": [
  {
   "cell_type": "markdown",
   "id": "2152964b",
   "metadata": {},
   "source": [
    "# Applied Survival Analysis Using R \n",
    "### Book by Dirk F. Moore"
   ]
  },
  {
   "cell_type": "markdown",
   "id": "34f87ad4",
   "metadata": {},
   "source": [
    "## 3. Nonparametric Survival Curve Estimation"
   ]
  },
  {
   "cell_type": "markdown",
   "id": "60921907",
   "metadata": {},
   "source": [
    "* Note : This note book is created with R in Jupyter Notebook.\n",
    "* Note : I made this note book by coping graphs of the book. Additional R code in addition to the book is added if necessary.  For detail explanation, refer the book. "
   ]
  },
  {
   "cell_type": "code",
   "execution_count": 2,
   "id": "d74883ba",
   "metadata": {},
   "outputs": [
    {
     "data": {
      "text/plain": [
       "               _                           \n",
       "platform       x86_64-w64-mingw32          \n",
       "arch           x86_64                      \n",
       "os             mingw32                     \n",
       "system         x86_64, mingw32             \n",
       "status                                     \n",
       "major          4                           \n",
       "minor          1.3                         \n",
       "year           2022                        \n",
       "month          03                          \n",
       "day            10                          \n",
       "svn rev        81868                       \n",
       "language       R                           \n",
       "version.string R version 4.1.3 (2022-03-10)\n",
       "nickname       One Push-Up                 "
      ]
     },
     "metadata": {},
     "output_type": "display_data"
    }
   ],
   "source": [
    "R.version"
   ]
  },
  {
   "cell_type": "markdown",
   "id": "d9b15d38",
   "metadata": {},
   "source": [
    "## 3.1 Nonparametric Estimation of the Survival Function"
   ]
  },
  {
   "cell_type": "markdown",
   "id": "7321081a",
   "metadata": {},
   "source": [
    "We have seen there are a variety of hazard function. But which parametric model should be used in our study? It is hard to know what parametric family to choose. Thus, in medical and health applications, __nonparametric method__ have considerable advantages. The most widly used of these is the __Kaplan-Meier estimator__."
   ]
  },
  {
   "cell_type": "markdown",
   "id": "a1b2ea93",
   "metadata": {},
   "source": [
    "<font size=\"3\"> __Fig. 3.2__ Kaplan-Maier survival curve estimate with 95% confidence intervals </font>"
   ]
  },
  {
   "cell_type": "markdown",
   "id": "5007c592",
   "metadata": {},
   "source": [
    "we use the data Table1.1 to estimate the Kaplan-Meier estimator."
   ]
  },
  {
   "cell_type": "code",
   "execution_count": 3,
   "id": "6085f893",
   "metadata": {},
   "outputs": [],
   "source": [
    "library(survival)"
   ]
  },
  {
   "cell_type": "code",
   "execution_count": 4,
   "id": "4bc5bdf0",
   "metadata": {},
   "outputs": [
    {
     "data": {
      "text/plain": [
       "[1] 7+ 6  6+ 5+ 2  4 "
      ]
     },
     "metadata": {},
     "output_type": "display_data"
    }
   ],
   "source": [
    "tt <- c(7,6,6,5,2,4)\n",
    "cens <-c(0,1,0,0,1,1)\n",
    "Surv(tt, cens)"
   ]
  },
  {
   "cell_type": "code",
   "execution_count": 5,
   "id": "70b79a34",
   "metadata": {},
   "outputs": [],
   "source": [
    "result.km <- survfit(Surv(tt, cens) ~ 1 , conf.type='log-log')"
   ]
  },
  {
   "cell_type": "markdown",
   "id": "a530ab6a",
   "metadata": {},
   "source": [
    "* Compute confidence interval based on the complementary log-log transformation.\n",
    "* log-log transformation method is preffered since delta-method is based on the variance and the variance may extend above one or below 0."
   ]
  },
  {
   "cell_type": "code",
   "execution_count": 6,
   "id": "c4b081f5",
   "metadata": {},
   "outputs": [
    {
     "data": {
      "text/plain": [
       "Call: survfit(formula = Surv(tt, cens) ~ 1, conf.type = \"log-log\")\n",
       "\n",
       "     n events median 0.95LCL 0.95UCL\n",
       "[1,] 6      3      6       2      NA"
      ]
     },
     "metadata": {},
     "output_type": "display_data"
    }
   ],
   "source": [
    "result.km"
   ]
  },
  {
   "cell_type": "markdown",
   "id": "67e050a0",
   "metadata": {},
   "source": [
    "Output interpretation\n",
    "\n",
    "* n: the number of records\n",
    "* events: the number of events ( three deaths)\n",
    "* median: the median survival time\n",
    "* 0.95LCL: Lower 95% confidence limit\n",
    "* 0.95UCL: Upper 95% confidence limit, In this example, 0.95UCL is undefined."
   ]
  },
  {
   "cell_type": "code",
   "execution_count": 7,
   "id": "7c58cddc",
   "metadata": {},
   "outputs": [
    {
     "data": {
      "text/plain": [
       "Call: survfit(formula = Surv(tt, cens) ~ 1, conf.type = \"log-log\")\n",
       "\n",
       " time n.risk n.event survival std.err lower 95% CI upper 95% CI\n",
       "    2      6       1    0.833   0.152       0.2731        0.975\n",
       "    4      5       1    0.667   0.192       0.1946        0.904\n",
       "    6      3       1    0.444   0.222       0.0662        0.785"
      ]
     },
     "metadata": {},
     "output_type": "display_data"
    }
   ],
   "source": [
    "summary(result.km)"
   ]
  },
  {
   "cell_type": "markdown",
   "id": "9ae86b40",
   "metadata": {},
   "source": [
    "This lists the distinct failure times(2, 4, and 6 years). The number at risk at each time interval, and the number of events at each failure time."
   ]
  },
  {
   "cell_type": "code",
   "execution_count": 8,
   "id": "64f349a6",
   "metadata": {},
   "outputs": [
    {
     "data": {
      "image/png": "[encoded data removed]",
      "text/plain": [
       "plot without title"
      ]
     },
     "metadata": {
      "image/png": {
       "height": 420,
       "width": 420
      }
     },
     "output_type": "display_data"
    }
   ],
   "source": [
    "plot(result.km, ylab='Survival probability', xlab='Time',  mark.time=TRUE, mark=\"|\")"
   ]
  },
  {
   "cell_type": "markdown",
   "id": "781105f7",
   "metadata": {},
   "source": [
    "<font size=\"3\"> __Table 3.2__ Nelson-Aalen estimate of the survival funcion </font>"
   ]
  },
  {
   "cell_type": "markdown",
   "id": "9f52f152",
   "metadata": {},
   "source": [
    "An alternative estimator of the survival function is the _Nelson-Aalen_ estimator. In R, type \"type='ft\""
   ]
  },
  {
   "cell_type": "code",
   "execution_count": 9,
   "id": "3609a1da",
   "metadata": {},
   "outputs": [],
   "source": [
    "result.fh <- survfit(Surv(tt, cens) ~ 1 , conf.type='log-log', type='fh')"
   ]
  },
  {
   "cell_type": "code",
   "execution_count": 10,
   "id": "5e88e46e",
   "metadata": {},
   "outputs": [
    {
     "data": {
      "text/plain": [
       "Call: survfit(formula = Surv(tt, cens) ~ 1, conf.type = \"log-log\", \n",
       "    type = \"fh\")\n",
       "\n",
       " time n.risk n.event survival std.err lower 95% CI upper 95% CI\n",
       "    2      6       1    0.846   0.141        0.306        0.977\n",
       "    4      5       1    0.693   0.180        0.229        0.913\n",
       "    6      3       1    0.497   0.210        0.101        0.807"
      ]
     },
     "metadata": {},
     "output_type": "display_data"
    }
   ],
   "source": [
    "summary(result.fh)"
   ]
  },
  {
   "cell_type": "code",
   "execution_count": 11,
   "id": "d38855b6",
   "metadata": {},
   "outputs": [
    {
     "data": {
      "image/png": "[encoded data removed]",
      "text/plain": [
       "Plot with title \"Nelson-Anlen estimate of the Survival function\""
      ]
     },
     "metadata": {
      "image/png": {
       "height": 420,
       "width": 420
      }
     },
     "output_type": "display_data"
    }
   ],
   "source": [
    "plot(result.fh, ylab='Survival probability', xlab='Time',  mark.time=TRUE, mark='|', main='Nelson-Anlen estimate of the Survival function')"
   ]
  },
  {
   "cell_type": "markdown",
   "id": "a73bf1de",
   "metadata": {},
   "source": [
    "<font size=\"3\"> __Fig. 3.3__ Progression-free survival of gastric canter patients treated with Xelox </font>"
   ]
  },
  {
   "cell_type": "markdown",
   "id": "609f84e9",
   "metadata": {},
   "source": [
    "We now consider data from an actual clinical trial. The data set “gastricXelox”\n",
    "is a Phase II (single sample) clinical trial of the chemotherapeutic agent Xelox\n",
    "administered to patients with advanced gastric cancer prior to surgery (Wang\n",
    "et al. [74])."
   ]
  },
  {
   "cell_type": "code",
   "execution_count": 12,
   "id": "318846c9",
   "metadata": {},
   "outputs": [
    {
     "name": "stdout",
     "output_type": "stream",
     "text": [
      "package 'asaur' successfully unpacked and MD5 sums checked\n",
      "\n",
      "The downloaded binary packages are in\n",
      "\tC:\\Users\\shims\\AppData\\Local\\Temp\\RtmpmmbXbi\\downloaded_packages\n"
     ]
    }
   ],
   "source": [
    "install.packages('asaur')"
   ]
  },
  {
   "cell_type": "code",
   "execution_count": 13,
   "id": "aadd54a7",
   "metadata": {},
   "outputs": [],
   "source": [
    "library(asaur)"
   ]
  },
  {
   "cell_type": "code",
   "execution_count": 14,
   "id": "4e9ba925",
   "metadata": {},
   "outputs": [],
   "source": [
    "timeMonths <- gastricXelox$timeWeeks*7/30.25\n",
    "delta <- gastricXelox$delta"
   ]
  },
  {
   "cell_type": "code",
   "execution_count": 15,
   "id": "cd18363f",
   "metadata": {},
   "outputs": [
    {
     "data": {
      "image/png": "[encoded data removed]",
      "text/plain": [
       "Plot with title \"Progression-free Survival in Gastric Cancer Patients\""
      ]
     },
     "metadata": {
      "image/png": {
       "height": 420,
       "width": 420
      }
     },
     "output_type": "display_data"
    }
   ],
   "source": [
    "result.km <- survfit(Surv(timeMonths, delta) ~ 1, conf.type=\"log-log\")\n",
    "plot(result.km, conf.int=T, mark=\"|\", xlab=\"Time in months\", ylab=\"Survival probability\")\n",
    "title(\"Progression-free Survival in Gastric Cancer Patients\")"
   ]
  },
  {
   "cell_type": "markdown",
   "id": "d3466816",
   "metadata": {},
   "source": [
    "## 3.2 Finding the Median Survival and a Confidence Interval for the Median"
   ]
  },
  {
   "cell_type": "markdown",
   "id": "05c37567",
   "metadata": {},
   "source": [
    "<font size=\"3\"> __Fig. 3.4__ The median is indicated by the vertical green line at 10.3 months, which intersects the survival curve estimate at 0.5. The 95 % confidence interval is indicated by the vertical blue lines\n",
    "at 5.79 and 10.27; they intersect the lower and upper survival curve confidence limits at 0.5 </font>"
   ]
  },
  {
   "cell_type": "markdown",
   "id": "f9e4f4b1",
   "metadata": {},
   "source": [
    "From the \"gastricXelox\""
   ]
  },
  {
   "cell_type": "code",
   "execution_count": 28,
   "id": "17cc1e2e",
   "metadata": {
    "scrolled": false
   },
   "outputs": [
    {
     "data": {
      "text/plain": [
       "Call: survfit(formula = Surv(timeMonths, delta) ~ 1, conf.type = \"log-log\")\n",
       "\n",
       "      n events median 0.95LCL 0.95UCL\n",
       "[1,] 48     32   10.3    5.79    15.3"
      ]
     },
     "metadata": {},
     "output_type": "display_data"
    }
   ],
   "source": [
    "result.km"
   ]
  },
  {
   "cell_type": "code",
   "execution_count": null,
   "id": "f8ceb27a",
   "metadata": {},
   "outputs": [],
   "source": [
    "library('survminer')"
   ]
  },
  {
   "cell_type": "code",
   "execution_count": 65,
   "id": "83bf6c59",
   "metadata": {},
   "outputs": [
    {
     "data": {
      "text/html": [
       "10.297520661157"
      ],
      "text/latex": [
       "10.297520661157"
      ],
      "text/markdown": [
       "10.297520661157"
      ],
      "text/plain": [
       "[1] 10.29752"
      ]
     },
     "metadata": {},
     "output_type": "display_data"
    },
    {
     "data": {
      "text/html": [
       "5.78512396694215"
      ],
      "text/latex": [
       "5.78512396694215"
      ],
      "text/markdown": [
       "5.78512396694215"
      ],
      "text/plain": [
       "[1] 5.785124"
      ]
     },
     "metadata": {},
     "output_type": "display_data"
    },
    {
     "data": {
      "text/html": [
       "15.2727272727273"
      ],
      "text/latex": [
       "15.2727272727273"
      ],
      "text/markdown": [
       "15.2727272727273"
      ],
      "text/plain": [
       "[1] 15.27273"
      ]
     },
     "metadata": {},
     "output_type": "display_data"
    }
   ],
   "source": [
    "# extract information median, lower, upper value of the model output\n",
    "median <- survminer::surv_median(result.km)[2]\n",
    "lower <- survminer::surv_median(result.km)[3]\n",
    "upper <- survminer::surv_median(result.km)[4]\n",
    "\n",
    "median[1,1]\n",
    "lower[1,1]\n",
    "upper[1,1]"
   ]
  },
  {
   "cell_type": "code",
   "execution_count": 57,
   "id": "cbe49c2b",
   "metadata": {},
   "outputs": [
    {
     "data": {
      "text/html": [
       "'data.frame'"
      ],
      "text/latex": [
       "'data.frame'"
      ],
      "text/markdown": [
       "'data.frame'"
      ],
      "text/plain": [
       "[1] \"data.frame\""
      ]
     },
     "metadata": {},
     "output_type": "display_data"
    }
   ],
   "source": [
    "class(lower)"
   ]
  },
  {
   "cell_type": "code",
   "execution_count": 64,
   "id": "65f6ba96",
   "metadata": {},
   "outputs": [
    {
     "data": {
      "image/png": "[encoded data removed]",
      "text/plain": [
       "Plot with title \"Progression-free Survival in Gastric Cancer Patients\""
      ]
     },
     "metadata": {
      "image/png": {
       "height": 420,
       "width": 420
      }
     },
     "output_type": "display_data"
    }
   ],
   "source": [
    "result.km <- survfit(Surv(timeMonths, delta) ~ 1, conf.type=\"log-log\")\n",
    "plot(result.km, conf.int=T, mark=\"|\", xlab=\"Time in months\", ylab=\"Survival probability\")\n",
    "title(\"Progression-free Survival in Gastric Cancer Patients\")\n",
    "\n",
    "\n",
    "#abline segment\n",
    "abline(h=0.5, lty=2, col='red') # Survival probability=0.5\n",
    "\n",
    "segments(x0=lower[1,1], y0= -1, x1=lower[1,1], y1=0.5, lty=2, col=\"blue\")\n",
    "segments(x0=median[1,1], y0= -1, x1=median[1,1], y1=0.5, lty=2, col=\"green\")\n",
    "segments(x0=upper[1,1], y0= -1, x1=upper[1,1], y1=0.5, lty=2, col=\"blue\")"
   ]
  },
  {
   "cell_type": "markdown",
   "id": "04ad161f",
   "metadata": {},
   "source": [
    "## 3.3 Median Follow-Up time"
   ]
  },
  {
   "cell_type": "markdown",
   "id": "e2dc1d04",
   "metadata": {},
   "source": [
    "The median follow-up time considers all of the survival time, whether censored or not, and find the median. This way estimates median is inaccurate with some cases. Suppose a trial has many early death, but a long observation period. This would appear not to have a long median follow-up time. We consider a better way of looking at median survival which is __\"potential\" median survival__. "
   ]
  },
  {
   "cell_type": "markdown",
   "id": "d69f8019",
   "metadata": {},
   "source": [
    "To obtain this estimate, first, one switches the censoring and death indicators, \n",
    "\n",
    "* a “censored” observation is the “event”, \n",
    "* while a death is viewed as a censored observation, \n",
    "\n",
    "in the sense that the observation time would have been much longer had the patient not died. \n",
    "\n",
    "Then computes the Kaplan-Meier “survival” estimate using these reversed censoring indicators, and finds the median survival, as discussed in the previous section. This method is also known as the “reverse” Kaplan-Meier. We may find these two estimates of the median follow-up time. <br>\n",
    "\n",
    "Now we find the \"potential\" median survival using the same data \"gastricXerox\"."
   ]
  },
  {
   "cell_type": "code",
   "execution_count": 67,
   "id": "d9b3faf1",
   "metadata": {},
   "outputs": [
    {
     "data": {
      "text/plain": [
       "Call: survfit(formula = Surv(timeMonths, delta.followup) ~ 1)\n",
       "\n",
       "      n events median 0.95LCL 0.95UCL\n",
       "[1,] 48     16   27.8    21.1    50.2"
      ]
     },
     "metadata": {},
     "output_type": "display_data"
    }
   ],
   "source": [
    "delta.followup <- 1 - delta\n",
    "survfit(Surv(timeMonths, delta.followup) ~ 1)"
   ]
  },
  {
   "cell_type": "code",
   "execution_count": 68,
   "id": "d3a44ce4",
   "metadata": {},
   "outputs": [
    {
     "data": {
      "text/html": [
       "9.9504132231405"
      ],
      "text/latex": [
       "9.9504132231405"
      ],
      "text/markdown": [
       "9.9504132231405"
      ],
      "text/plain": [
       "[1] 9.950413"
      ]
     },
     "metadata": {},
     "output_type": "display_data"
    }
   ],
   "source": [
    "median(timeMonths)"
   ]
  },
  {
   "cell_type": "markdown",
   "id": "6e166936",
   "metadata": {},
   "source": [
    "The simple median follow-up time is only 9.95 months, whereas the potential follow-up time is 27.8 times."
   ]
  },
  {
   "cell_type": "markdown",
   "id": "4b5be804",
   "metadata": {},
   "source": [
    "## 3.4 Obtaining a Smoothed Hazard and Survival Function Estimate"
   ]
  },
  {
   "cell_type": "markdown",
   "id": "2eae8aa0",
   "metadata": {},
   "source": [
    "<font size=\"3\"> __Fig. 3.5__ Illustration of the hazard kernel smoother using the example data from Table1.1 and the Kaplan-Meier estimate in Table3.1"
   ]
  },
  {
   "cell_type": "markdown",
   "id": "f657d00e",
   "metadata": {},
   "source": [
    "When we want to examine the cumulative hazard function, we may use the Nelson-Altschuler's method. However, this estimate of the hazard function is quite unstable from one time to the next. We can consider a better way to visualize the hazard function estimat using 'kernel' smoother. A kernel is a function $K(u)$ , which we center at each failure time. Typically we choosed a smooth-shaped kernel, with the amount of smoothing controlled by a parameter b."
   ]
  },
  {
   "cell_type": "code",
   "execution_count": null,
   "id": "49119cf8",
   "metadata": {},
   "outputs": [],
   "source": [
    "install.packages('muhaz')"
   ]
  },
  {
   "cell_type": "code",
   "execution_count": 91,
   "id": "9601a377",
   "metadata": {},
   "outputs": [],
   "source": [
    "library(muhaz)"
   ]
  },
  {
   "cell_type": "code",
   "execution_count": 95,
   "id": "f463e09c",
   "metadata": {},
   "outputs": [
    {
     "name": "stderr",
     "output_type": "stream",
     "text": [
      "Warning message in muhaz(t.vec, cens.vec, max.time = 8, bw.grid = 2.25, bw.method = \"global\", :\n",
      "\"maximum time > maximum Survival Time\n",
      "\n",
      "\"\n"
     ]
    },
    {
     "data": {
      "image/png": "[encoded data removed]",
      "text/plain": [
       "plot without title"
      ]
     },
     "metadata": {
      "image/png": {
       "height": 420,
       "width": 420
      }
     },
     "output_type": "display_data"
    }
   ],
   "source": [
    "# Table 1.1\n",
    "\n",
    "t.vec <- c(7,6,6,5,2,4)\n",
    "cens.vec <- c(0,1,0,0,1,1)\n",
    "\n",
    "result.simple <- muhaz(t.vec, cens.vec, max.time=8, bw.grid=2.25, \n",
    "                       bw.method=\"global\", b.cor=\"none\")\n",
    " plot(result.simple)\n",
    "\n",
    "# muhaz ( a, b, c, d, e, f)\n",
    "# a: failure times\n",
    "# b: censoring indicators, \n",
    "# c: maximum time, \n",
    "# d: smoothing parameter\n",
    "# e: a constant sommting paraketer is use for all times\n",
    "# f: \"none\": no boundary correction"
   ]
  },
  {
   "cell_type": "markdown",
   "id": "3a4ba20f",
   "metadata": {},
   "source": [
    "<font size=\"3\"> __Fig. 3.6__ Smoothed and step function estimates of the hazard function for the gastricXelox data"
   ]
  },
  {
   "cell_type": "code",
   "execution_count": 119,
   "id": "e4aca64d",
   "metadata": {},
   "outputs": [
    {
     "name": "stdout",
     "output_type": "stream",
     "text": [
      "\n",
      "max.time= 20\n",
      "width= 5\n",
      "nbins= 4\n",
      "\n",
      "max.time= 20\n",
      "width= 1\n",
      "nbins= 20\n"
     ]
    },
    {
     "data": {
      "image/png": "[encoded data removed]",
      "text/plain": [
       "plot without title"
      ]
     },
     "metadata": {
      "image/png": {
       "height": 420,
       "width": 420
      }
     },
     "output_type": "display_data"
    }
   ],
   "source": [
    "result.pe5 <- pehaz(timeMonths, delta, width=5, max.time=20)\n",
    "plot(result.pe5, ylim=c(0,0.15), col=\"black\", lwd=1.0)\n",
    "\n",
    "result.pe1 <- pehaz(timeMonths, delta, width=1, max.time=20)\n",
    "lines(result.pe1, lty=2, lwd=2.0)\n",
    "\n",
    "result.smooth <- muhaz(timeMonths, delta, bw.smooth=20,\n",
    "b.cor=\"left\", max.time=20)\n",
    "lines(result.smooth, lty=1, lwd=3.0)"
   ]
  },
  {
   "cell_type": "markdown",
   "id": "fd1e6533",
   "metadata": {},
   "source": [
    "<font size=\"3\"> __Fig. 3.7__ Kaplan-Meier and sommthed survival curve estimate for the \"gasticXelox\" dataset"
   ]
  },
  {
   "cell_type": "code",
   "execution_count": 120,
   "id": "7f79aa81",
   "metadata": {},
   "outputs": [],
   "source": [
    "haz <- result.smooth$haz.est\n",
    "times <- result.smooth$est.grid\n",
    "surv <- exp(-cumsum(haz[1:(length(haz)-1)]*diff(times)))"
   ]
  },
  {
   "cell_type": "code",
   "execution_count": 121,
   "id": "9b67a455",
   "metadata": {},
   "outputs": [
    {
     "data": {
      "image/png": "[encoded data removed]",
      "text/plain": [
       "plot without title"
      ]
     },
     "metadata": {
      "image/png": {
       "height": 420,
       "width": 420
      }
     },
     "output_type": "display_data"
    }
   ],
   "source": [
    "result.km <- survfit(Surv(timeMonths, delta) ~ 1,\n",
    "conf.type=\"none\")\n",
    "plot(result.km, conf.int=F, mark=\"|\", xlab=\"Time in months\",\n",
    "xlim=c(0,30), ylab=\"Survival probability\")\n",
    "lines(surv ~ times[1:(length(times) - 1)])\n"
   ]
  },
  {
   "cell_type": "markdown",
   "id": "2cd77dce",
   "metadata": {},
   "source": [
    "## 3.5 Left Truncation"
   ]
  },
  {
   "cell_type": "markdown",
   "id": "7febe864",
   "metadata": {},
   "source": []
  },
  {
   "cell_type": "code",
   "execution_count": 122,
   "id": "24832d3d",
   "metadata": {},
   "outputs": [
    {
     "data": {
      "text/plain": [
       "Call: survfit(formula = Surv(tm.enter, tm.exit, status, type = \"counting\") ~ \n",
       "    1, conf.type = \"none\")\n",
       "\n",
       " time n.risk n.event censored survival std.err\n",
       "    4      4       1        0    0.750   0.217\n",
       "    9      4       1        3    0.562   0.230\n",
       "   11      1       1        0    0.000     NaN"
      ]
     },
     "metadata": {},
     "output_type": "display_data"
    }
   ],
   "source": [
    "tt <- c(7, 6, 6, 5, 2, 4)\n",
    "status <- c(0, 1, 0, 0, 1, 1)\n",
    "backTime <- c(-2, -5, -3, -3, -2, -5)\n",
    "tm.enter <- -backTime\n",
    "tm.exit <- tt - backTime\n",
    "result.left.trunc.km <- survfit(Surv(tm.enter, tm.exit, status, type=\"counting\") ~ 1, \n",
    "                                conf.type=\"none\")\n",
    "summary(result.left.trunc.km)"
   ]
  },
  {
   "cell_type": "code",
   "execution_count": 131,
   "id": "bab6b360",
   "metadata": {
    "scrolled": true
   },
   "outputs": [
    {
     "data": {
      "text/plain": [
       "Call: survfit(formula = Surv(tm.enter, tm.exit, status, type = \"counting\") ~ \n",
       "    1, type = \"fleming-harrington\", conf.type = \"none\")\n",
       "\n",
       " time n.risk n.event censored survival std.err\n",
       "    4      4       1        0    0.779   0.195\n",
       "    9      4       1        3    0.607   0.214\n",
       "   11      1       1        0    0.223   0.237"
      ]
     },
     "metadata": {},
     "output_type": "display_data"
    }
   ],
   "source": [
    "result.left.trunc.naa <- survfit(Surv(tm.enter, tm.exit, status, type=\"counting\") ~ 1, \n",
    "                                 type=\"fleming-harrington\", conf.type=\"none\")\n",
    "summary(result.left.trunc.naa)\n",
    "\n",
    "# tm.enter: the left truncation\n",
    "# tm.exit: survival time\n",
    "# status: event variable"
   ]
  },
  {
   "cell_type": "markdown",
   "id": "2df23803",
   "metadata": {},
   "source": [
    "<font size=\"3\"> __Fig. 3.10__ Estimates of the survival (i.e. age at death) function for men entering the Channing\n",
    "House. The black curve is the Kaplan-Meier estimate, accounting for age at entry as a left\n",
    "truncation time, and the blue curve is the corresponding Nelson-Altschuler-Aalen estimator. The\n",
    "green curve is the Kaplan-Meier estimate, also accounting for left truncation, of the survival\n",
    "distribution conditional on living to age 68\n"
   ]
  },
  {
   "cell_type": "markdown",
   "id": "cc823cf5",
   "metadata": {},
   "source": [
    "__Consider the Channing House data.__"
   ]
  },
  {
   "cell_type": "code",
   "execution_count": 133,
   "id": "9371166b",
   "metadata": {},
   "outputs": [
    {
     "data": {
      "text/html": [
       "<table class=\"dataframe\">\n",
       "<caption>A data.frame: 6 × 7</caption>\n",
       "<thead>\n",
       "\t<tr><th></th><th scope=col>sex</th><th scope=col>entry</th><th scope=col>exit</th><th scope=col>time</th><th scope=col>cens</th><th scope=col>exitYears</th><th scope=col>entryYears</th></tr>\n",
       "\t<tr><th></th><th scope=col>&lt;fct&gt;</th><th scope=col>&lt;int&gt;</th><th scope=col>&lt;int&gt;</th><th scope=col>&lt;int&gt;</th><th scope=col>&lt;int&gt;</th><th scope=col>&lt;dbl&gt;</th><th scope=col>&lt;dbl&gt;</th></tr>\n",
       "</thead>\n",
       "<tbody>\n",
       "\t<tr><th scope=row>1</th><td>Male</td><td> 782</td><td> 909</td><td>127</td><td>1</td><td>75.75000</td><td>65.16667</td></tr>\n",
       "\t<tr><th scope=row>2</th><td>Male</td><td>1020</td><td>1128</td><td>108</td><td>1</td><td>94.00000</td><td>85.00000</td></tr>\n",
       "\t<tr><th scope=row>3</th><td>Male</td><td> 856</td><td> 969</td><td>113</td><td>1</td><td>80.75000</td><td>71.33333</td></tr>\n",
       "\t<tr><th scope=row>4</th><td>Male</td><td> 915</td><td> 957</td><td> 42</td><td>1</td><td>79.75000</td><td>76.25000</td></tr>\n",
       "\t<tr><th scope=row>5</th><td>Male</td><td> 863</td><td> 983</td><td>120</td><td>1</td><td>81.91667</td><td>71.91667</td></tr>\n",
       "\t<tr><th scope=row>6</th><td>Male</td><td> 906</td><td>1012</td><td>106</td><td>1</td><td>84.33333</td><td>75.50000</td></tr>\n",
       "</tbody>\n",
       "</table>\n"
      ],
      "text/latex": [
       "A data.frame: 6 × 7\n",
       "\\begin{tabular}{r|lllllll}\n",
       "  & sex & entry & exit & time & cens & exitYears & entryYears\\\\\n",
       "  & <fct> & <int> & <int> & <int> & <int> & <dbl> & <dbl>\\\\\n",
       "\\hline\n",
       "\t1 & Male &  782 &  909 & 127 & 1 & 75.75000 & 65.16667\\\\\n",
       "\t2 & Male & 1020 & 1128 & 108 & 1 & 94.00000 & 85.00000\\\\\n",
       "\t3 & Male &  856 &  969 & 113 & 1 & 80.75000 & 71.33333\\\\\n",
       "\t4 & Male &  915 &  957 &  42 & 1 & 79.75000 & 76.25000\\\\\n",
       "\t5 & Male &  863 &  983 & 120 & 1 & 81.91667 & 71.91667\\\\\n",
       "\t6 & Male &  906 & 1012 & 106 & 1 & 84.33333 & 75.50000\\\\\n",
       "\\end{tabular}\n"
      ],
      "text/markdown": [
       "\n",
       "A data.frame: 6 × 7\n",
       "\n",
       "| <!--/--> | sex &lt;fct&gt; | entry &lt;int&gt; | exit &lt;int&gt; | time &lt;int&gt; | cens &lt;int&gt; | exitYears &lt;dbl&gt; | entryYears &lt;dbl&gt; |\n",
       "|---|---|---|---|---|---|---|---|\n",
       "| 1 | Male |  782 |  909 | 127 | 1 | 75.75000 | 65.16667 |\n",
       "| 2 | Male | 1020 | 1128 | 108 | 1 | 94.00000 | 85.00000 |\n",
       "| 3 | Male |  856 |  969 | 113 | 1 | 80.75000 | 71.33333 |\n",
       "| 4 | Male |  915 |  957 |  42 | 1 | 79.75000 | 76.25000 |\n",
       "| 5 | Male |  863 |  983 | 120 | 1 | 81.91667 | 71.91667 |\n",
       "| 6 | Male |  906 | 1012 | 106 | 1 | 84.33333 | 75.50000 |\n",
       "\n"
      ],
      "text/plain": [
       "  sex  entry exit time cens exitYears entryYears\n",
       "1 Male  782   909 127  1    75.75000  65.16667  \n",
       "2 Male 1020  1128 108  1    94.00000  85.00000  \n",
       "3 Male  856   969 113  1    80.75000  71.33333  \n",
       "4 Male  915   957  42  1    79.75000  76.25000  \n",
       "5 Male  863   983 120  1    81.91667  71.91667  \n",
       "6 Male  906  1012 106  1    84.33333  75.50000  "
      ]
     },
     "metadata": {},
     "output_type": "display_data"
    }
   ],
   "source": [
    "head(ChanningHouse)"
   ]
  },
  {
   "cell_type": "code",
   "execution_count": 134,
   "id": "e7b53080",
   "metadata": {},
   "outputs": [],
   "source": [
    "ChanningHouse <- within(ChanningHouse, {\n",
    "                                        entryYears <- entry/12\n",
    "                                        exitYears <- exit/12})\n",
    "ChanningMales <- ChanningHouse[ChanningHouse$sex == \"Male\",]"
   ]
  },
  {
   "cell_type": "markdown",
   "id": "8e5b68b9",
   "metadata": {},
   "source": [
    "We estimate the survival diatribution for men using first the Kaplan-Meier estimate and then the Nelson-Altschuer-Aalen estimaor, and plot them. The function in the code “Surv” combines the left truncation time, the death (or censoring) time, and the censoring variable into a single survival variable."
   ]
  },
  {
   "cell_type": "code",
   "execution_count": 137,
   "id": "b8b9aab3",
   "metadata": {
    "scrolled": false
   },
   "outputs": [
    {
     "data": {
      "image/png": "[encoded data removed]",
      "text/plain": [
       "plot without title"
      ]
     },
     "metadata": {
      "image/png": {
       "height": 420,
       "width": 420
      }
     },
     "output_type": "display_data"
    }
   ],
   "source": [
    "result.km <- survfit(Surv(entryYears, exitYears, cens, type=\"counting\") ~ 1, data=ChanningMales)\n",
    "plot(result.km, xlim=c(64, 101), ylim=c(0,1), xlab=\"Age\", ylab=\"Survival probability\", conf.int=F)\n",
    "\n",
    "result.naa <- survfit(Surv(entryYears, exitYears, cens, type=\"counting\") ~ 1, type=\"fleming-harrington\",\n",
    "data=ChanningMales)\n",
    "lines(result.naa, col=\"blue\", conf.int=F)\n",
    "\n",
    "result.km.68 <- survfit(Surv(entryYears, exitYears, cens, type=\"counting\") ~ 1, start.time=68, data=ChanningMales)\n",
    "lines(result.km.68, col=\"green\", conf.int=F)\n",
    "\n",
    "legend(\"topright\", legend=c(\"KM\", \"NAA\", \"KM 68 and older\"), lty=1, col=c(\"black\", \"blue\", \"green\"))"
   ]
  },
  {
   "cell_type": "code",
   "execution_count": null,
   "id": "a6aadd98",
   "metadata": {},
   "outputs": [],
   "source": []
  }
 ],
 "metadata": {
  "kernelspec": {
   "display_name": "R",
   "language": "R",
   "name": "ir"
  },
  "language_info": {
   "codemirror_mode": "r",
   "file_extension": ".r",
   "mimetype": "text/x-r-source",
   "name": "R",
   "pygments_lexer": "r",
   "version": "4.1.3"
  }
 },
 "nbformat": 4,
 "nbformat_minor": 5
}
